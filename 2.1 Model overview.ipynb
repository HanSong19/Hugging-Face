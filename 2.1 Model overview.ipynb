{
  "nbformat": 4,
  "nbformat_minor": 0,
  "metadata": {
    "colab": {
      "provenance": [],
      "authorship_tag": "ABX9TyNRdVJprvrMtILUI9NO9N7/",
      "include_colab_link": true
    },
    "kernelspec": {
      "name": "python3",
      "display_name": "Python 3"
    },
    "language_info": {
      "name": "python"
    }
  },
  "cells": [
    {
      "cell_type": "markdown",
      "metadata": {
        "id": "view-in-github",
        "colab_type": "text"
      },
      "source": [
        "<a href=\"https://colab.research.google.com/github/HanSong19/Hugging-Face/blob/main/2.1%20Model%20overview.ipynb\" target=\"_parent\"><img src=\"https://colab.research.google.com/assets/colab-badge.svg\" alt=\"Open In Colab\"/></a>"
      ]
    },
    {
      "cell_type": "code",
      "execution_count": 1,
      "metadata": {
        "colab": {
          "base_uri": "https://localhost:8080/"
        },
        "id": "IjyzywyEAdoR",
        "outputId": "c4b0bc36-608c-4ccc-da05-485de83f8687"
      },
      "outputs": [
        {
          "output_type": "stream",
          "name": "stdout",
          "text": [
            "Collecting datasets\n",
            "  Downloading datasets-2.14.3-py3-none-any.whl (519 kB)\n",
            "\u001b[2K     \u001b[90m━━━━━━━━━━━━━━━━━━━━━━━━━━━━━━━━━━━━━━━\u001b[0m \u001b[32m519.1/519.1 kB\u001b[0m \u001b[31m4.9 MB/s\u001b[0m eta \u001b[36m0:00:00\u001b[0m\n",
            "\u001b[?25hCollecting evaluate\n",
            "  Downloading evaluate-0.4.0-py3-none-any.whl (81 kB)\n",
            "\u001b[2K     \u001b[90m━━━━━━━━━━━━━━━━━━━━━━━━━━━━━━━━━━━━━━━━\u001b[0m \u001b[32m81.4/81.4 kB\u001b[0m \u001b[31m7.6 MB/s\u001b[0m eta \u001b[36m0:00:00\u001b[0m\n",
            "\u001b[?25hCollecting transformers[sentencepiece]\n",
            "  Downloading transformers-4.31.0-py3-none-any.whl (7.4 MB)\n",
            "\u001b[2K     \u001b[90m━━━━━━━━━━━━━━━━━━━━━━━━━━━━━━━━━━━━━━━━\u001b[0m \u001b[32m7.4/7.4 MB\u001b[0m \u001b[31m22.9 MB/s\u001b[0m eta \u001b[36m0:00:00\u001b[0m\n",
            "\u001b[?25hRequirement already satisfied: numpy>=1.17 in /usr/local/lib/python3.10/dist-packages (from datasets) (1.22.4)\n",
            "Requirement already satisfied: pyarrow>=8.0.0 in /usr/local/lib/python3.10/dist-packages (from datasets) (9.0.0)\n",
            "Collecting dill<0.3.8,>=0.3.0 (from datasets)\n",
            "  Downloading dill-0.3.7-py3-none-any.whl (115 kB)\n",
            "\u001b[2K     \u001b[90m━━━━━━━━━━━━━━━━━━━━━━━━━━━━━━━━━━━━━━\u001b[0m \u001b[32m115.3/115.3 kB\u001b[0m \u001b[31m10.0 MB/s\u001b[0m eta \u001b[36m0:00:00\u001b[0m\n",
            "\u001b[?25hRequirement already satisfied: pandas in /usr/local/lib/python3.10/dist-packages (from datasets) (1.5.3)\n",
            "Requirement already satisfied: requests>=2.19.0 in /usr/local/lib/python3.10/dist-packages (from datasets) (2.27.1)\n",
            "Requirement already satisfied: tqdm>=4.62.1 in /usr/local/lib/python3.10/dist-packages (from datasets) (4.65.0)\n",
            "Collecting xxhash (from datasets)\n",
            "  Downloading xxhash-3.3.0-cp310-cp310-manylinux_2_17_x86_64.manylinux2014_x86_64.whl (194 kB)\n",
            "\u001b[2K     \u001b[90m━━━━━━━━━━━━━━━━━━━━━━━━━━━━━━━━━━━━━━\u001b[0m \u001b[32m194.1/194.1 kB\u001b[0m \u001b[31m10.0 MB/s\u001b[0m eta \u001b[36m0:00:00\u001b[0m\n",
            "\u001b[?25hCollecting multiprocess (from datasets)\n",
            "  Downloading multiprocess-0.70.15-py310-none-any.whl (134 kB)\n",
            "\u001b[2K     \u001b[90m━━━━━━━━━━━━━━━━━━━━━━━━━━━━━━━━━━━━━━━\u001b[0m \u001b[32m134.8/134.8 kB\u001b[0m \u001b[31m7.8 MB/s\u001b[0m eta \u001b[36m0:00:00\u001b[0m\n",
            "\u001b[?25hRequirement already satisfied: fsspec[http]>=2021.11.1 in /usr/local/lib/python3.10/dist-packages (from datasets) (2023.6.0)\n",
            "Requirement already satisfied: aiohttp in /usr/local/lib/python3.10/dist-packages (from datasets) (3.8.5)\n",
            "Collecting huggingface-hub<1.0.0,>=0.14.0 (from datasets)\n",
            "  Downloading huggingface_hub-0.16.4-py3-none-any.whl (268 kB)\n",
            "\u001b[2K     \u001b[90m━━━━━━━━━━━━━━━━━━━━━━━━━━━━━━━━━━━━━━\u001b[0m \u001b[32m268.8/268.8 kB\u001b[0m \u001b[31m10.7 MB/s\u001b[0m eta \u001b[36m0:00:00\u001b[0m\n",
            "\u001b[?25hRequirement already satisfied: packaging in /usr/local/lib/python3.10/dist-packages (from datasets) (23.1)\n",
            "Requirement already satisfied: pyyaml>=5.1 in /usr/local/lib/python3.10/dist-packages (from datasets) (6.0.1)\n",
            "Collecting responses<0.19 (from evaluate)\n",
            "  Downloading responses-0.18.0-py3-none-any.whl (38 kB)\n",
            "Requirement already satisfied: filelock in /usr/local/lib/python3.10/dist-packages (from transformers[sentencepiece]) (3.12.2)\n",
            "Requirement already satisfied: regex!=2019.12.17 in /usr/local/lib/python3.10/dist-packages (from transformers[sentencepiece]) (2022.10.31)\n",
            "Collecting tokenizers!=0.11.3,<0.14,>=0.11.1 (from transformers[sentencepiece])\n",
            "  Downloading tokenizers-0.13.3-cp310-cp310-manylinux_2_17_x86_64.manylinux2014_x86_64.whl (7.8 MB)\n",
            "\u001b[2K     \u001b[90m━━━━━━━━━━━━━━━━━━━━━━━━━━━━━━━━━━━━━━━━\u001b[0m \u001b[32m7.8/7.8 MB\u001b[0m \u001b[31m41.5 MB/s\u001b[0m eta \u001b[36m0:00:00\u001b[0m\n",
            "\u001b[?25hCollecting safetensors>=0.3.1 (from transformers[sentencepiece])\n",
            "  Downloading safetensors-0.3.1-cp310-cp310-manylinux_2_17_x86_64.manylinux2014_x86_64.whl (1.3 MB)\n",
            "\u001b[2K     \u001b[90m━━━━━━━━━━━━━━━━━━━━━━━━━━━━━━━━━━━━━━━━\u001b[0m \u001b[32m1.3/1.3 MB\u001b[0m \u001b[31m35.5 MB/s\u001b[0m eta \u001b[36m0:00:00\u001b[0m\n",
            "\u001b[?25hCollecting sentencepiece!=0.1.92,>=0.1.91 (from transformers[sentencepiece])\n",
            "  Downloading sentencepiece-0.1.99-cp310-cp310-manylinux_2_17_x86_64.manylinux2014_x86_64.whl (1.3 MB)\n",
            "\u001b[2K     \u001b[90m━━━━━━━━━━━━━━━━━━━━━━━━━━━━━━━━━━━━━━━━\u001b[0m \u001b[32m1.3/1.3 MB\u001b[0m \u001b[31m27.9 MB/s\u001b[0m eta \u001b[36m0:00:00\u001b[0m\n",
            "\u001b[?25hRequirement already satisfied: protobuf in /usr/local/lib/python3.10/dist-packages (from transformers[sentencepiece]) (3.20.3)\n",
            "Requirement already satisfied: attrs>=17.3.0 in /usr/local/lib/python3.10/dist-packages (from aiohttp->datasets) (23.1.0)\n",
            "Requirement already satisfied: charset-normalizer<4.0,>=2.0 in /usr/local/lib/python3.10/dist-packages (from aiohttp->datasets) (2.0.12)\n",
            "Requirement already satisfied: multidict<7.0,>=4.5 in /usr/local/lib/python3.10/dist-packages (from aiohttp->datasets) (6.0.4)\n",
            "Requirement already satisfied: async-timeout<5.0,>=4.0.0a3 in /usr/local/lib/python3.10/dist-packages (from aiohttp->datasets) (4.0.2)\n",
            "Requirement already satisfied: yarl<2.0,>=1.0 in /usr/local/lib/python3.10/dist-packages (from aiohttp->datasets) (1.9.2)\n",
            "Requirement already satisfied: frozenlist>=1.1.1 in /usr/local/lib/python3.10/dist-packages (from aiohttp->datasets) (1.4.0)\n",
            "Requirement already satisfied: aiosignal>=1.1.2 in /usr/local/lib/python3.10/dist-packages (from aiohttp->datasets) (1.3.1)\n",
            "Requirement already satisfied: typing-extensions>=3.7.4.3 in /usr/local/lib/python3.10/dist-packages (from huggingface-hub<1.0.0,>=0.14.0->datasets) (4.7.1)\n",
            "Requirement already satisfied: urllib3<1.27,>=1.21.1 in /usr/local/lib/python3.10/dist-packages (from requests>=2.19.0->datasets) (1.26.16)\n",
            "Requirement already satisfied: certifi>=2017.4.17 in /usr/local/lib/python3.10/dist-packages (from requests>=2.19.0->datasets) (2023.7.22)\n",
            "Requirement already satisfied: idna<4,>=2.5 in /usr/local/lib/python3.10/dist-packages (from requests>=2.19.0->datasets) (3.4)\n",
            "Requirement already satisfied: python-dateutil>=2.8.1 in /usr/local/lib/python3.10/dist-packages (from pandas->datasets) (2.8.2)\n",
            "Requirement already satisfied: pytz>=2020.1 in /usr/local/lib/python3.10/dist-packages (from pandas->datasets) (2022.7.1)\n",
            "Requirement already satisfied: six>=1.5 in /usr/local/lib/python3.10/dist-packages (from python-dateutil>=2.8.1->pandas->datasets) (1.16.0)\n",
            "Installing collected packages: tokenizers, sentencepiece, safetensors, xxhash, dill, responses, multiprocess, huggingface-hub, transformers, datasets, evaluate\n",
            "Successfully installed datasets-2.14.3 dill-0.3.7 evaluate-0.4.0 huggingface-hub-0.16.4 multiprocess-0.70.15 responses-0.18.0 safetensors-0.3.1 sentencepiece-0.1.99 tokenizers-0.13.3 transformers-4.31.0 xxhash-3.3.0\n"
          ]
        }
      ],
      "source": [
        "!pip install datasets evaluate transformers[sentencepiece]"
      ]
    },
    {
      "cell_type": "markdown",
      "source": [
        "##1. Tokenizer\n",
        "\n",
        "### Split sentences/texts into a unit and match each toketn to an integer\n",
        "import AutoTokenizer class from Transformer\n",
        "use the from_pretrained() method.  \n",
        "Checkpoint: \"distilbert-base-uncased-finetuned-sst-2-english\"\n",
        "-> This will automatically fetch the data and cache it.  \n",
        "Output is a dictionary containing 1) input ids and 2) attention_mastk.  \n"
      ],
      "metadata": {
        "id": "DQh2F4r0AluD"
      }
    },
    {
      "cell_type": "code",
      "source": [
        "from transformers import AutoTokenizer\n",
        "\n",
        "checkpoint= \"distilbert-base-uncased-finetuned-sst-2-english\"\n",
        "Tokenizer = AutoTokenizer.from_pretrained(checkpoint)\n",
        "raw_inputs = [\"I've been waiting for a HuggingFace course my whole life.\",\n",
        "    \"I hate this so much!\",]\n",
        "inputs = Tokenizer(raw_inputs, padding = True, truncation= True, return_tensors='pt')\n",
        "print(inputs)"
      ],
      "metadata": {
        "colab": {
          "base_uri": "https://localhost:8080/"
        },
        "id": "VqGD9dreAhdK",
        "outputId": "091343cb-ea91-45ca-801f-9a33ea9309ee"
      },
      "execution_count": 5,
      "outputs": [
        {
          "output_type": "stream",
          "name": "stdout",
          "text": [
            "{'input_ids': tensor([[  101,  1045,  1005,  2310,  2042,  3403,  2005,  1037, 17662, 12172,\n",
            "          2607,  2026,  2878,  2166,  1012,   102],\n",
            "        [  101,  1045,  5223,  2023,  2061,  2172,   999,   102,     0,     0,\n",
            "             0,     0,     0,     0,     0,     0]]), 'attention_mask': tensor([[1, 1, 1, 1, 1, 1, 1, 1, 1, 1, 1, 1, 1, 1, 1, 1],\n",
            "        [1, 1, 1, 1, 1, 1, 1, 1, 0, 0, 0, 0, 0, 0, 0, 0]])}\n"
          ]
        }
      ]
    },
    {
      "cell_type": "markdown",
      "source": [
        "##2. Model\n",
        "##2.1 hidden state\n",
        "### Take the tokenized input and produce a high-dimensional vector (hidden states/ feature) that shows the contextual information of the input. These hidden states (high-dimensional vectors) becomes an input of the Head.\n",
        "\n",
        "##2.2 model head\n",
        "### The model is represented by embeddings and layers. Embedding converts each input ID from tokenization into a vector that represents the token. The subsequent layer manipulate these vectors using attention mechanism to produce the final representation of the sentence.\n",
        "\n",
        "###The hidden stages (hig-dimentional vector) from the model sent directly to the model head and acts as the input. The model head projects this input to another dimension.\n",
        "\n",
        "![image.png](data:image/png;base64,iVBORw0KGgoAAAANSUhEUgAABy8AAALsCAYAAABa//scAAAMP2lDQ1BJQ0MgUHJvZmlsZQAASImVVwdYU8kWnluSkEBoAQSkhN4EkRpASggt9N5EJSQBQokxEFTs6KKCaxcL2NBVEQUrzYIidhbF3hcLKsq6WLArb1JA133le/N9c+e//5z5z5lz5965A4DacY5IlIeqA5AvLBTHBvvTk1NS6aSnAAc0AIARsOdwC0TM6OhweAeG2r+Xd9cBIm2v2Eu1/tn/X4sGj1/ABQCJhjiDV8DNh/ggAHgVVyQuBIAo5c2mFIqkGFagJYYBQrxQirPkuEqKM+R4r8wmPpYFcTsASiocjjgLANVLkKcXcbOghmo/xI5CnkAIgBodYp/8/Ek8iNMhtoY2Ioil+oyMH3Sy/qaZMazJ4WQNY/lcZEUpQFAgyuNM+z/T8b9Lfp5kyIclrCrZ4pBY6Zxh3m7mTgqTYhWI+4QZkVEQa0L8QcCT2UOMUrIlIQlye9SAW8CCOQM6EDvyOAFhEBtAHCTMiwxX8BmZgiA2xHCFoFMFhex4iHUhXsgvCIxT2GwWT4pV+EIbMsUspoI/yxHL/Ep93ZfkJjAV+q+z+WyFPqZanB2fBDEFYvMiQWIkxKoQOxTkxoUpbMYWZ7Mih2zEklhp/OYQx/KFwf5yfawoUxwUq7Avyy8Ymi+2OVvAjlTg/YXZ8SHy/GDtXI4sfjgX7BJfyEwY0uEXJIcPzYXHDwiUzx17xhcmxCl0PogK/WPlY3GKKC9aYY+b8vOCpbwpxC4FRXGKsXhiIVyQcn08U1QYHS+PEy/O4YRGy+PBl4FwwAIBgA4ksGaASSAHCDr7GvvgnbwnCHCAGGQBPrBXMEMjkmQ9QniNA8XgT4j4oGB4nL+slw+KIP91mJVf7UGmrLdINiIXPIE4H4SBPHgvkY0SDntLBI8hI/iHdw6sXBhvHqzS/n/PD7HfGSZkwhWMZMgjXW3IkhhIDCCGEIOINrg+7oN74eHw6gerE87APYbm8d2e8ITQRXhIuEboJtyaKCgR/xRlBOiG+kGKXGT8mAvcEmq64v64N1SHyrgOrg/scRfoh4n7Qs+ukGUp4pZmhf6T9t9m8MPTUNiRHckoeQTZj2z980hVW1XXYRVprn/MjzzWjOF8s4Z7fvbP+iH7PNiG/WyJLcQOYGewE9g57AjWCOhYK9aEdWBHpXh4dT2Wra4hb7GyeHKhjuAf/oaerDSTBY61jr2OX+R9hfyp0m80YE0STRMLsrIL6Uy4I/DpbCHXYRTdydHJGQDp/iL/fL2Jke0biE7Hd27eHwB4tw4ODh7+zoW2ArDPHb7+zd85awbcOpQBONvMlYiL5BwuvRDgV0INvml6cO8yA9ZwPk7ADXgBPxAIQkEUiAcpYAKMPhuuczGYAmaAuaAUlINlYDVYDzaBrWAn2AP2g0ZwBJwAp8EFcAlcA3fg6ukBL0A/eAc+IwhCQqgIDdFDjBELxA5xQhiIDxKIhCOxSAqSjmQhQkSCzEDmIeXICmQ9sgWpQfYhzcgJ5BzShdxCHiC9yGvkE4qhKqgWaohaoqNRBspEw9B4dDyahU5Gi9H56BJ0LVqN7kYb0BPoBfQa2o2+QAcwgCljOpgJZo8xMBYWhaVimZgYm4WVYRVYNVaHtcDnfAXrxvqwjzgRp+F03B6u4BA8Aefik/FZ+GJ8Pb4Tb8Db8Sv4A7wf/0agEgwIdgRPApuQTMgiTCGUEioI2wmHCKfgu9RDeEckEnWIVkR3+C6mEHOI04mLiRuI9cTjxC7iI+IAiUTSI9mRvElRJA6pkFRKWkfaTWolXSb1kD4oKSsZKzkpBSmlKgmVSpQqlHYpHVO6rPRU6TNZnWxB9iRHkXnkaeSl5G3kFvJFcg/5M0WDYkXxpsRTcihzKWspdZRTlLuUN8rKyqbKHsoxygLlOcprlfcqn1V+oPxRRVPFVoWlkqYiUVmiskPluMotlTdUKtWS6kdNpRZSl1BrqCep96kfVGmqDqpsVZ7qbNVK1QbVy6ov1chqFmpMtQlqxWoVagfULqr1qZPVLdVZ6hz1WeqV6s3qN9QHNGgaYzSiNPI1Fmvs0jin8UyTpGmpGajJ05yvuVXzpOYjGkYzo7FoXNo82jbaKVqPFlHLSoutlaNVrrVHq1OrX1tT20U7UXuqdqX2Ue1uHUzHUoetk6ezVGe/znWdTyMMRzBH8EcsGlE34vKI97ojdf10+bpluvW613Q/6dH1AvVy9ZbrNerd08f1bfVj9Kfob9Q/pd83Umuk10juyLKR+0feNkANbA1iDaYbbDXoMBgwNDIMNhQZrjM8adhnpGPkZ5RjtMromFGvMc3Yx1hgvMq41fg5XZvOpOfR19Lb6f0mBiYhJhKTLSadJp9NrUwTTEtM603vmVHMGGaZZqvM2sz6zY3NI8xnmNea37YgWzAssi3WWJyxeG9pZZlkucCy0fKZla4V26rYqtbqrjXV2td6snW19VUbog3DJtdmg80lW9TW1TbbttL2oh1q52YnsNtg1zWKMMpjlHBU9agb9ir2TPsi+1r7Bw46DuEOJQ6NDi9Hm49OHb189JnR3xxdHfMctzneGaM5JnRMyZiWMa+dbJ24TpVOV52pzkHOs52bnF+52LnwXTa63HSluUa4LnBtc/3q5u4mdqtz63U3d093r3K/wdBiRDMWM856EDz8PWZ7HPH46OnmWei53/MvL3uvXK9dXs/GWo3lj9029pG3qTfHe4t3tw/dJ91ns0+3r4kvx7fa96GfmR/Pb7vfU6YNM4e5m/nS39Ff7H/I/z3LkzWTdTwACwgOKAvoDNQMTAhcH3g/yDQoK6g2qD/YNXh68PEQQkhYyPKQG2xDNpddw+4PdQ+dGdoephIWF7Y+7GG4bbg4vCUCjQiNWBlxN9IiUhjZGAWi2FEro+5FW0VPjj4cQ4yJjqmMeRI7JnZG7Jk4WtzEuF1x7+L945fG30mwTpAktCWqJaYl1iS+TwpIWpHUnTw6eWbyhRT9FEFKUyopNTF1e+rAuMBxq8f1pLmmlaZdH281fur4cxP0J+RNODpRbSJn4oF0QnpS+q70L5woTjVnIIOdUZXRz2Vx13Bf8Px4q3i9fG/+Cv7TTO/MFZnPsryzVmb1ZvtmV2T3CViC9YJXOSE5m3Le50bl7sgdzEvKq89Xyk/PbxZqCnOF7ZOMJk2d1CWyE5WKuid7Tl49uV8cJt5egBSML2gq1II/8h0Sa8kvkgdFPkWVRR+mJE45MFVjqnBqxzTbaYumPS0OKv5tOj6dO71thsmMuTMezGTO3DILmZUxq2222ez5s3vmBM/ZOZcyN3fu7yWOJStK3s5Lmtcy33D+nPmPfgn+pbZUtVRcemOB14JNC/GFgoWdi5wXrVv0rYxXdr7csbyi/Mti7uLzv475de2vg0syl3QudVu6cRlxmXDZ9eW+y3eu0FhRvOLRyoiVDavoq8pWvV09cfW5CpeKTWsoayRruteGr21aZ75u2bov67PXX6v0r6yvMqhaVPV+A2/D5Y1+G+s2GW4q3/Rps2DzzS3BWxqqLasrthK3Fm19si1x25nfGL/VbNffXr796w7hju6dsTvba9xranYZ7Fpai9ZKant3p+2+tCdgT1Odfd2Wep368r1gr2Tv833p+67vD9vfdoBxoO6gxcGqQ7RDZQ1Iw7SG/sbsxu6mlKau5tDmthavlkOHHQ7vOGJypPKo9tGlxyjH5h8bbC1uHTguOt53IuvEo7aJbXdOJp+82h7T3nkq7NTZ00GnT55hnmk96332yDnPc83nGecbL7hdaOhw7Tj0u+vvhzrdOhsuul9suuRxqaVrbNexy76XT1wJuHL6KvvqhWuR17quJ1y/eSPtRvdN3s1nt/JuvbpddPvznTl3CXfL7qnfq7hvcL/6D5s/6rvduo8+CHjQ8TDu4Z1H3EcvHhc8/tIz/wn1ScVT46c1z5yeHekN6r30fNzznheiF5/7Sv/U+LPqpfXLg3/5/dXRn9zf80r8avD14jd6b3a8dXnbNhA9cP9d/rvP78s+6H3Y+ZHx8cynpE9PP0/5Qvqy9qvN15ZvYd/uDuYPDoo4Yo7sVwCDFc3MBOD1DgCoKQDQ4PmMMk5+/pMVRH5mlSHwn7D8jCgrbgDUwf/3mD74d3MDgL3b4PEL6qulARBNBSDeA6DOzsN16KwmO1dKCxGeAzYHf83IzwD/psjPnD/E/XMLpKou4Of2X2wXfGN3JYnwAAAAOGVYSWZNTQAqAAAACAABh2kABAAAAAEAAAAaAAAAAAACoAIABAAAAAEAAAcvoAMABAAAAAEAAALsAAAAAMnP3akAAEAASURBVHgB7N0HmCRHeTD+2sv5TtIpgyKSAQECTBQ5CQFCJFsiZwyY9IfPGAPGn8jYgMEYCduA+TAZgcjJmCghIcAIBYSQUEbppJMu57v919uzvezu3fbdhunpmfnV8+zOTFd3V/WvekL321U9MJhTkggQIECAAAECBAgQIECAAAECBAgQIECAAAECBAgQINBhgRkdLl/xBAgQIECAAAECBAgQIECAAAECBAgQIECAAAECBAgQKAQEL+0IBAgQIECAAAECBAgQIECAAAECBAgQIECAAAECBAg0QkDwshHNoBIECBAgQIAAAQIECBAgQIAAAQIECBAgQIAAAQIECAhe2gcIECBAgAABAgQIECBAgAABAgQIECBAgAABAgQIEGiEgOBlI5pBJQgQIECAAAECBAgQIECAAAECBAgQIECAAAECBAgQELy0DxAgQIAAAQIECBAgQIAAAQIECBAgQIAAAQIECBAg0AgBwctGNINKECBAgAABAgQIECBAgAABAgQIECBAgAABAgQIECAgeGkfIECAAAECBAgQIECAAAECBAgQIECAAAECBAgQIECgEQKCl41oBpUgQIAAAQIECBAgQIAAAQIECBAgQIAAAQIECBAgQEDw0j5AgAABAgQIECBAgAABAgQIECBAgAABAgQIECBAgEAjBAQvG9EMKkGAAAECBAgQIECAAAECBAgQIECAAAECBAgQIECAgOClfYAAAQIECBAgQIAAAQIECBAgQIAAAQIECBAgQIAAgUYICF42ohlUggABAgQIECBAgAABAgQIECBAgAABAgQIECBAgAABwUv7AAECBAgQIECAAAECBAgQIECAAAECBAgQIECAAAECjRAQvGxEM6gEAQIECBAgQIAAAQIECBAgQIAAAQIECBAgQIAAAQKCl/YBAgQIECBAgAABAgQIECBAgAABAgQIECBAgAABAgQaISB42YhmUAkCBAgQIECAAAECBAgQIECAAAECBAgQIECAAAECBAQv7QMECBAgQIAAAQIECBAgQIAAAQIECBAgQIAAAQIECDRCQPCyEc2gEgQIECBAgAABAgQIECBAgAABAgQIECBAgAABAgQICF7aBwgQIECAAAECBAgQIECAAAECBAgQIECAAAECBAgQaISA4GUjmkElCBAgQIAAAQLNFLjlllvSySefnBYvXpwGBgbS6tWrm1lRtSoEXv7yl6e3ve1tNAgQIECAAAECBAgQIECAAAECXSswq2trruIECBAgQIAAgS4VuP7669Ozn/3sytq/4AUvSM997nMr56kj813velf6xje+kT7/+c+nGTNmpKVLl9ZRbFeVsWbNmvTrX/86PfzhD+94vX/1q1+lww8/vOP1UAECBAgQIECAAAECBAgQIECAwGQFBC8nK2c5AgQIECBAgMAkBebPn58e9rCHDS/9ne98J1100UXpb//2b4enHXroocPPO/nkrLPOSieeeGJ60pOe1MlqNLrs8847Lx1//PFp06ZNae7cuY2uq8oRIECAAAECBAgQIECAAAECBJouIHjZ9BZSPwIECBAgQKDnBPbee+906qmnDm/Xrbfemi677LJR04YzO/xk/fr1ad68eR2uRbOLX7lyZbMrqHYECBAgQIAAAQIECBAgQIAAgS4ScM/LLmosVSVAgAABAgT6S+CHP/xhetrTnpYiOPaoRz2quOfk5z73ubR27dr04Q9/OB111FHFtDvd6U7pQx/60Cicz3zmM+kVr3hFcY/KZz7zmcV8Rx55ZDH868gZr7rqqvT0pz89LV++vJjncY97XLrkkkuKWR7xiEek6667Lv3P//xPiuf/9V//NbzoO9/5znTccccV98J87GMfm77whS8M58WT3/zmN+mRj3xkWrduXXryk59crPsDH/hAMU+s64ILLkj/8R//kRYuXFjkvehFLyryfv7zn6eoZ/ROPemkk9KqVauK6SP/velNb0rHHntsWrJkSTrhhBPSjTfeOJx97bXXFnW9+eab04tf/OJi3X/3d383nF8+Ofvss9MTn/jE4uXrX//6Yr79998/vec97ylnGX688MILi/t+hlH0iP37v//74bxXv/rVw0HncIhti5600R7l+suZv/zlLxf5v//978tJKeoZy8Rwr2WKIXpjXXGf0TCOoXvHplgm2uktb3lLUfdTTjll7CzDr2P44dgXJAIECBAgQIAAAQIECBAgQIBANwgIXnZDK6kjAQIECBAg0JcCK1asSGeeeWYRxIv7KZ5xxhnpQQ96UHr/+99fPH/b296WfvSjHxX3xnzNa15TPC+hIoj3xS9+sQjy3fnOd05f+9rXUgQ5n/GMZ6QIWJYpgmRRTqw7gmsRLLzpppuK7BjadsGCBSmCevG8HMr25S9/eRHAizpFMDWCehEAjaBbmWI9UbcI4EUw8utf/3oRkIv8H//4x+n5z39++u///u9UBln/8z//M8V9Pv/qr/4qvf3tb0/veMc70s9+9rMUwcGRKQKhEbg9+eST0yc+8YkUPUMjkFemDRs2FOuP+mzbtq0IJEYAeGyKgPA3v/nNdL/73S/dfvvt6bvf/W5Rvze+8Y3p+9///vDs11xzTXroQx+awvO0005Lr3zlK4vyo36R7nnPe6Y73vGOxfOHPOQhhdMBBxyQ4i/WHz1qyxQ+EZz99re/XU5KEaD+yU9+ku5yl7sU0z75yU8WbbTPPvsUthEAfvOb35xe9apXDS8TT8IwApKxvljHC1/4wlH55YuXvOQlxbbtKoBbzuORAAECBAgQIECAAAECBAgQINAogUGJAAECBAgQIECgowI5CDW4bNmyneqQA4OD+Yfj4Bve8IZReWvWrBn1Ol4cfPDBgy996UuHp7/73e8ulo11lCn38iumfeQjHykm5eFqi9c5yFnOstNjDnwOPvvZzx6enu/NWSzzvve9b3haPHnqU586uO+++w5Py4HLYr4cpByeVj6Jbco9PMuXxWOUk4Okg9dff/3w9Ne+9rWDe+211/Drcp3nn3/+8LR4ctBBBw1+/OMfL6b97ne/K8rNQdlR84x98ZWvfKWYL/dcHJUV5eVA8PC03GtxMAc4h1/Hk69+9auDeSjdwRw4LaaX1vmel8Pz5YDo4MDAwODpp58+PC3aOAcTR217vH7gAx84ap6nPOUpw6/jyXvf+96irrFtZQrDY445pnw5/Hjf+953MAd2i9c52Fos94tf/GI43xMCBAgQIECAAAECBAgQIECAQNMF9LxsVChZZQgQIECAAAECOwvk4OGoiTGcaJkuvfTS9NnPfjbNmTMnXXnlleXktGPHjuJ59EAs03777Vc8LYdZjd59MfTsP/3TPxXrKOeresyBuyJ77DCk0TPwlltuKXoEjlz+Wc961siXRW/ImBC9Nkem6L0YdcmByOHJ0dMzekXmoGAxLQcc073uda+it+PwTPnJ/e9//2IY2pHTnvOc54x8udPz/CO9mBZD6o5MUWbpE9OjzLHril6oUafLL7985KKjnudAZdGrM3pFRjrvvPPS0qVLU/Ra/elPfzo8b+Q/+tGPLl7H8LzRYzV60Y5MpXVpX+aNbNtyWvkYvV5juRiaNwc0y8keCRAgQIAAAQIECBAgQIAAAQKNFxC8bHwTqSABAgQIECDQrwJlgC3uCzkyxVCpL3vZy4rhXGOY1R/nIURnzJiRNm7cOHK2XT5ftGhR2rJly3BeDN0a94+Me04eccQRxZC0w5m7eHLFFVcUAcbc83BUbjmkbBnQG6/uoxYa8SKCr2XAtZw8e/bs4mkZvIzhbnOvy+Iej7lX4/BjBBhjGNhIEy23WGjEv1mzZg375J6pxf1FIzA7srzcO7NY4rbbbhux5M5PY0jeH/zgB0VGBCYjYBvB10gRXIz7XYbnYx7zmGJaPI9UWhYv8r+4/+eBBx44PARt6TF2v4j5o57hFMPrRpD73HPPLVfjkQABAgQIECBAgAABAgQIECDQFQKCl13RTCpJgAABAgQIEPiTQB7KNOWhQNPZZ59d9OKL3nVxX8mxwb8/LTH+s8MOOyx97GMfK+7p+PjHPz79zd/8TcrDtY67QNwDM3pDlkHCcsYykBfB0XalCOLd4x73KMqO8kf+ffrTn572YqO8SB/84AdHlVWWO/Jem7sqPIKXYXXBBRek733veynuXxkpgpVxj82YFgHGuFdmpDIYWVoWE4f+xbQ9sY194Je//GVRVtxbM+4LGvfUlAgQIECAAAECBAgQIECAAAEC3SIgeNktLaWeBAgQIECAAIEhgTPPPLMYfjSGWS1T9MaM3peTTfl+lenDH/5wMURqVbArAnDRw/Mb3/jGqKLyfTNT9FosA3SjMqfpRQyveuGFF44aHneaVr3L1UQw8QEPeEAxdOwuZxiaWPZC3bZt26jZjjvuuGKo2LPOOivFXzk8bBiF8c9//vOiN2a5UAxHG214xhlnlJOKxxgudvPmzen4448fNX1XL2L52C9iKOEHP/jBKYbFfcELXlAsv6v5TSNAgAABAgQIECBAgAABAgQINE1g8me4mrYl6kOAAAECBAgQ6BOBvffeO8UwpJEiaPmSl7wk/exnP5vw1se9F5/ylKcUAcFYePXq1cWwrMccc8y463ra056WIij3whe+sKjDunXr0kc/+tHivpnRa3P//fcfd9mpZsR23u1ud0snnXRS0Wtxw4YNxRCpr3vd64bviznVMsYu/773va8INMawur/97W+L7K9//evpX//1X4dnjV6vkU477bTiceQ9M6OXZUw/+uijh+/n+ahHPaq4B2YMHVsGNGPBuO9nbMt73vOe4l6VYRvt/OIXvzhFYPPEE08s1l/1L3pe3vOe9yyGmo35ov4x/O1b3/rWqsXkESBAgAABAgQIECBAgAABAgQaIyB42ZimUBECBAgQIECAwJ4JxFCg3//+94v7G8awrzGc6Otf//o9Gja2vHdjlHTIIYekJUuWpBj+NKYvW7asuN/i29/+9sqKxD0mIxgXgbkY9jTuuxlD2b773e+uXG46MmMo1Llz56YTTjihGGY17tN59dVXF/emnI71j13Hgx70oPSpT30qRc/SCJyG0ymnnFI8lvM+8YlPLAK6b3jDG4rpH/rQh8qswujSSy8tjMuJd73rXYsgb0yPQObI9N73vjc973nPSy996UsL2zCOnpTR23YyKe6Veeqpp6ZYbxl8ncx6LEOAAAECBAgQIECAAAECBAgQqEtgIN+zZ7CuwpRDgAABAgQIECAwPQIxdOtll12Wjj322GlZ4fnnn18EJMv7Lu7JSs8999xiONL99tsvRUCuznTOOeekLVu2pOiFGvfBbHdauXJluuiii4piwnyvvfbaqcg//OEPafny5UUQeKfMCU645JJL0ooVK4pA7QMf+MAJLm12AgQIECBAgAABAgQIECBAgED3Cghedm/bqTkBAgQIECBAgAABAgQIECBAgAABAgQIECBAgACBnhIwbGxPNaeNIUCAAAECBAgQIECAAAECBAgQIECAAAECBAgQINC9AoKX3dt2ak6AAAECBAgQIECAAAECBAgQIECAAAECBAgQIECgpwQEL3uqOW0MAQIECBAgQIAAAQIECBAgQIAAAQIECBAgQIAAge4VELzs3rZTcwIECBAgQIAAAQIECBAgQIAAAQIECBAgQIAAAQI9JSB42VPNaWMIECBAgAABAgQIECBAgAABAgQIECBAgAABAgQIdK+A4GX3tp2aEyBAgAABAgQIECBAgAABAgQIECBAgAABAgQIEOgpAcHLnmpOG0OAAAECBAgQIECAAAECBAgQIECAAAECBAgQIECgewUEL7u37dScAAECBAgQIECAAAECBAgQIECAAAECBAgQIECAQE8JCF72VHPaGAIECBAgQIAAAQIECBAgQIAAAQIECBAgQIAAAQLdKyB42b1tp+YECBAgQIAAAQIECBAgQIAAAQIECBAgQIAAAQIEekpA8LKnmtPGECBAgAABAgR6W+D000/v7Q20dQQIECBAgAABAgQIECBAgACBPhcQvOzzHcDmEyBAgAABAgQIECBAgAABAgQIECBAgAABAgQIEGiKgOBlU1pCPQgQIECAAAECBAgQIECAAAECBAgQIECAAAECBAj0uYDgZZ/vADafAAECBAgQIECAAAECBAgQIECAAAECBAgQIECAQFMEBC+b0hLqQYAAAQIECBAgQIAAAQIECBAgQIAAAQIECBAgQKDPBQQv+3wHsPkECBAgQIAAAQIECBAgQIAAAQIECBAgQIAAAQIEmiIgeNmUllAPAgQIECBAgAABAgQIECBAgAABAgQIECBAgAABAn0uIHjZ5zuAzSdAgAABAgQIECBAgAABAgQIECBAgAABAgQIECDQFAHBy6a0hHoQIECAAAECBAgQIECAAAECBAgQIECAAAECBAgQ6HMBwcs+3wFsPgECBAgQIECAAAECBAgQIECAAAECBAgQIECAAIGmCAheNqUl1IMAAQIECBAgQIAAAQIECBAgQIAAAQIECBAgQIBAnwsIXvb5DmDzCRAgQIAAAQIECBAgQIAAAQIECBAgQIAAAQIECDRFQPCyKS2hHgQIECBAgAABAgQIECBAgAABAgQIECBAgAABAgT6XEDwss93AJtPgAABAgQIECBAgAABAgQIECBAgAABAgQIECBAoCkCgpdNaQn1IECAAAECBAgQIECAAAECBAgQIECAAAECBAgQINDnAoKXfb4D2HwCBAgQIECAAAECBAgQIECAAAECBAgQIECAAAECTREQvGxKS6gHAQIECBAgQIAAAQIECBAgQIAAAQIECBAgQIAAgT4XELzs8x3A5hMgQIAAAQIECBAgQIAAAQIECBAgQIAAAQIECBBoioDgZVNaQj0IECBAgAABAgQIECBAgAABAgQIECBAgAABAgQI9LnArD7ffptPgAABAhMQGBwcTDfccEPasGFDWr9+fdq6desEljYrAQIEpkfgl7/85fSsyFoIECCwBwKzZ89OCxcuTAsWLEgHHXRQGhgY2IOlzEKAAAECBAgQIECAAAECkxUYyCeiBye7sOUIECBAoD8ELr/88nTZZZela665Jh155JHFSbs4iTdnzpz+ALCVBAgQIECAQN8KbNmypbhoKw6dr7jiinTooYemo48+Oh111FF9a2LDCRAgQIAAAQIECBAg0E4Bwct26lo3AQIEulwggpXnnHNOOvzww9MBBxyQDjvssC7fItUnQIAAAQIECExN4Oqrr0433nhjcVHXcccdlw455JCprdDSBAgQIECAAAECBAgQIDBKQPByFIcXBAgQIFAKnH322WnTpk3p3ve+d9p7773LyR4JECBAgAABAgSywMqVK9Ovf/3rYkjZCGJKBAgQIECAAAECBAgQIDA9AoKX0+NoLQQIEOgpge9+97vpwAMPTMcee2xPbZeNIUCAAAECBAhMt8D555+fbr311vSYxzxmuldtfQQIECBAgAABAgQIEOhLAcHLvmx2G02AAIHxBSJweYc73CHd7W53G38mOQQIECBAgAABAsMCF154YbrpppvS8ccfPzzNEwIECBAgQIAAAQIECBCYnIDg5eTcLEWAAIGeFIihYhcvXqzHZU+2ro0iQIAAAQIE2ikQPTA3btyYDCHbTmXrJkCAAAECBAgQIECgHwRm9MNG2kYCBAgQ2L3ANddcU9zj0lCxu7cyBwECBAgQIEBgrMC97nWvtH79+nTttdeOzfKaAAECBAgQIECAAAECBCYgIHg5ASyzEiBAoJcFzjnnnHTve9+7lzfRthEgQIAAAQIE2ioQAcxzzz23rWVYOQECBAgQIECAAAECBHpdQPCy11vY9hEgQGAPBC677LJ0xBFHpL333nsP5jYLAQIECBAgQIDArgSWL1+eDjnkkPSHP/xhV9mmESBAgAABAgQIECBAgMAeCAhe7gGSWQgQINDrApdffnnaf//9e30zbR8BAgQIECBAoO0C8ZsqfltJBAgQIECAAAECBAgQIDA5AcHLyblZigABAj0jMDg4mOJ+l4cddljPbJMNIUCAAAECBAh0SuDwww9PV111VaeKVy4BAgQIECBAgAABAgS6XkDwsuub0AYQIEBgagI33HBDOvLII6e2EksTIECAAAECBAgUAgMDA8Vw/PEbSyJAgAABAgQIECBAgACBiQsIXk7czBIECBDoKYENGzakOMkmESBAgAABAgQITI/AjBkz0vr166dnZdZCgAABAgQIECBAgACBPhMQvOyzBre5BAgQGCsQJ9YWLlw4drLXBAgQIECAAAECkxSI31aCl5PEsxgBAgQIECBAgAABAn0vIHjZ97sAAAIE+l1g69atac6cOf3OYPsJECBAgAABAtMmEL+t4jeWRIAAAQIECBAgQIAAAQITFxC8nLiZJQgQIECAAAECBAgQIECAAAECBAgQIECAAAECBAgQaIOA4GUbUK2SAAECBAgQIECAAAECBAgQIECAAAECBAgQIECAAIGJCwheTtzMEgQIECBAgAABAgQIECBAgAABAgQIECBAgAABAgQItEFA8LINqFZJgAABAgQIECBAgAABAgQIECBAgAABAgQIECBAgMDEBQQvJ25mCQIECBAgQIAAAQIECBAgQIAAAQIECBAgQIAAAQIE2iAgeNkGVKskQIAAAQIECBAgQIAAAQIECBAgQIAAAQIECBAgQGDiAoKXEzezBAECBAgQIECAAAECBAgQIECAAAECBAgQIECAAAECbRAQvGwDqlUSIECAAAECBAgQIECAAAECBAgQIECAAAECBAgQIDBxAcHLiZtZggABAgQIECBAgAABAgQIECBAgAABAgQIECBAgACBNggMDObUhvVaJYGuE9iR3wnr1qe0eUtK27blv+0pbd8x9Jife6dMT5MODKQ0c2ZKs/LfzHz5RDzOmpXS3DkpLVqY0oycL/WZwI6tKW1dl9KO/Obbnv/i9djng/nNKBEgQIAAAQIERgoM5B+TM/KPyPibOXvoeX6cOTRt9qI8Lb+W+kbAMV09Te2Yrh7nRpQymE+GbLw5pS1r8rHapqHjtThu29w6ZnOc1ohmansliu/buX/6fp0Zz/PfnCUpzd8/pYF8YkfqCQHfo/U0o+/RepyV0v0Cgpfd34a2YAoCEZxcmwOW8bdhQw5QTmFdFp26QMQtFy5oBTEX50BmBDelHhXYujZfKXB7Sptuy1cI5DegRIAAAQIECBBoh8Cs/KNy3t75Srn8F8FMqecEHNM1q0kd0zWrPSZVm7iQdMNNrb9NK/MqXEg6Kce+WSifuJm/PP8dkNKCHMiMC4qkrhLwPdqs5vI92qz2UJvOCghedtZf6R0S2JgvGLwlx002bBxdgTn5wuz5cbF2XMSd/4qegfE8f3PEVTHS1AWiB2tcybUtH//ED6QdQ4+b8vHR5tzjdWRaOD+lffN5pnn5gj6pywXiit3Nq3KwMh/8RtBycExjz85R64F48+UrNmfEVZz5sXidu+UOxF9+I0oECBAgQIAAgZEC0eMnflNsz3+DeeSG7fn3xo7cGyge4/XWfHXiyBS/KcpA5txl+feFniIjebrtuWO6zrWYY7rO2be15M35wtLVl7WO2UYWNCsfmM+JYZLy8dqMOE7Ln6Uzy+M0J0pGUvXs83jTD3/f5u/cHUN/W/OFyFvHnFiblwOZy/4s7zP5e1ZqtIDv0c41j+/RztkrubsEBC+7q73UdooCW/I5jJtz7GT90HmMCErOyxeFLch/8/OfAOUUgae4eHx5b4yLPPNfBDMjyBlpUY5r7bdP/u2bj5WkLhOIoOW6P+Y33Q254vkEY5kiMDk3936YuziPG5wfvflKGY8ECBAgQIDAdAnEj8tteWj6zTHiQ/4bdfFUvjBq0cF52I875N8hLpKaLvI61hPHdCvyMd06x3R1cE+4DMd0Eybr/AJxC4/bL8kH4be06hKfiXOGjtVm56ClCz0630ZNrkEc80cQM75nt+R9qRxKOIaTXXZnox40sO18jzawUUZUyffoCAxP+15A8LLvd4H+ANiaLwq7JV9EuCb/jooUvSqXxfCk81qv/W+mwLrcQ3ZV/g1cBjGX5OOn6Ik5O1/kKTVdIJ8sjKGG1l3buiozqhu9K+fkYGX8xf0xJAIECBAgQIBAnQJxj7YtQ4HMbWXkK19QteiQfDVjHu5OarTAtnxMt8IxXaPbaFeVc0y3K5WGTIvPwVW/z8dtcaFpThGkXLRvvsB0r9Zr/wlMRmBTHmlpfQ6ER1Az0sJ8oVD0xJyZe/BKHRXwPdpR/kkX7nt00nQW7AEBwcseaESbUC0QAcsbVrTmiQFNluT4SfwZ3KTarSm50flydQ5grs2BzLj6KDroHbRfSnFPTKmhAjE07Nqr85BtudEizVmSG+zA3Hiizi0Q/wkQIECAAIGOC+zI3ffW3dgKZkZl4qTqksNa98bseOVUYKxAHNPdGOfC43ggZy7OzbU0OoSNndHrRgo4pmtgs2zIn3+3np8rNnSQPT9fJTw/By6NiNPAxurGKuVRlyKAGYHM+OBOuQfB8nu5UKiDTTn2e9S50Q42xiSK9j06CTSL9ISA4GVPNKONGE8geluuzLfZi7Qwd/TaKx/gRq9LqfsEtudv6lX5pMX6fMF8pOX5YtD4kxokEMMNrbkiDxmTHyNF78pFB7V6XLam+E+AAAECBAgQaJZA3BdzXe51FL0yI83OI0QsOSI/5iE/pEYIOKZrRDNMSyUc000L49RXsurS1nFbrGnu0nzMlq8OdqHp1F2tYWeBuDfm+tybYPPqVt7So/OVJ0ftPJ8pbRXwPdpW3lpX7nu0Vm6FNUBA8LIBjaAK0y+wI1/kdf3N+TdSvm94XI27b+74Ffe2lLpfIO6Jeeua4vrQ4l6Y0QtTQLoB7bo+39dy7TWtiszIww0tzEOvzV3WgIqpAgECBAgQIEBgDwQ25yse1+ch73cMDXO3+PD8eyZfhCV1TCCO6WIEnbi3pWO6jjVDWwp2TNcW1t2vND7fbv3foXtb5nfVkjvmUXLyFd4SgXYLxL0w1+RzBtHTN+6FGb0w3Uu13erJ92jbiTtWgO/RjtEruGYBwcuawRXXfoFt+ff4dXkElM05yDUj/x7fL19IOMdole2Hr7GELfnivZvzhXsx+sjcHJQ+JI9IOjPHy6QOCEQjrLkypY35ZF+kWTEu8yH5zadBWiD+EyBAgAABAl0jECf211yT0rZ8BWSk+flirOiFaRjFlkeN/x3T1YjdoaIc09UMH73LV5yXR8nJ9/0dyMNRLT00H7vNq7kSiutrgfhuXXVtJshXpszOPQz2v18+b5BHa5LaIuB7tC2sjVqp79FGNYfKtElA8LJNsFbbGYG4quiaPOpTBC5n5t/jEbicLYbSmcZoc6lb87mlFTmAuT23eQQwD80XxuuB2Wb0sasfzPi3/y7fK2pobOboaRnDxDrBN1bKawIECBAgQKBbBOLCrHXX/2mIu7n5PnDL/qx1sr9btqHL6+mYrssbcALVd0w3AaypzBoXZtz8s1bgcka+sjsClzMNTTUVUstOUmBbDqKvyQHMGE62CGAe58LnSVJWLeZ7tEqnt/J8j/ZWe9qanQVyeEci0DsCN+b7gReBy9zj8oC9BC57p2V33pIISkcbz8xtHW0ebS/VKLBja76h7IV/Clwuyj0TFh8scFljEyiKAAECBAgQaINAXIS1+A6tIfBj9Ztva/3mid8+Ui0CjulqYW5EIY7pamqGlb/5U+By2eEClzWxK2YXArNyT8vYByOIvjXfD+i2vG9K0y7ge3TaSRu7Qt+jjW0aFZsmAcHLaYK0ms4L3Hp7vuXe+hw7yVXZN/e4jKCW1NsC0cbR1tHU0faxD0g1CMSQQysvyEOqxRsuf40sPSzfVHafGgpWBAECBAgQIECgJoH5+bfNktw7KX7rxG+euGgrfgNJbRVwTNdW3kau3DFdm5tl9WVDt/jIR81xj8sIGkkEOikQ+2Dsi3EmZ0O+/Uzso9K0CfgenTbKrlmR79GuaSoVnYSA4OUk0CzSPIG1+d7fZeBqeR463z0um9dG7apRtPU+i1trj31gTd4XpDYKxPAut13cOnk3Y3a+avKI3MV5YRsLtGoCBAgQIECAQIcE5izKF2nl3zrxm2f7ptZvoPgtJLVFwDFdW1i7YqWO6drUTBtuzIGhy1srX5JHyXGPyzZBW+2EBWJfjJGbIsU+GvuqNGUB36NTJuzaFfge7dqmU/HdCAhe7gZIdvMF4ibUNwwNGbosx1Dmu3VD8xttmmu4II88snRBa6UxPEbsE1KbBFZd2jp5NyO/0fY6MndxzvgSAQIECBAgQKBXBYoh7vJvnvjtEwHMVb/v1S3t6HY5pusofyMKd0w3zc1QjJYzNCTngn3zFd5DV/xOczFWR2DSAnPzPhn7ZqQY2cnoBi2LSf73PTpJuB5azPdoDzWmTRkWELwcpvCkWwVuzbehGRxsBS2XzO/WrVDvqQpE8DIC17EvlL1wp7pOy48RWHNlvsfl6qGhYg/Jj/nGoxIBAgQIECBAoNcFZuTfPEvjt08+fN6yKg/1kX8TSdMq4JhuWjm7dmWO6aax6WIozsEdraDlguXTuGKrIjCNArFvRmB9MF+BbvjYKcH6Hp0SX88s7Hu0Z5rShgwJCF7aFbpaYPOWfPHz2nwhdB4qvxw6tKs3SOWnJBD7wEDeF1bl+75vyfuGNI0CG27+01AuS/LJOz0upxHXqggQIECAAIHGC8Rvn8X5N1CkGN4u7tMlTYuAY7ppYeyZlTimm4am3JpPkqy7tnWx6eKDpmGFVkGgjQKxj8bFQbHPbnUfoMlI+x6djFrvLuN7tHfbth+3TPCyH1u9h7Z5xcrWxkSPywhgSv0tEPtAOXzszUP7Rn+LTNPWR2/LNX9orWzRge5xOU2sVkOAAAECBAh0mcCcfI+KRQe0Kr3miny1XL5iTpqygGO6KRP21Aoc001Dc97+u9ZKFuzTCgpNwyqtgkDbBCJwOT/vq5Fuv6T16P+EBHyPToir52f2PdrzTdxXGyh42VfN3Vsbu2FjSuvzX3woLzZcbG817hS2ZlG+73v0vox9I/6kKQpsy4jlwe/cZSnN23uKK7Q4AQIECBAgQKCLBeblE6zxmyhSnGTdlu+DKU1awDHdpOl6ekHHdFNo3k35Kt5Nt7R6Xc7baworsiiBGgXm5/MMEcSMfXfTrTUW3P1F+R7t/jZsxxb4Hm2HqnV2QkDwshPqypwWgZX5djORluR7HUawSiIQAsUVRkPB7NuG9hEyUxBY9fvW/Sdm5TfaIkMOTUHSogQIECBAgECvCMRvoln5B6d7dE25RR3TTZmwJ1fgmG4KzRq9wiPFvQQjGCQR6AaB2FfLe7O6r/SEWsz36IS4+mZm36N909Q9v6F+yfR8E/fmBm7P950ve9UtyrefkQiMFIgrjCLFPhL7ijRJgc235d4E6/PC+eqAJXd0lcAkGS1GgAABAgQI9JhAXDm5OP82it9IcW+5zbf32AbWszmO6epx7tZSHNNNouV2bGv1XItF5y6dxAosQqCDAuWoBtHzcsfWDlake4r2Pdo9bdWJmvoe7YS6MqdbQPByukWtrxaB9RtaxcybnXva2YtrMe+mQmKfiH0jUrmvtF75v8cCg4P5PpdXtWaPKyBnzNrjRc1IgAABAgQIEOh5gZn5x2Z5j661V/f85rZjA8vf6Y7p2qHb/et0TDeJNtx4c2uh2fn+vDNmTmIFFiHQQYHYZ2PfTflcRAwfK+1WwPfobon6egbfo33d/D2z8cI+PdOU/bUha6MzWE7z9bpsQfi/k8C8Oa1J5b6y0wwmVAvEwcL2fA+ngXwAMT8HLyUCBAgQIECAAIHRAvEbKX4rbctXVm50onU0zu5flb/THdPt3qpf53BMN8GW33hTa4G5iye4oNkJNERgzqJWRTYM7csNqVZTq+F7tKkt05x6+R5tTluoyeQEdKWZnJulOigQHcLWDfW8XDAUoOpgdRTdUIHYN1blIHfsK7HPuC/qBBpqMI+1u/aa1gIL98t4XXKdS9Q7hrrdsi4HXre0hpqJoZPi+WAediZ2BInAZATiA2Qgf6hEL5vohTxj6HkcXM/du3veI5PZ9qks4z05FT3LEuhvgW753I1eIgv2zUN95JOs0fty3j6+E/Zwz3VMt4dQfT6bY7oJ7ADxu2vjitYCZQBoAoublUAjBGLfXZ97EEcv4tinu+VcRAfwfI92AL0Li/Q92oWNpsqjBAQvR3F40Q0CcR/D+JKek88VzOySmEo3uPZaHWfl/WN2/oTbmmNXsc8sWtBrW9jG7dlwYw785YDfjByombtXGwuahlXHvTA25YDlxnxfjM1r8grzAY5EYLoF4ktncHPevfLfTinGqc73FJqXe9/My++XeN/0c/Ke7OfWt+0Epk+gmz535+WLWDaubP12il5PCw6aPoceXpNjuh5u3GncNMd0E8CMkXMi2DNrnt+jE2Aza8MEZsZFonmIte35uCvufTk/X0wt7VLA9+guWUwcI+B7dAyIl10nIHjZdU2mwpuGzh3P6fPzw/aE3QvMGQpexj4jeLl7r2KO6Km47rrWzAv3z1c65h5nTUxbcqBy7bU5YLl6dO1mzc9XNixsHbBHb4iBvBPMzH/x2NRtGb0FXjVRoDiJHr14899g/ov3Sfxtzd27t+arIzbd3vqLus/Ngcwlh+WrJ/JVw/2UvCf7qbVtK4H2C3TT5278voiRKtZen//yb6h5+feTe83tdh9xTLdbIjMMCTim28NdYcvQcVEcD0kEulkg9uEIXm5ZJXhZ0Y6+RytwZI0S8D06isOLLhPIZ3MlAt0lsG17q75x9YhEoEpg1lDP3HKfqZpX3pBAXN04mN9kM/MVuxGEaVralgNFq6/MQct8IBMp7jMVwcq4r0sxPJLu2C0Y/6dVoBi+MF8xs1OvyjxUYLxfIoi5eW1ryOIIqN9yQd4nc0+cpYflq997/ASS9+S07mpWRoDAkEC3fe7OXZbShvwbKk62bs69MPUU2e2uXP4+d0y3W6q+n8Ex3R7uAvH5Eyku3JQIdLNAuQ/H7V+kcQV8j45LI2OMgO/RMSBedpWAXzVd1VwqGwLbcmeXSIaMbTn4P75AuY9sHwp4jz+nnGGBzbkHWaT5+Z5NTUrbN+WgZb4PZwRXI0XQcmEOHM3LJwtTQ3uHFhX1r+cFigD6khw8z3+Rohfm+jxsV9x/dUX+m5/306WH5sBnHv6ol5L3ZC+1pm0h0F0CTf3cjd9O625off4LXu52n3JMt1siMwwJOKbbw12hDF7G/dklAt0sUF4wWu7T3bwtbay779E24vbYqn2P9liD9tnm+FXTZw3eC5tbXl00U7yiF5qzrdtQXsld7jNtLawXVh5DtJU9GotejA3ZqLif5e2X5crk+kVPjDg5OD/fXzCeSwSaJhD3vYx7YK7P+21xP9YcyIx9eK8/a95FAZO1856crJzlCBBoh0BTPndn55EgIsVvqfhN5XdKy2Oc/+Xvc8d04wCZPCzgmG6YovpJGegZyPcMlAh0s0DZ83LHUG/ibt6WNtbd92gbcXts1b5He6xB+2xzBC/7rMF7YXPLXnQzDRvbC83Z1m2YMRTbKn/UtbWwXlj51nwfybQjD3OZh4xtyhW7a67OvRjyPaQixTC2i/I9peL+lRKBRgvk4Yvj/mfz89CxRS/MfCL79kvz0AGHpLT4jo2u+W4r5z25WyIzECDQCYEGfO7OzAGDWbmX/bZ8snVrHkq87JHfCY4uKNMxXRc0UkOq6JhuDxuiDF6WgZ89XMxsBBonMJBv1xGp3Kdbr/wfI+B7dAyIl+MK+B4dl0ZGFwg4A9wFjaSKowW2GjZ2NIhX4wqU47pvH9pnxp1RRkugHDJ29qLOi+zIY/3e/vvceyGGsc1R6CU54BP3tpQIdJNAXASw+MDWPVnX/DGltdfmE9rrWr0wB7rs/qzek92056krgf4V6PTnbvyGiuBl/H4RvKzcDx3TVfLIHCHgmG4ERtXTGNI/UlMuQm3Vxn8CExco92H3vKy08z1aySNzhIDv0REYnnadQJedOes6XxVuo0B55Ugbi7DqLheYMfQJtyOP3CXtgUAZvOz0kLHbt6Z064WtE38R4Fl2qMDlHjSfWRosEO+p2I/jPm0xlOwtef/ekffzbknek93SUupJgEAp0KnP3fI3VPmbqqyPx3EFHNONSyNjSMAx3Z7uCkMHvd12gdyebp75+kdgxtAwa4OuQt+TRvc9uidK/T2P79H+bv9u33rBy25vQfUnQIDAdAjEVY3bNuQ15V6OsxZMxxont47B3ONy5cWtusQVl8sOz/WZP7l1WYpAkwRiP152WOtq+G3rc4D+t/meaHl/b3rynmx6C6kfAQLjCXTic7f4DZV/S8XnfDddpDKeoekECBAgQIAAAQIECBDokIDgZYfgFUuAAIFGCWzLQ1lGih4DA/mkW6fSbZePDlzG/aMkAr0iEPtzBOQjMB8ntm+/rPlb5j3Z/DZSQwIExheo+3M3ejyVvS9jmHCJAAECBAgQIECAAAECBCYlIHg5KTYLESBAoMcEyvtJzJrXuQ2L+wFuXpnLz8HTuMdlea+LztVIyQSmXyD269i/Yz+PIWRjv29q8p5sasuoFwECExGo+3N35txW7fS8nEgrmZcAAQIECBAgQIAAAQKjBAQvR3F4QYAAgT4VKE+wlfeXqJth4605iHNdq9QlB+ehYjsYRK1725XXfwKxfy/O+3mk2O9j/29a8p5sWouoDwECUxGo83O3/C21Iw/JLxEgQIAAAQIECBAgQIDApAQELyfFZiECBAj0mEB5gm1gZv0btn1rHj4zDxcbacG+ebi1xa3n/hPoZYG5eT+P/T3Sqrz/l72fW1M6+997srP+SidAoD0CdX3uDuQe9pGa9LneqpH/BAgQIECAAAECBAgQ6BoBwcuuaSoVJUCAQBsFyhNsnRiqtRg2c0craLlgeRs30qoJNEwg9vcI1g/m/b/sedyEKnpPNqEV1IEAgXYI1PG5O9zzMl+cJREgQIAAAQIECBAgQIDApAQELyfFZiECBAj0mEA5bGzZW6Cuzdu6IaUNN+Xb/+Uen4sPqqtU5RBojkDs9wP551i8D7Zt7Hy9vCc73wZqQIBAewXa/blbXghWjmrR3q2xdgIECBAgQIAAAQIECPSkgOBlTzarjSJAgMAEBcoTbGVvgQkuPunZ11zdWnTBPq0AzqRXZEECXSoQgcv5ef+PtPqq1mMn/3tPdlJf2QQI1CHQ7s/d8kKwclSLOrZJGQQIECBAgAABAgQIEOgxAcHLHmtQm0OAAIFJCZQn2MoTbpNayQQX2rw6pc23t3pdzttrggubnUAPCczfuxW8j/dDvC86lbwnOyWvXAIE6hZo5+fujKFD7HJUi7q3TXkECBAgQIAAAQIECBDoAQHByx5oRJtAgACBqQsMtlYxMDD1Ve3pGtZd35oz7j8VvSAkAv0qEPt/eb/X8n3RCYuybO/JTugrkwCBOgXa+bkbQ+FHGtzeevSfAAECBAgQIECAAAECBCYs4GzxhMksQIAAAQJTFtiRT+hFL7NIc5e2Hv0n0M8Cc5e1tn7zqpR2bKtfwnuyfnMlEiDQWYFOf+52duuVToAAAQIECBAgQIAAgUYLCF42unlUjgABAj0qsGlla8NmL0yp7vts9iipzepygXgfxPsh5V7QZWC/zk3ynqxTW1kECDRBoNOfu00wUAcCBAgQIECAAAECBAg0VEDwsqENo1oECBDoaYHNt7U2b+7int5MG0dgQgJzFrVm3zT0/pjQwlOc2XtyioAWJ0CgKwU6+bnblWAqTYAAAQIECBAgQIAAgXoEBC/rcVYKAQIECJQCgztS2jg0ZGx50rDM80ignwXK98PGHLyM90ldyXuyLmnlECDQNIFOfe42zUF9CBAgQIAAAQIECBAg0DABwcuGNYjqECBAoOcF4p5+KQdmZs3LQ8bO7vnNtYEE9lhg5pyUZs7Ns+f3x+bVe7zYlGf0npwyoRUQINClAp363O1SLtUmQIAAAQIECBAgQIBAXQKCl3VJK4cAAQIEWgJb17UeZ80nQoDAWIHyfbF17dic9r32nmyfrTUTINB8gU587jZfRQ0JECBAgAABAgQIECDQUQHBy47yK5wAAQJ9KLB9a2ujZ87qw423yQR2I1C+L8r3yW5mn5bssqyy7GlZqZUQIECgSwTKz77ys7BLqq2aBAgQIECAAAECBAgQ6GUBwctebl3bRoAAgSYK7NjSqtUMwcsmNo86dVigHEp5x1CQv47qeE/WoawMAgSaKtCJz92mWqgXAQIECBAgQIAAAQIEGiIgeNmQhlANAgQI9I1A2bNhIN/fTyJAYLRA2QOozuCl9+ToNvCKAIH+EujE525/CdtaAgQIECBAgAABAgQITFhA8HLCZBYgQIAAgSkJlL28ypOFU1qZhQn0mMDA7NYGle+TOjavLMt7sg5tZRAg0DSBTnzuNs1AfQgQIECAAAECBAgQINAwAcHLhjWI6hAgQKDnBbYbNrbn29gGTl6gHE55+7bJr2OiS3pPTlTM/AQI9JJAJz53e8nPthAgQIAAAQIECBAgQKANAoKXbUC1SgIECBCoEhhsZQ74CqpSktenAjNmtjZ8sMbgZfKe7NO9zWYTIBACHfncRU+AAAECBAgQIECAAAECVQLOHFfpyCNAgAABAgQIECBAgAABAgQIECBAgAABAgQIECBAoDYBwcvaqBVEgAABAgQIECBAgAABAgQIECBAgAABAgQIECBAgECVgOBllY48AgQIECBAgAABAgQIECBAgAABAgQIECBAgAABAgRqExC8rI1aQQQIECBAgAABAgQIECBAgAABAgQIECBAgAABAgQIVAkIXlbpyCNAgAABAgQIECBAgAABAgQIECBAgAABAgQIECBAoDYBwcvaqBVEgAABAgQIECBAgAABAgQIECBAgAABAgQIECBAgECVgOBllY48AgQIECBAgAABAgQIECBAgAABAgQIECBAgAABAgRqExC8rI1aQQQIECBAgAABAgQIECBAgAABAgQIECBAgAABAgQIVAkIXlbpyCNAgAABAgQIECBAgAABAgQIECBAgAABAgQIECBAoDYBwcvaqBVEgAABAgQIECBAgAABAgQIECBAgAABAgQIECBAgECVgOBllY48AgQIECBAgAABAgQIECBAgAABAgQIECBAgAABAgRqExC8rI1aQQQIECBAgAABAgQIECBAgAABAgQIECBAgAABAgQIVAkIXlbpyCNAgAABAgQIECBAgAABAgQIECBAgAABAgQIECBAoDYBwcvaqBVEgAABAgQIECBAgAABAgQIECBAgAABAgQIECBAgECVgOBllY48AgQIECBAgAABAgQIECBAgAABAgQIECBAgAABAgRqExC8rI1aQQQIECBAgAABAgQIECBAgAABAgQIECBAgAABAgQIVAkIXlbpyCNAgAABAgQIECBAgAABAgQIECBAgAABAgQIECBAoDYBwcvaqBVEgAABAgQIECBAgAABAgQIECBAgAABAgQIECBAgECVgOBllY48AgQIECBAgAABAgQIECBAgAABAgQIECBAgAABAgRqExC8rI1aQQQIECBAgAABAgQIECBAgAABAgQIECBAgAABAgQIVAkIXlbpyCNAgAABAgQIECBAgAABAgQIECBAgAABAgQIECBAoDYBwcvaqBVEgAABAgQIECBAgAABAgQIECBAgAABAgQIECBAgECVgOBllY48AgQIECBAgAABAgQIECBAgAABAgQIECBAgAABAgRqExC8rI1aQQQIECBAgAABAgQIECBAgAABAgQIECBAgAABAgQIVAkIXlbpyCNAgAABAgQIECBAgAABAgQIECBAgAABAgQIECBAoDYBwcvaqBVEgAABAgQIECBAgAABAgQIECBAgAABAgQIECBAgECVgOBllY48AgQIECBAgAABAgQIECBAgAABAgQIECBAgAABAgRqExC8rI1aQQQIECBAgAABAgQIECBAgAABAgQIECBAgAABAgQIVAkIXlbpyCNAgAABAgQIECBAgAABAgQIECBAgAABAgQIECBAoDYBwcvaqBVEgAABAgQIECBAgAABAgQIECBAgAABAgQIECBAgECVgOBllY48AgQIECBAgAABAgQIECBAgAABAgQIECBAgAABAgRqExC8rI1aQQQIECBAgAABAgQIECBAgAABAgQIECBAgAABAgQIVAkIXlbpyCNAgAABAgQIECBAgAABAgQIECBAgAABAgQIECBAoDYBwcvaqBVEgAABAgQIECBAgAABAgQIECBAgAABAgQIECBAgECVgOBllY48AgQIECBAgAABAgQIECBAgAABAgQIECBAgAABAgRqExC8rI1aQQQIECBAgAABAgQIECBAgAABAgQIECBAgAABAgQIVAkIXlbpyCNAgAABAgQIECBAgAABAgQIECBAgAABAgQIECBAoDYBwcvaqBVEgAABAgQIECBAgAABAgQIECBAgAABAgQIECBAgECVgOBllY48AgQIECBAgAABAgQIECBAgAABAgQIECBAgAABAgRqExC8rI1aQQQIECBAgAABAgQIECBAgAABAgQIECBAgAABAgQIVAkIXlbpyCNAgAABAgQIECBAgAABAgQIECBAgAABAgQIECBAoDYBwcvaqBVEgAABAgQIECBAgAABAgQIECBAgAABAgQIECBAgECVgOBllY48AgQIECBAgAABAgQIECBAgAABAgQIECBAgAABAgRqExC8rI1aQQQIECBAgAABAgQIECBAgAABAgQIECBAgAABAgQIVAkIXlbpyCNAgAABAgQIECBAgAABAgQIECBAgAABAgQIECBAoDYBwcvaqBVEgAABAgQIECBAgAABAgQIECBAgAABAgQIECBAgECVgOBllY48AgQIECBAgAABAgQIECBAgAABAgQIECBAgAABAgRqExC8rI1aQQQIECBAgAABAgQIECBAgAABAgQIECBAgAABAgQIVAkIXlbpyCNAgAABAgQIECBAgAABAgQIECBAgAABAgQIECBAoDYBwcvaqBVEgAABAgQIECBAgAABAgQIECBAgAABAgQIECBAgECVgOBllY48AgQIECBAgAABAgQIECBAgAABAgQIECBAgAABAgRqExC8rI1aQQQIECBAgAABAgQIECBAgAABAgQIECBAgAABAgQIVAkIXlbpyCNAgAABAgQIECBAgAABAgQIECBAgAABAgQIECBAoDYBwcvaqBVEgAABAgQIECBAgAABAgQIECBAgAABAgQIECBAgECVgOBllY48AgQIECBAgAABAgQIECBAgAABAgQIECBAgAABAgRqExC8rI1aQQQIECBAgAABAgQIECBAgAABAgQIECBAgAABAgQIVAkIXlbpyCNAgAABAgQIECBAgAABAgQIECBAgAABAgQIECBAoDYBwcvaqBVEgAABAgQIECBAgAABAgQIECBAgAABAgQIECBAgECVgOBllY48AgQIECBAgAABAgQIECBAgAABAgQIECBAgAABAgRqExC8rI1aQQQIECBAgAABAgQIECBAgAABAgQIECBAgAABAgQIVAkIXlbpyCNAgAABAgQIECBAgAABAgQIECBAgAABAgQIECBAoDYBwcvaqBVEgAABAgQIECBAgAABAgQIECBAgAABAgQIECBAgECVgOBllY48AgQIECBAgAABAgQIECBAgAABAgQIECBAgAABAgRqExC8rI1aQQQIECBAgAABAgQIECBAgAABAgQIECBAgAABAgQIVAkIXlbpyCNAgAABAgQIECBAgAABAgQIECBAgAABAgQIECBAoDYBwcvaqBVz5WK+AABAAElEQVREgAABAgQIECBAgAABAgQIECBAgAABAgQIECBAgECVgOBllY48AgQIECBAgAABAgQIECBAgAABAgQIECBAgAABAgRqExC8rI1aQQQIECBAgAABAgQIECBAgAABAgQIECBAgAABAgQIVAkIXlbpyCNAgAABAgQIECBAgAABAgQIECBAgAABAgQIECBAoDYBwcvaqBVEgAABAgQIECBAgAABAgQIECBAgAABAgQIECBAgECVgOBllY48AgQIECBAgAABAgQIECBAgAABAgQIECBAgAABAgRqExC8rI1aQQQIECBAgAABAgQIECBAgAABAgQIECBAgAABAgQIVAkIXlbpyCNAgAABAgQIECBAgAABAgQIECBAgAABAgQIECBAoDYBwcvaqBVEgAABAgQIECBAgAABAgQIECBAgAABAgQIECBAgECVgOBllY48AgQIECBAgAABAgQIECBAgAABAgQIECBAgAABAgRqExC8rI1aQQQIECBAgAABAgQIECBAgAABAgQIECBAgAABAgQIVAkIXlbpyCNAgAABAgQIECBAgAABAgQIECBAgAABAgQIECBAoDYBwcvaqBVEgAABAgQIECBAgAABAgQIECBAgAABAgQIECBAgECVgOBllY48AgQIECBAgAABAgQIECBAgAABAgQIECBAgAABAgRqExC8rI1aQQQIECBAgAABAgQIECBAgAABAgQIECBAgAABAgQIVAkIXlbpyCNAgAABAgQIECBAgAABAgQIECBAgAABAgQIECBAoDYBwcvaqBVEgAABAgQIECBAgAABAgQIECBAgAABAgQIECBAgECVgOBllY48AgQIECBAgAABAgQIECBAgAABAgQIECBAgAABAgRqExC8rI1aQQQIECBAgAABAgQIECBAgAABAgQIECBAgAABAgQIVAkIXlbpyCNAgAABAgQIECBAgAABAgQIECBAgAABAgQIECBAoDYBwcvaqBVEgAABAgQIECBAgAABAgQIECBAgAABAgQIECBAgECVgOBllY48AgQIECBAgAABAgQIECBAgAABAgQIECBAgAABAgRqExC8rI1aQQQIECBAgAABAgQIECBAgAABAgQIECBAgAABAgQIVAkIXlbpyCNAgAABAgQIECBAgAABAgQIECBAgAABAgQIECBAoDYBwcvaqBVEgAABAgQIECBAgAABAgQIECBAgAABAgQIECBAgECVgOBllY48AgQIECBAgAABAgQIECBAgAABAgQIECBAgAABAgRqExC8rI1aQQQIECBAgAABAgQIECBAgAABAgQIECBAgAABAgQIVAkIXlbpyCNAgAABAgQIECBAgAABAgQIECBAgAABAgQIECBAoDYBwcvaqBVEgAABAgQIECBAgAABAgQIECBAgAABAgQIECBAgECVgOBllY48AgQIECBAgAABAgQIECBAgAABAgQIECBAgAABAgRqExC8rI1aQQQIECBAgAABAgQIECBAgAABAgQIECBAgAABAgQIVAkIXlbpyCNAgAABAgQIECBAgAABAgQIECBAgAABAgQIECBAoDYBwcvaqBVEgAABAgQIECBAgAABAgQIECBAgAABAgQIECBAgECVgOBllY48AgQIECBAgAABAgQIECBAgAABAgQIECBAgAABAgRqExC8rI1aQQQIECBAgAABAgQIECBAgAABAgQIECBAgAABAgQIVAkIXlbpyCNAgAABAgQIECBAgAABAgQIECBAgAABAgQIECBAoDYBwcvaqBVEgAABAgQIECBAgAABAgQIECBAgAABAgQIECBAgECVgOBllY48AgQIECBAgAABAgQIECBAgAABAgQIECBAgAABAgRqExC8rI1aQQQIECBAgAABAgQIECBAgAABAgQIECBAgAABAgQIVAkIXlbpyCNAgAABAgQIECBAgAABAgQIECBAgAABAgQIECBAoDYBwcvaqBVEgAABAgQIECBAgAABAgQIECBAgAABAgQIECBAgECVgOBllY48AgQIECBAgAABAgQIECBAgAABAgQIECBAgAABAgRqExC8rI1aQQQIECBAgAABAgQIECBAgAABAgQIECBAgAABAgQIVAkIXlbpyCNAgAABAgQIECBAgAABAgQIECBAgAABAgQIECBAoDYBwcvaqBVEgAABAgQIECBAgAABAgQIECBAgAABAgQIECBAgECVgOBllY48AgQIECBAgAABAgQIECBAgAABAgQIECBAgAABAgRqExC8rI1aQQQIECBAgAABAgQIECBAgAABAgQIECBAgAABAgQIVAkIXlbpyCNAgAABAgQIECBAgAABAgQIECBAgAABAgQIECBAoDYBwcvaqBVEgAABAgQIECBAgAABAgQIECBAgAABAgQIECBAgECVgOBllY48AgQIECBAgAABAgQIECBAgAABAgQIECBAgAABAgRqExC8rI1aQQQIECBAgAABAgQIECBAgAABAgQIECBAgAABAgQIVAkIXlbpyCNAgAABAgQIECBAgAABAgQIECBAgAABAgQIECBAoDYBwcvaqBVEgAABAgQIECBAgAABAgQIECBAgAABAgQIECBAgECVgOBllY48AgQIECBAgAABAgQIECBAgAABAgQIECBAgAABAgRqExC8rI1aQQQIECBAgAABAgQIECBAgAABAgQIECBAgAABAgQIVAkIXlbpyCNAgAABAgQIECBAgAABAgQIECBAgAABAgQIECBAoDYBwcvaqBVEgAABAgQIECBAgAABAgQIECBAgAABAgQIECBAgECVgOBllY48AgQIECBAgAABAgQIECBAgAABAgQIECBAgAABAgRqExC8rI1aQQQIECBAgAABAgQIECBAgAABAgQIECBAgAABAgQIVAkIXlbpyCNAgAABAgQIECBAgAABAgQIECBAgAABAgQIECBAoDYBwcvaqBVEgAABAgQIECBAgAABAgQIECBAgAABAgQIECBAgECVgOBllY48AgQIECBAgAABAgQIECBAgAABAgQIECBAgAABAgRqExC8rI1aQQQIECBAgAABAgQIECBAgAABAgQIECBAgAABAgQIVAkIXlbpyCNAgAABAgQIECBAgAABAgQIECBAgAABAgQIECBAoDYBwcvaqBVEgAABAgQIECBAgAABAgQIECBAgAABAgQIECBAgECVgOBllY48AgQIECBAgAABAgQIECBAgAABAgQIECBAgAABAgRqExC8rI1aQQQIECBAgAABAgQIECBAgAABAgQIECBAgAABAgQIVAkIXlbpyCNAgAABAgQIECBAgAABAgQIECBAgAABAgQIECBAoDYBwcvaqBVEgAABAgQIECBAgAABAgQIECBAgAABAgQIECBAgECVgOBllY48AgQIECBAgAABAgQIECBAgAABAgQIECBAgAABAgRqExC8rI1aQQQIECBAgAABAgQIECBAgAABAgQIECBAgAABAgQIVAkIXlbpyCNAgAABAgQIECBAgAABAgQIECBAgAABAgQIECBAoDYBwcvaqBVEgAABAgQIECBAgAABAgQIECBAgAABAgQIECBAgECVgOBllY48AgQIECBAgAABAgQIECBAgAABAgQIECBAgAABAgRqExC8rI1aQQQIECBAgAABAgQIECBAgAABAgQIECBAgAABAgQIVAkIXlbpyCNAgAABAgQIECBAgAABAgQIECBAgAABAgQIECBAoDYBwcvaqBVEgAABAgQIECBAgAABAgQIECBAgAABAgQIECBAgECVgOBllY48AgQIECBAgAABAgQIECBAgAABAgQIECBAgAABAgRqExC8rI1aQQQIECBAgAABAgQIECBAgAABAgQIECBAgAABAgQIVAkIXlbpyCNAgAABAgQIECBAgAABAgQIECBAgAABAgQIECBAoDYBwcvaqBVEgAABAgQIECBAgAABAgQIECBAgAABAgQIECBAgECVgOBllY48AgQIECBAgAABAgQIECBAgAABAgQIECBAgAABAgRqExC8rI1aQQQIECBAgAABAgQIECBAgAABAgQIECBAgAABAgQIVAkIXlbpyCNAgAABAgQIECBAgAABAgQIECBAgAABAgQIECBAoDYBwcvaqBVEgAABAgQIECBAgAABAgQIECBAgAABAgQIECBAgECVgOBllY48AgQIECBAgAABAgQIECBAgAABAgQIECBAgAABAgRqExC8rI1aQQQIECBAgAABAgQIECBAgAABAgQIECBAgAABAgQIVAkIXlbpyCNAgAABAgQIECBAgAABAgQIECBAgAABAgQIECBAoDYBwcvaqBVEgAABAgQIECBAgAABAgQIECBAgAABAgQIECBAgECVgOBllY48AgQIECBAgAABAgQIECBAgAABAgQIECBAgAABAgRqExC8rI1aQQQIECBAgAABAgQIECBAgAABAgQIECBAgAABAgQIVAkIXlbpyCNAgAABAgQIECBAgAABAgQIECBAgAABAgQIECBAoDYBwcvaqBVEgAABAgQIECBAgAABAgQIECBAgAABAgQIECBAgECVgOBllY48AgQIECBAgAABAgQIECBAgAABAgQIECBAgAABAgRqExC8rI1aQQQIECBAgAABAgQIECBAgAABAgQIECBAgAABAgQIVAkIXlbpyCNAgAABAgQIECBAgAABAgQIECBAgAABAgQIECBAoDYBwcvaqBVEgAABAgQIECBAgAABAgQIECBAgAABAgQIECBAgECVgOBllY48AgQIECBAgAABAgQIECBAgAABAgQIECBAgAABAgRqExC8rI1aQQQIECBAgAABAgQIECBAgAABAgQIECBAgAABAgQIVAkIXlbpyCNAgAABAgQIECBAgAABAgQIECBAgAABAgQIECBAoDYBwcvaqBVEgAABAgQIECBAgAABAgQIECBAgAABAgQIECBAgECVgOBllY48AgQIECBAgAABAgQIECBAgAABAgQIECBAgAABAgRqExC8rI1aQQQIECBAgAABAgQIECBAgAABAgQIECBAgAABAgQIVAkIXlbpyCNAgAABAgQIECBAgAABAgQIECBAgAABAgQIECBAoDYBwcvaqBVEgAABAgQIECBAgAABAgQIECBAgAABAgQIECBAgECVgOBllY48AgQIECBAgAABAgQIECBAgAABAgQIECBAgAABAgRqExC8rI1aQQQIECBAgAABAgQIECBAgAABAgQIECBAgAABAgQIVAkIXlbpyCNAgAABAgQIECBAgAABAgQIECBAgAABAgQIECBAoDYBwcvaqBVEgAABAgQIECBAgAABAgQIECBAgAABAgQIECBAgECVgOBllY48AgQIECBAgAABAgQIECBAgAABAgQIECBAgAABAgRqExC8rI1aQQQIECBAgAABAgQIECBAgAABAgQIECBAgAABAgQIVAkIXlbpyCNAgAABAgQIECBAgAABAgQIECBAgAABAgQIECBAoDYBwcvaqBVEgAABAgQIECBAgAABAgQIECBAgAABAgQIECBAgECVgOBllY48AgQIECBAgAABAgQIECBAgAABAgQIECBAgAABAgRqExC8rI1aQQQIECBAgAABAgQIECBAgAABAgQIECBAgAABAgQIVAkIXlbpyCNAgAABAgQIECBAgAABAgQIECBAgAABAgQIECBAoDYBwcvaqBVEgAABAgQIECBAgAABAgQIECBAgAABAgQIECBAgECVgOBllY48AgQIECBAgAABAgQIECBAgAABAgQIECBAgAABAgRqExC8rI1aQQQIECBAgAABAgQIECBAgAABAgQIECBAgAABAgQIVAkIXlbpyCNAgAABAgQIECBAgAABAgQIECBAgAABAgQIECBAoDYBwcvaqBVEgAABAgQIECBAgAABAgQIECBAgAABAgQIECBAgECVgOBllY48AgQIECBAgAABAgQIECBAgAABAgQIECBAgAABAgRqExC8rI1aQQQIECBAgAABAgQIECBAgAABAgQIECBAgAABAgQIVAkIXlbpyCNAgAABAgQIECBAgAABAgQIECBAgAABAgQIECBAoDYBwcvaqBVEgAABAgQIECBAgAABAgQIECBAgAABAgQIECBAgECVgOBllY48AgQIECBAgAABAgQIECBAgAABAgQIECBAgAABAgRqExC8rI1aQQQIECBAgAABAgQIECBAgAABAgQIECBAgAABAgQIVAkIXlbpyCNAgAABAgQIECBAgAABAgQIECBAgAABAgQIECBAoDYBwcvaqBVEgAABAgQIECBAgAABAgQIECBAgAABAgQIECBAgECVgOBllY48AgQIECBAgAABAgQIECBAgAABAgQIECBAgAABAgRqExC8rI1aQQQIECBAgAABAgQIECBAgAABAgQIECBAgAABAgQIVAkIXlbpyCNAgAABAgQIECBAgAABAgQIECBAgAABAgQIECBAoDYBwcvaqBVEgAABAgQIECBAgAABAgQIECBAgAABAgQIECBAgECVgOBllY48AgQIECBAgAABAgQIECBAgAABAgQIECBAgAABAgRqExC8rI1aQQQIECBAgAABAgQIECBAgAABAgQIECBAgAABAgQIVAkIXlbpyCPQYwIrblmRFi4dSIcfdcCUtuxHP/5BsZ6n/uUTprQeCxMgQIAAAQIECBAgQKDbBf76VS9OL3vFCye0GSc/40nFMdU3v/W1PV7uM5/9ZLHMRMva4wLMSIAAAQIEelzg5ptvcm60x9vY5vWOgOBl77SlLWmYwBvf/H/SCU94eHrVa15aWbM//vG6Yr6Y97vf+1blvFPNHBgYmOoqiuVnzGh9dEzX+qalUlZCgAABAgQIECBAgACBSQh8+StfTI878RHpPz/xH+MufeONNxTzPP+Fzxg1zznnnp0++V8fT5/69CfSj3/yw1F5XhAgQIAAgX4WeNNbXr9H50avu+7a4XOj3/nuN7uCzLnRrmgmlexyAcHLLm9A1W+uwEUXX5DOOvsn6ROf/Gi6/vo/jlvRL57x2WK+mDcOiNuZBgcHp2X1O3bsKNYzXeublkpZCQECBAgQIECAAAECBCYhECdNf3rWj9MVV/1h3KU3bNxQzPPzX5wzap6jj75zevjDHpke/KCHpmOOufuoPC8IECBAgEA/C1x04W/26NzoGV/6XG3nRqerPZwbnS5J6yEwvoDg5fg2cghMWWD+/PkpAnwRoBwvnXHm59O8efOK7Hb3ZJyu9bu6aLzWNJ0AAQIECBAgQIAAgX4SWL7P8vStr/8gfe/bP0n7Lt+3nzbdthIgQIAAgUqBgTxyW9POjVZWeAKZzo1OAMusBCYpIHg5STiLEdgTgf322z/d4x73TJ8/4zO7nP33l12aLsxXIT36UY/dZf50T5yu4OV018v6CBAgQIAAAQIECBAg0E8CM2fOLDZ3IsdoMyaxTD+Z2lYCBAgQaJ5AnBu95z3vvdtzo4965PG1VL78Lq2lMIUQIDAlAcHLKfFZmEC1wJrVq9MzTnlOuvjiC9PvLr1kp5m/8MVWUPORj3jMTnkjJ8QQRs953snpiKMPTAcfuld62sknpm99++sjZ9npedy35QknPSrtd9Ci4kbU//jed6R5c1s9PHeaeWjC1VdflV7z2penY449oljmoEOWpX849Y07zT6RA+ydFjaBAAECBAgQIECAAAECPSQQx11PfPKuT7peceUf0qv/v5elu9z9sOIY68QnPTrFcdeC+QvGFVi/fn167/vflR70sD8vljn6rndM3/3et3Z7PBf33PzLp5+UDjl8ebHcve97l/TVr315p3I++vGPFPfvvOXWW9JvL7m4OAa87wPulvY/eHF66CPuly7Kx68SAQIECBCYqkCcP4xzo6f85bPGPTdajlZXnhsd75xjfMdN9NzomV85ozg3Gt9vC5cOpDg3OnfO3MrNcm60kkcmgVoFBC9r5VZYvwncvur29BdPPaXY7M9/4dM7bf4Xco/MEx77hDTeF3Ms8K+nfaA4sDzzq2ekxYsWpzvc4ZDiwPXkZzwp/d+3vmmndcaEU9/25vTc55+S4ot9/rz5xf1X3vaOt6THPO4hu5w/Jv7mN79OD3n4fdLH/vPf0rH3uFd61Stemw468OD0/g+8J73yNX81ajn3uhzF4QUBAgQIECBAgAABAn0s8JOf/ijfq+vHOwlcdNEFORh43/TxT/x7uvbaa9L97/fAInB5nwcck359/q+K+cceC0bg8qSnHF8c08Ux2t3yfTQP2P/A4gLWODaLNHaZmBbHcRFEjfU+LR+DPu+5L0orV96anvXcv0jf/NbXYpbhdNVVVxT37/z0pz+R7vfAu6fvfO+badmyvYpbnvzvr3+ZTnjCw9LqfLJZIkCAAAECUxGI84e7PTeaO3Y87oQTUzkM667OOca50fiO29W50V11uog6x7nR5zz/5OLcaHTmiHtTx7nR4x//0HE3ybnRcWlkEOiIgOBlR9gV2k8Ce++9T3rkwx+dvvil0fe9/OWvzisOXJ9+yrPThnyAuqv02c/9V/q7N70u7ZUPJH/yw/PSBb++LJ33swvS//7iknTAAQem9/3zu9NpH/mXUYv+9/e/U1ylu2jRovSNr34/XXPlLcX9V1bcsC494H7HjZq3fLF27dr09Gc/JW3dtjWde9b56bOf+nJ6z7v+Of3qvN8WwdVP/L+Ppp+dc1Y5+y4PloczPSFAgAABAgQIECBAgEAXCZTBwBuu/2MR1IuRb8b+/ep/f1FsUXlydXebt2nTpvSMZz81rVq1Kv31y16d4njsh98/J118wRXpc58+M/3x+ut2uYq3/N83pJ+fd066+92PTb+76Op03jkXpp/+6Bfp0ouvKY7XdrXQuT//WdF7MoKj5//y0vSB95+WTv/Xj6Vz8rHd/vsfkP76lS9KUZ/hlHvCRPr7XNZLXvTyYpnvf/esdPnvri8CrFHnT3/2/xXz+EeAAAECBCYrUH6/xrnRRzz8UTudG40LZq66+sp08l8+c/jcaLlMWeZnPvvJ4tzosmXL0o9/8POdzo3GhT0fPv2D5ezF48hzo9/82v8Mnxu9+fq1zo2OkvKCQLMFBC+b3T5q1wMCmzdvThGgjCtt46CyTDFkbAQYn/iEJ6dt27eVk0c9vv1d/1C8fufb35vu8+f3G86785/dpTgYjQnves+pw9Pjydvf2VrmQx/89/TIRzx6OG/hwoXpTW88dfj1yCf/8bHT0nXXXZtO/Yd3FffoHJl36lveWbz80pc/Pzx5V1dBDWd6QoAAAQIECBAgQIAAgS4SKI9vvvilzxWj3jzuxEfs9PjCFz+r2KIdO3bs0ZZ97vOfKk7IHvfAB6f3/uO/pDgeK9NjHn1CPonbOlYbub4Vt6xI//7R04p5v/ql76RDDjm0XCTd8Y6HpFe/4nXF65HLxIS3vv3NxfR/O/0TacmSJcXz+HfwwXcoAqcrb1uZe578YHh6+eTVr3xd+uA/nz5ct6VLl6aX/tUri+z/HQrWlvN6JECAAAECExUov1+Lc6Mn73xuNIaMnT9/fnFudPuO7cXqy2XKst72zrcUT9/9jven+97n/uXkFOdGT/vQR1t5//jW4enxZOS50QialinOw77xDa3zpuW08nFPzo2ekX8nlGlsPcvpHgkQmD6BWdO3KmsiQGBXAvFldtITn5pe/dqXpRg69oEPeFAx25fP/EJ68pP+Is2bN2+XPRkv/u1FRcAzriyKIX/Gpsce//h0xOFHpiuHhvx56EMenv74x+uKYYKW77M8jyf/zLGL7LKcmOlLuS6R4kqnsSmu+I100cUXDGeNvQpqOMMTAgQIECBAgAABAgQIdJlAeXwTx2plUHHsJqzKtwQ5/d8+NDys3dj8sa+/9o0zi0mvfuX/GZs17utvfPMrRd6TTnpaMdLOuDOOyLj55pvykLU/Sfe77wPS0Uf92Yic1tP7/HnrRO+FF/2mGFUnpg4OBWAPO+yIneaPY8xI4/UM3WkBEwgQIECAwDgC5fdreW70Na97+ahzo3HR0FOfcnIRwCxXUS4Try+88DfFuc44N/rc57ywnGX4MW7FNd650Rh5YFfnRocXHvPky1/5YjGl6tzoxb/90z2hR9ZzzKq8JEBgmgQEL6cJ0moIVAksXry4uIrojC9/Lv3LBz6Svvff305xVe0zTnnOuIvdeOP1Rd5Rd9r5ALRc6Jh8/5MIXpYHlldfc1WRdac7HV3OskePV175h2K+Z+ZhjcZLq1evGi/LdAIECBAgQIAAAQIECHStQNl74v73Py69+Y2n7nI7rsjHTBG8HNvrcZcz54lxX8lIR+0ioFhk7OJfHNtF2lUQchezF5NiuL1I11x7ddFbtHgx4l/cQzPSqj08nov7gkUaNcxsMcU/AgQIECAweYEYGeDExz8pxbnRf3z3B4p7Ra9YcXN6eu6ROV668aYbiqy73PmY8WZJd73r3XZ9bvTIo8ZdZlcZV1xxeTG56txoXMgkESDw/7N3F2B2VGcDgD80BAvBgxb5cbfg7lZa3K24W/Hi7lZKobi1OMXdvbg7wSF4CA7/nLmZy3o2yWazM/vO8+zekTMz57znzr135ptzpvMEdBvbedb21M0FUtexX331VVxz7ZWRukVIXfgsucTSrap89913+bJxxvm925+miXv1Gi+f9d13A/PXb775On8dbbTRmiZtc3rAgAFtLl9s0SVi/uxOXgMBAgQIECBAgAABAgQIDF7g24G1oOGoo7b/nvFvB52XjTZq+8/nBgz4Js9MEYBtmrPUXW3qpWeGNm6KbbqOaQIECBAgMDwEimuj/73x2kiP00qtIxs+8qrpPlN3s2kYc8zfu15vmqa4btr02uiQfP+mbbo22lTWNIERL9D+X9EjPq9yQKDUAqkrgwmyB1RfefXlceddt8VfttyuXp6W7t6deOJJ8uX9sjtoWxveHnSXbZ9JJ8uT9O49fv6auo9taWhpPyld2le62+k/l13f6BkpLW0jzWttO62lN58AAQIECBAgQIAAAQLdSWD87Nzsww8/iPfffy+mb2frj+J87v0P3ms31SQTT5qnnSbrAvbmG+5u93oSEiBAgACB4S3Q9PrhSiuuGun78Zprr4i777kjNt9s62ZZaLhOcW30nUE9zTVLnM0orps2vTb67rv9Wkre6rw+fSbLv7cvv+TaSN3UDm5omM/BpbWcAIGhE9DycujcrEVgqATWXmv9uPa6q+Kbb76JDdbbpL6NlvpJn2vOeSJ1N/t61m3Ba6+/Wk9bjKRuZx948L58MnVvlIaiG4XUddDbb9e6kM0XDPrX0n7SooUXWjRPcdfdtw9K2fZLa9tpey1LCRAgQIAAAQIECBAg0D0EZpt1jryg6eJse4fZZhvydWaffc78Jtnnnn8mPv/i8/buSjoCBAgQIDDcBVq6fpiujV53/dXx9ddfx/otdBnbcJ3BXRv9OGuI8eBD9+flaHptNHXF3tK10dYKvchCi+WLXBttTch8Ap0vIHjZ+eb22I0FUvcIaUgnmLPM3Hp/7SnNGGOMERtvuHkajQMP2jt/bfjv0MMPyCc33GDT/GQ1TfTq1aseiDzi6IPz5Q3/7bPvbg0n6+Pbbr1TPr7jzlvFw488WJ9fjHz00YfFqFcCBAgQIECAAAECBAgQGIzAcsutlKc4/4KzI11cbTjcettNeW88Deel8aWXXC6f9dLLL8bV11zRaPFnn38Wfz/r1HzeyCM3vpSz2aZbxcCBA2Od9VaPls7dWprXaOMmCBAgQIBAJwkU10ZnmnHm/PpoW7tN10Y32mCzPMnQXBs96thDm21+3/33aDYvzdh6qx3y+Tvs/BfXRlsUMpNA5ws0/sXb+fu3RwLdSmD++frGIQcdGUccdlyjcje8q6jhgkMOOiprTTlL/PeGa2OtdVeLf2fPyrz+v9fE5ltuEOedf3ZMNdXUccyRJzVcJQ4/9Nh8+tLLLowt/rJhnv60M06KBRaaPS7P+pNvaUjPtNxph93ii+zB08uusGiss/4f833dmbXE3HKrjWK6GSdrdLdS7/F655t56eUX6q0/W9queV1D4Isvvohffvmla2RGLtolsNRKG8ZIY00XDz/6ZLvSd3SiZ597Od//XAuuOkSbnnbWJfP13n6ncVdnO+x2UGz8l5ZPEIZoBxITIECAAAECpRDw+zNi/ezG1b4LLBSf9v80lsvOsf513ll5S5PNtlg//rz2KtGjR4+8LhsGInv37h0H7l+70LrxZuvEkUcfErfcemN2M+s+Md8Cs8Sbb76er9P0/HHfvf8Ws806e36xdZ4FZo7d99wxbr/jlnx/iy4xX6yxVi2QWoo3j0y2KOCYapGlUjM3+cue+bnUxZddW6lyKczQCVTlmG/6fZU0Fph/wTj4b0fEsUef3CJO03XStdEZZ5ipxWuj519wTpvXRi++5Pz4y9Yb5+ueevqJ+bXRdG21pWGRhReLHbffNW8RWlwb/c+Vl0XDa6NvvfVmfdXi2uiLLz3v2mhdxQiBjhXwzMuO9bQ1AoMV2HP3fZul+e2335rNSzPGHHPMuP+eJ+KY4w6PCy48J26+5YY83bjjjhvbbr1jdmJ7WLN+2NMJ8tVX3BhbbbNJHoAsvpSXXnLZOPLw4+PgQ/ePlp6hcvSRJ8a88y4Qp2Vf5jfedH3+V2Rql532yJ+LWUzPMcdckZ7hmU6kd9jpL/HMk827tS3Seh2xAp9//nk8/PDDeavcBRdcMIb0geUjNvcjZu/9+38ea29ca43cWg56jD563HLdea0tNr+BwJNPPx9//+fF+Zx111wlVl1p6QZLjRIg0JUEbrvz/jjq+H/EyissEXvt2vz5M10pr/JCgEDXFUgXXB966CG/P7MquvqKm2KjTdfKnut1Z+y867Z5paWbU/fYbZ/4w9TTxE67bhNNn5m1z18PjB9//DE/BzziqIPzdSYYf4JYbtkVY8cdd49FF5+32Y2JPXv2jHvveixOOOnoOC9r6XnW2Wfkf2nl9LywQ7MLv4byCjim2l93/d79IDbdeq+YZuop4tx/HNPqiilQ+O77H8b5Zx0bU081eavpOnNBEbApXjtz3/bVtQSqdMy3dr1zrz32axW96TpjjTVWPHjfky1eG91um53ioAOPyB+71XCDDa+NXvbviyP9pWGpJZeJo444IQ46ZL8Wr40ec9RJMffc88WZ/zi12bXR1OijeAZn2lbDa6Pb77hlPPvUa2m2gQCBDhQYKftAaDlq0oE7sSkCHSnw8qCbXKaasCO3Wo5tvfraK/HD998PtluFojSPPPpQpDt5011NQzKkH0ovv/JiflI85xxzN/sRUGzrxZdeyINhM/zfjMWsLvfar38tSzNN2+Wy1ikZShdDUvDyyy+/jBT0XmihhVoOYH40qLvgCdvuzrhDMv1Bsa+ZO2RzHb2R97KT2ClnWLTNzY4xRo/47rMX20wzLAtTy8t77nskHrrrilio7zzDsqmhWje1vJxzwVViztlnjqcfqd000Z4NpZaXb739brz14r3ZBbkp8lW++uqbWHeTnePrbwbElZecHpP1maQ9m+reafq/VCv/ZIt0jkMXPyY7B8FeksAFl1wVm23919h847XavOBHi0DlBDr6c7f/CzWiSTvpc7yLVUh7fn92t3O6dN7UP2uBmVqOTDLJpO2qsfT8yueffzbGzwKXqVXlkAz9+r0T7/R7O38USer9p+yDc7p2nNP1u7FWzRN2zXOsznoPvvTy6zHLvCvErLP8Xzz/+C2t7naGOZeJ115/O0tzc5Z2hlbTdeaCFFC96LJr4qJzToiN1l+jM3fd9fZVfC9PtUrXy1sn5Mj3aNvInXVtNF1HSz3OpZ7MXBttu04sJTC8BLS8HF6ytktgOAgMaZBwwb4LD1UuUndFCy04+Istg3tu51Dt3EodKpCC13379s0DmOlh6CmQmVpgjjbaaB26nypubMop+kS/Vx6oYtE6tUy9eo2jlWqnitsZAQIECBAYsQJ+fzb3H5rzpvF7jx+LL7Zk8421Y056vEj6M1RDwDFVjXpUCgLtFXDMty3VWddGxxtvPNdG264KSwkMdwHPvBzuxHZAgACBESuQuopNAcvU8jIFMFM3XqkrKkPXFRh55JHyzKWTlhExFPsd0i6LRhmllt8hXW9ElNE+CRAgQIAAgeEn4Pfn8LO15e4p4Jiqfr07l6p+HQ9JCR3zQ6IlLQECVRUYMVdFq6qpXAQIEOiiAqmlZQpgjjPOODFgwAABzA6upyOOPSNSV69puPPuh2Kd7JmZE041X0w321Jx+DGn1/eWulDdfZ8jYpJpFog+0y4YG2y+awwc+F19eTFS9Og+2mijxo233B1z9F05RhpruvwvbTt1bdvakPa/+tpbxwRTzpunn23+FeP6G+9oLXmce+EVsfjy68WYWZfBvfrMGaf/48LsebtjtJo+LXjksafyrmAn/sP8+T423+av8cUXX8WY2fOWWhpW+fOWdZ9i+fff/5DPO/akf+az0n5XWmOLGG+yuWLqmRbLnYq0TV+vuvaW3HiqGRfNy5nsG/79df+j66t8++3ASNMzzb1cntdUzr0POCa+ybqxNRAgMOwC6XjcLHu21DwLr14/xrbZaf/47rvv6xu/74HH8mP0gENOrM9rOrLmBtvHsqtu3HR2nH/xVbHECuvHWBPNlm8/fV4989ygrpUbpN5ht4Pyz9Q0Kz1rd7nVNsnTH3zEKfVU6fNugcX/VN/W2hvtGG++1a++3AgBAh0r4Pdnx3raGgHHVOe9B8676MpYbLl1678Z0u+P9GiNpkM6l/vHOZdG+h0z/exL5789Jpp6/jj59POaJq1Pv9Pv/dhx94Pzc8V0jpf28/Irb2TdPPeopzFCIAk45r0PCBDo7gKCl939HaD8BAh0G4GGP3y//fbbPID5ww8/dJvyD8+CvpSdbKZnVB5z4ln5xfdnn385ppy8T35R/MBDT4rd9j48PyGdb7E/xnU33JEv++jjT+Oy//w3ttx+n2ZZK1ouHnLkabHqmn+J0UYdLZZcfMGYItvmFVffFHMttFr2HKP3m613yhnn5/t/6pkXY721Vo0tNlk7Pvq4f/xxnW3yIGjTFbbcbp9If/c/+HhMNOH4+TMud9rjkFhrwx2bJq1PX3P9bbHQUmvFf666MQu8fh+LL7pA3HTbPTHzPMtH/8++qKdrOHJftv3k89NPP9Vnp+d4pHn33v9orLD6ZpH2+00WWO8z6cTR790P4qTTzo2DDj+5nr4YOfPsS7L87RA33HxXLLFY31h95WXi0cefzrf1/gcf5ckaPs172VU3ieNOPjt6jTtO7LXrVrHZRmvGP8+7PObPAhgGAgSGTWDu7LMoHY//zY7H1EV0+pzq0WP0+Oe5l8dm2U0NxdB3/jnj8f89Gyecek52A823xez66/MvvBpXX3drjDpK4ydabLTl7pFujvj8iy9j279sEGuusWL+ebXkihvE62+8XV8/jfzvqefjltvvy2+uWHTZdfP9pfzMPON0ebp000L6vPvk08/yz4F99tg20md1usnk1dfearQtEwQIdJyA358dZ2lLBJKAY2r4vw823GK32GLbveOrr79p9PtjiRXXjzfefKeegbfefjemmXWJ2G6XA+PpZ1+K9NiRdG7Uv//n+flfOjdrOqQg5QJL/CnOOOui/Fyx7/xz5b9N0rnUPdl5kYFAUwHHfFMR0wQIdCeBxlcIulPJlZUAgW4lcOONN3ar8ransCmA+cQTT8Qiiwz++abt2V53TlMEG/c58Ng49MDd4sB9asG/FFRbcMk18ztvU4ufbbfcII45fO+c6ulnX4yFl147Lr/ihjjuiH3ywGRTw6eeeSEeueeqSCe1xbD8apvG7Xc9EFvvuH/cev35xey4+96HY9e/HhaLLTJ/3HDl2Vk3wePkyw585738BDldtP/ord9PiNPdxClPE0zQO/57xT9job7z5OlT69Cts1ZTad9NhxQw3WSrPfPZp51wUOy47Sb1JOmO43Ti3t6hMLvp1nvyE/27bro4llpioXz11JIrBUTO+OfFccgBu9Y3mVpL7p0ZjzPO2PH4fdfEjDNMmy87YO8dYp5FVo9xxh477r75knr66264PQ9kpCDuv878vTXm0YfuFW9obVV3MkJgaAUWX3T+2Hj9NWL3nbesbyJdsJsxa+mcbnA4NDt+03Hao0eP2GSDP0W6+eCKa26OzTdeq54+jVx9/a359Hprr1qff3x208Ell18Xf9ls3Tj7jCPr8++65+FYZpWNYuc9D42brjm3Pj99pqQW4OtvtmtssM7qkT6jevastSJPAdPUynv66aaO1569q77OUdlnQdreDP83TX2eEQIdKeD3Z3PN4vfnBH38/myuY87gBBxTzYWKY2qRKZsv645zinOMdJNlulGytSH1ApOGIn2RLv1euPTf18d2W20Yfz/50GJ23rtO6iFil70OixuuOiefP80fpow5ZpspP8dLN1gVwwMPPZG3pjzq+DNjlx02K2bnr2tvvGN88sln+U2mJx2zf/2cLfWes+aG2zdKayLCMd/8XVAc875Hm9uYQ4BA9QS0vKxenSoRAQIECHSAwLvvfZh3+1N011q8pu6AWhuOP3LfeuAypUlBx2WXrl2c236rjeqBy7RsrjlmiZWWXyKNxmNPPJu/Nv134dnHNwpcpuUXnXNCnuy2O+/PL9QX6+x70PH56AX/PK5+Epxm/GHqKSLt++NP+sftdz5QJK+3arziotPqgcu0MLWe2n+v2olz0X1tsdLxp9RaTe203SaNApdpeWoVlU7g09B0vXxmk39FmjHH7BmPZYHIInCZkqWT/xTw+CxryZnuTi6G+7MLASmAuepKS9UDl2nZdNNOHWv+ccW8q8h0B3QxpBacaZhu2qmKWflrCuzOPeesjeaZIEBgyAVOOe5vjQKXaQsTZq24V1up9jn5yONP1Te63V82zMcvuuya+rxiJN2wkO4qX2vQhb/U5ezBR54aU081eaPAZUq/9JIL5Z+dN992b6PPwGJbs8w0fZzz96Pqgcs0/733P8oXTzXlZEWy+mvanoEAAQIECBCohkBxjpHOCRo+VqLpeDrXS0ORPo2nx02knl/S+VPDwGVatsxSC8fyyyyW92bzddYisxhu/++F+blLMZ1eF114vvzGqHT+9cqrb9YXpZtWU28T8849W35jZXGzaUqQtr/6ysvmaRvmqb6yEQIECBAg0A0FtLzshpWuyAS6o8Aqq6zSHYvdrMw//vhjPPLII1kA6JsYa6yxYr755muWprvPKO6+TUG8XXfYvBnH+L3HazYvdYGahnSi23SYbpqp4o54sMVl02dBtzQUJ8/Fur/++ls+mrpfbDpMMsmEedeM6U7iFBhYafkl8y5kUyvP1E1REUBsuN5CfefOJ9Nz4pZbZtEsWPpMvs/ZZp2hUdCw4TotjaduHdOwy/ab5a/D8q84KU/Pdpl0komabSq5pZP9FHSYaVC3j+mCQhrG6zVus/Tjj1+rlxSwLAwWXKBW7pPPOC+mnnLy2HC9PzZbzwwCBDpGIAUcX3jptbwL1g8/+jTfaMPPttlnmzHmn3eOrBXEo5G6eJ58sknzNKlFd+q+9Y+rLhdjjz1WPi91C52O93RTREtDOrZT8PK5F17JP/captl7920aTubj6TNk4oknyFtZHnb06bFT1mp8vPGaf440W9EMAsMo4PdnDbCl359vNe/9fhi1rd4dBBxTrR9T8XHrz7jvDu+NoozFuVz63i9unCqWNXw9Peu2Nd0oWaRPy/57012RWmSu8+eVGyatj6dzqnQD6XNZAHKRheatzy9Gvvzy6/w3zetZ17LFuc77H3xcv+my6Gki3QhqaJ+AY77m5Hu0fe8XqQgQqJ6A4GX16lSJCBAg0KJAet5gw8DlwgsvHKOP3jw41uLK3WhmcaI5btY16cH77zLMJU/BuTQU2224wSI4+UMWVB6SYYrJaxf9336nduXvjTf75au//sY7+R3GTbdVPGMuPbclDUX6/5vuD/l0e/79/PPP8cGHH+cn+Kml4/AeCreGNuku5TQ8+XTzLm0feuTJfFnD7h9ToOSfpx+Rdy+Znp231/5Hxzprrhx/3W3rmKzPJHl6/wgQGDaBJ558Ln+ubOomtunw7bffNZq19Rbr5c+ivOCSq2O/QS28/3N1bb30nN5iKLp1TkHM9CzLpkP6LErDF19+VV9U3ESSbjxpabjhynPiT+ttF3877KT8b60/rRS777RFo5bnLa1nHgECwybg9+ew+VmbQFMBx1RTkcbTxTnXRFlPEG2dy136n+vz4GWRPm3lzbdr51TX33RnPJY9q7vpkG6+SkPD3x9pOv0GOuXv50dxPpLmFcOA7FEtxTA052DFul67r4BjvvvWvZITIBAxMgQCBAgQqL5Awx+8Y2fPBRS4LHed//LLL3kBRhml9jX+zYAB+XRx8b5p6VJrpiUXXzB/3lta9u3AWgvG0UcfrWnSVqfTncRpKIKKrSYcjgumzVpjpufGpFamm261V7z+xtuRuoRKz/N8+NEnY4N1V48+k07cKAdbbb5efPD6w3H4QbvHwO++i1POOD9mnmf5/FmjjRKaIEBgiAV22/vwmH+xNfJWkOl5lWeeclg88cC19S6yG14QTBtff+3V8taVF2fPsiyGa66/PVL30WustlwxK291mSaarl8kSDcfpM+0llptF2mavqabGd577cG4/IJT8q6mr8yevZmeO7zHvr8/T7PpOqYJEBg2Ab8/h83P2gSaCjimmop07PSAAbVzpNZ+f6ReI9Lvj0kmnjDf8cCB38XSK28Y626yc96rzfZbbxSXnX9KvPzU7bH6Ks27gE3nImlIXeUbCLRHwDHfHiVpCBCosoCWl1WuXWUjQIBAJlD84P3666+zZyGOGwsuuKATppK/M4pnORbPbytOoFPXiHfffMlgSzfB+L3zNMVz4Aa7QpYgPccuDalryNTF0gQT1LaRz+zEf6nL2nPO/09ceOnV+V/adcrLblkLqiMO2qPFnPTu3Sv2/+sOWSurLeO8i66MHXY7KNbfbJesC6dpPPuyRTEzCQxe4L9Zq4STTz8v5phtpkjPe0rdsxXDnfc8XIw2eh1rrDFjw+wmg7P+dVk8/eyL0WeSies3HjS8MWKiCWvbWiPrSvaYw/dutI1hnVg3a+GZ/lK3b1vtsF+ceOq/siDohLHXrlsP66atT4BAA4HUY0Pq8cPvzwYoRgkMg4Bjahjw2rnqxBPVfn/8efUV4shD9hzsWocfc0bcfe8jkW7gSkHLwQ0TDjp/Sudg6aYqA4G2BBzzbelYRoBAdxHQ8rK71LRyEiDQbQUee+wxF44qVPsffvRJ1u3iczHKKKPEwn3nyUs21xyzZIHpsbPuVJ+Pr776ZrClnSN79lwaHnz4f1G0qBzsSlmC9IzMNNxx94P564j4t+Iam8c8c80aH775SB6ofeXpO6J/vyfixKP3j549x2gzS2l5uiN69523zNPde/9jbaa3kACB1gWKz4HUGrph4LL1NWpLUtexabj+xjvjrntrQc5112z8XOrFFpkvT3PnPQ/lr8Pj3/LLLBb/OPWwfNM+C4aHsG12d4FHH33U78/u/iZQ/g4VcEx1KGeLGyt+f6QbnNozFOkO2nfn9iSP2WetnYMVv6HatZJE3VbAMd9tq17BCRBoICB42QDDKAECBKom8Pnnn2fBqS9jvPHGi4UWWkiLy5JU8Mgjj5Tn9NnnX2mW433/dlz8mD0jc7WVl84ClrVnu6UWS1tssnZ2kXBArL7O1vHJJ581W++jjz+tz0vPrCyeW3n0Cf+oz08j6fmYe+zXcjeKKy23RJ72mBP/mbfAbLjiMSeeFW+/817DWR0+nsrw6mtvxWyzzJB3F5m6bWr4jMumO7z5tnvyZ9A0nT9Gjx75rN69x226yDQBAu0U6DlG7WaBpi24v//+h7j1jvvyrYw0Uu2zrOEm55lrtuwGhNniXxf8J66+/ta8G9mia7Ui3dxzzhp9558rf97l1jvu3+zzJrUAH5IbLz7+uH8ccuSpxebrr79/FvSqzzNCgMCwC/j9OeyGtkCgoYBjqqHG8Bufd+7ZY4H55qz//mi6p/T7o+GNosWNk01/C733/ofZTaUv5KuPPPLvl11XWr52LnX+xVfFm2/1a7T5dBPq9Tfdkc9r6fdTo8QmKi/gmK98FSsgAQLtFNBtbDuhJCMwrAInnXxs3Hv/3XF+1lVaCiQZCHSGwPjjj58/37JXr17R8MSpM/Zd1n0UJ4uf9v88llppw1aLcdaph7cZOGt1xXYsKPKw38HHx9//eXHWxeEqMeP/TRtXXHNT/PvKGyN1g3rysQc22lLqMvXWO+6P+x54LGace9nYeP01YuUVloyBA7+Pw44+PWupOXL2LLrfnzN38rEHxGprbRUp6Pj1NwNixeUWjxdffj3OvfCK+PCjWqCzyEexoz132Sr+fdWN8dQzL8Tyq28aW22+bow80shZ963XxO13PZC3/kwB1KbrFesP62t6vl161kw64U8B216Dgrdpu6nr3JlmmDZ/Dk2xnx12Ozh/JuapZ14Qqfun1EL11dffipNOPzffzpp/XLFI6pUAgUwgHc9puOX2+1r9/Nt0wz/HZhutGQsvWGv5fdzJZ+fBxdT92c233ZsHJKeZeop8O639S60vt935gEhdYKdttTRcdM4J0XfJP8fZ512ef76k/S6+yALxxlvvxAGHnhjp+P37yYe2tGqzeQcedlK+nfRZtV7WZeyiC88bP/zwY+y29xF52h232bjZOmYQIDD0An5/Dr2dNQm0JOCYakll+Mxr+vsj/U5ZbOH54/U33470e6Lh749FF5ovHnjoidhy+31ip203yW+uTDdmpd9RM884faQgZsNhtZWXidTzQ2qxucQKG8Rfd9sqppyiT1x3wx35+U3qScdAIAk45r0PCBAgUBMQvPROINAJAt98800ccFDtmU3nX3B27LrLXp2wV7sgUBPo3XvEPJuwrP6//fZbnvXUeuie+x5ptRgp4De8hl9//TX6TDpxPP3wDXlLyv0PPqG+q/XXWS2OOeyv2YnuZPV5aWTMMXvGkw9eH6klZXqe3GlnXpj/pWUpsHfcEfuk0fqw6kpLxyXnnhTb7XpgnHn2Jflfeh7dUllrxvPPOjbW3minKCyKlVLXkLded378eYPt8xP1dLKehtRC6tTj/xYvv/pmHmxtul6xfke87pp1UbnX/kfHSaed2+Lm0gWAay4/M9Kd0/fccmkcedzf44ab74499v29NekKyy4eJx2zf97iq8WNmEmgmwr8+tuveclT99Tpr6VhsYVrXbqm1pK77rh5/tzLogX3ZH0miaOyZ0Sli3mzzrdis8+QYnsbrffH/Jj89tuB+XOiivkNX/9v+j/ES/+7LQ464uS45N/XN2o5mbqw3mCd1Rsmb3P8lOMOjBmy7V102bX5Z0KReM7ZZ47rr/hn/hlWzPNKgEDHCPj92TGOtkKgEHBMFRLD9zX16vLCE7fEQYefEpdfeUMcfMTvz7Js+vvjwH12jIcfeyq7Sf3R/Pwk5Sz1HnHDlefEW++8G3/Zft9I53UNh3Sesu4mO2fnJ3fFznvWbsKaacbpsmdvb5Wvu8Hmu7b6+6nhdoxXX8AxX/06VkICBAYvMFJ2gbF2lXbwaaUg0CUEXn6zlo2pJuwS2Wl3JrbZfvN49NGH4sLz/h1zzDFXu9cb0QlXXGXJePa5p+ODfl+O6KwM1f779a+tNtO0Q7V691npowdrZZ1w1uFf5g+Kfc08/PdVkT08/r9n45dffsmfk5ICjO0ZUheu7/R7P38OZOr+qLVh4MDv8q6RUkvG1HKqvcP/nnouvv32u0gX/3v1qnVf29517YQ9xwAAQABJREFUhzbdc1k3unP0XTk233itOPbwveP5F1+tb+qnn36Os869LK669pZYfNEF4t5bL6svSyOpK933Pvgw766y0YKuONH/pVquJlukc3LnmOwc54ru5ZnnXoovvvgqb3G9xGJ9213KCaacN28R/snbj7drnZeyluEff9I/xu89Xswx+0ztWqelRKlr7JdeeSNvqT3OOFo4tGTULed19Odu/1p3gTFpJ32Ol7DSynpO1xb1K6++HPPMP3N+o+oRhx7bVtJ2LVt0ifmyG0k+iDde+aBd6aucyDldO2q33421RBM6x2qHVruTvPjSa/HJp5/FBOP3jtlnqz2zsunK9z/4eH6u1qPH6LFQ31rPFE3TNJ1+Ofstkh6JkQKXqXcZQxOB4nt5qlWaLDBZCFTxe7QoW3tfN918vbjy6n/H5598Hz0GPRqmvet2ZLpnn306Flps7tjnrwfGgfu3r2eYjtx/e7ble7Q9StJ0RQEtL7tirchTJQXO+vt5pSxX//617iNLmXmZJlARgSEJKhZF/kPWbWP6G9yQWmwutsj8g0vWbHlq2djZw9En1p7PefqJB+ctTdMzLxsOfeefMw9efvDhxw1n5+Op1Wj6MxAg0LEC6QaGIR1uuf3e+PzzL7Pu0rZu96ozzzR9pL9hHcYee6whulFjWPdnfQIEuo/AZ58Numuyg4r82ecdu70OypbNEOhWArPM/H+R/toahuZcKgUt05+BAIGhF+gq35P9O/j7f+hFrEmgegIjV69ISkSAQEcKdPRJeEfmzbYIEOheAun5eGn45ptvWyx4euZnGtKzZAwECHRNgS+//Dp/1mS6cWLv3bfpmpmUKwIECAyFQEefN3X09oaiSFYhQIAAAQJdVqCrBA27ShC1y1aUjBEYBgHBy2HAsyqBIRHYZbftInXB+tZbg/q9HbTyJputG7vtsUM+dfl/Lon1NvxTTD3tRDHN9JPEZlusn3XL2Pwi/V577xLrb/TnfJ3r/3tNzNd31hir10j534abrBXvv/9es6ydfMpx+f5vv+OWZssef+LRfNnhRx5UX3bmWafFBhuvmXWR8kl89dVX+fKU//SXpg0ECBDobIFVVlwq3+Xq62wdqQunNHz33feRutXdbe/DY52Nd8qfFXPI/rvky/wjQKDrCBx46ImxzU7758/CTF2lnXvm0TH++ON1nQzKCQECBNoQuPPu22OFlZeIqaaZMD/nWmb5ReLRxx7O1/j4k49j5123jSOPOSSfvirrwm6lVZfK/xqeX3399dfx93+cGutusEbMPPsf8u1M83+TxsWXnJ+vV/w79fQT83PCdB740Ucf1reVttl0uOzfF+fLJ5l8nHq+nnrqf02T5dNHH3tYzL/gbHm6dO645193js+/+LzFtGYSIECAAIFhEXjmmadi6+02i5lmmzrSd9Sqf1y22fddsf0LLvxXfq3x31dcWsyqv7762iv5sj322qk+75JLL4iNN10nXsuWpWH1Py1fv2b59ttv5fPSa7p+mb4nv/zyy9jvwL1igkl65t+B6bv8rLPPyNM1/ZfWWXOdVZvOzqf3/9tf822mbmLT8OGHH8SOu2wdxx1/RD596eUX1vNx7KB5+QL/CBAYagHdxg41nRUJDJnA0888GU/877H4dmDjYORjTzwSo482euy6+/Zx9r/OzJ+H2WeyyeO5556JK666PH76+ae45MIrG+0sPYPygQfvy78kzzv/7Jh7rnljsUWXiNffeC2uve6qeDBbdt/dj8dUU01dX+/V11+J+x+4NzbaYLP6vGLki+ykNS2bYILfHyT67yyQmoKaxZCWF0PKk4EAAQKdLbDrDptHelT3FVffnAdAGu4/Pbtuv722jyMO3qPhbOMECHQRgdvufCAee+KZ7LdG77j0vJNj3bVavijQRbIrGwQIEKgLpBtMt9xqo+g9Xu9YcYVVYuqpp4m7smDm0sstHP++9NqYeqo/xL/OO6ue/t13+0X6S8N42TppeO75Z2Ol7ILoF19+kXWBPUvWtf80MflkU8TDjzwY22y/eYwy6qix/rob5WkvufT8eP6F5/Lx9O+++++pjw8cODDrOr/2/PPtdtwyLrzo3Jhxhpli8023ig8+eD+uuuY/sdJqS8XddzyS76dYcY01V4p0E+ucc84du+y0R/58vnSumdI/++RrMc44nfP88iI/XgkQIECgugLpuyU11EjDlFNOFdNPP0Pcfc+dg/7uiH+dfXGjwr/19pv5Nclll1mh0fw0MWDAN/myn3/+ub7s+huuiRtuvK4+na6PFsOAbwfko+k1Xcfs2XPMOOiQfePrr7+K+efrG2k76bt39z13zL6bn4nTT/lnsWp2Y/R3+TrjjjtufV7Dkeez7/K0zS+/+jKf/cGH70e6JlsM/fq9E+kvDZP1mbyY7ZUAgWEQELwcBjyrEhgSgZFGGilPXrwW66bpN958PWvh+HGc/Y8LYoP1N8kXPf30k7HIEvPmwch08pu+8Iuh2EY6Ab3nzkfyL+C07Pvvv4+11l01/0Gw6x7bx9VX3Fis0uZrsb2GidJ2BwwYkN8h1atXr/igX+3LuWEa4wQIEOhMgTHG6BH77rld/peea3nXPQ/Hp/0/j9lnnTEWXXi+SMsNBAh0TYFH7726a2ZMrggQIDAYgcOOODBP8eQTL8fEE02cjx+4/6Fxz713xZJLLJ1Pf/vVb3HyqcfH/lnLjl132SuOOPTYRludfbY5YtZZZ4999z6ovk5KkG48TT3npFYbRfDy0YeejY8//iimnaFPTDppn3jjlVq3+Q03mFpwpsBlWuecf15UX7TTjrvHksssmPXss33ccuM9+fx0kTadN6604qpx5b//W0978N+OjHRTrMBlncQIAQIECAyjwL333V0PXF528dWx+mp/yreYenVbOetBIN0QNP74E8Rxx5wy1HtKNw6lYaI+Y0W6qSd9B7c23Hb7zbHxRpvHCceeFmONNVae7JFHH8pbgqbA42qrrBErLL9ya6u3OX/eeebP9338iUdlAdL9su/4v8UB+x3S5joWEiAwZAK6jR0yL6kJDDeB66+5rR64TDuZa6556l/yqdVmS8O5Z19SD1ym5WOMMUac9ffz86S33nZTdmfR1/m4fwQIEKiawGR9JomN1l8jdttpi1h26UUELqtWwcpDgAABAgS6iEDqem7CrIeaInBZZKsIXBbTg3u99aZ7GwUuU/o1/rhmTJBdxH3l1Zfzbu0Gt41i+RFHHRR9+kwWpzVoMZKWpVYlf1pjrbxlSOpyNg3vvf9u/jrtNNPlr8W/nj17Rt8FFiomvRIgQIAAgWEWOPLog/Nt7L3XAfVrmmlG+g698Pz/5MvSDTgpmNkZwxxzzBX/OOPceuAy7XPBvgvHDtvtmu/+6muv6Ixs2AcBAkMpIHg5lHBWI9DRAtNOO32zTU7zh2nzee++16/ZsjQjnXA2HSaffIpYZOHF8tmPPV57DkvTNKYJECBAgAABAgQIECBAYPACCy+0aPT/rH+kblqL7mAHv1bbKdJF29T1XGr1Mcagc7p33611Ndf2mhE333JDHuhMrUVaOh+cf74F802k7vDSkFqGpOGiS86L8y84Jx/3jwABAgQIdLRAakBRdOG6/Xa7NNv8LDPPGkstuUw+/9Zbf+8prugNrnhttmIrM9pKXywba8xaa8umm1jrz7VubR/NWmEWQ7FO8VrMH9xrkb54HVx6ywkQaL+A4GX7raQkMEwCv/76a75+8VpsrJguXov56bVHjzHyyR9//LHh7CjSFq+NFmYT6fkpaSj6Wk/j6TlxDV/ziUH/fvnllxaXtbb9husaJ0CAAAECBAgQIECAQFUFzjvn0jwAmLppnWm2qWP1P60Q110/dF1hX3TxedF34TlimukniRWzZ2DuuMvW8f777+V0A78b2C7C9GywNKTnbq6UdcHX9O/Ci/6VL/8qe75XGlKLy4svqLUs2WHnrWLyqXvn+33nnbfz5f4RIECAAIGOEEjPgEzDJJNMmvdY0NI2Z5l5tnx2w0YaxbXH4rWl9Yprmg2XFel/+OGHhrPz8V8HXecsrnc2TTBZ1vAjDQ3zUaQtXpuu01IeUpoifZGfpuuZJkBg6AUEL4fezpoEuqxA8cU5yiijdNk8yhgBAgQIECBAgAABAgS6usAUU0wZ9939WPz32ttjgfkXjDvvyh73sfGasd6Gf2r3Yzq++OKLWGLpvrHtDlvEt99+Gztuv2tclHWf99zTr0dq2ZmG1i6KNvX5blCQs7WLpBNPPEksvtiS0WfSyeqrpq5kX3nh3Tj26JNj9NFGz1t8zrPAzHH2v86spzFCgAABAgSGReCH77/PVx9n7HFa3UyvXuPlyxresFO0WCxeW1q5pWXFvB49ejRbZaSRayGPkQe9Nk1QfIcW20jLi7TFa9N1GqZtuKxI39ryhmmNEyAwZAKjDllyqQkQGFqB4kuseC22U0wXr8X8tl6LtMVr07T9BnU5NMWUU9UXFV+mLZ0UF8uabq/pdH1jRggQIECAAAECBAgQINCNBJZeatlIf88881TsvNu28d8bro3dx94xzjnrwsEqHHjw3vHE/x6LrbbcLk4+8e+DTd9WggknmChfvPxyK8UJx53WVtJGy8Ydd9zsGV+75H+XXn5R7JKVYdfdt89bZi6z9PKN0pogQIAAAQJDKjDppH3yVV5/47VWV33rrTfyZUWPcWmiuPZYNMRodeUOXNCv39v51qaYfMr6VkdEPuo7N0KAQIsCWl62yGImgY4XKIKGxWuxh2K6eC3mt/VapC1eG6b94IP34/EnHs1nLTDoeSdponfv8fN5n3/+Wf7a8F9ap6VhtNFGy2d35g+IlvJhHgECBAgQIECAAAECBLqCwJxzzh2XXHhlnpX7H7innqXi3Om3QY8LqS/IRlJrzTQc/Lcj89fB/Rt10HlY0TKkYfpFF10in7zv/rsbzh6i8Q3W2zj23uuAfJ307E0DAQIECBAYVoHUXew0f5g238ztd9zS4ubuuPPWfP6SS9SefZkmxh9/gnxe0d15PjHo30cffdhwstF40dvcd99912h+miiulxavTRPcdPN/81mLL7ZUfdEYY4wR6S/1kNDS8NFHH7Q0O0YZudbr3c8//9zicjMJEBh6AcHLobezJoEhEiju4Clei5WL6eK1mN/Wa5H22Wefbpbsbwfvk8/74+p/jnHG+b2rhuJuohtuuq7ROi+9/GL8dd9dG80rJtKXdq9evWLAgAHxyaefFLO9EiBAgAABAgQIECBAoFsI7HfgXpG6fW04jDnWWPnkuOOMW59dtDh5483X6/OKkZ5j9MxHi5Yexfw3sxYor732Sj5ZnOOliQkGXcj95JOPm3VNO92002ctQJeLF196IbbadtNmF1m/z7rta5jfRx97OC659IJil/XXHj3GyMfHG9SFX32BEQIECBAgMJQC226zU77mIYcdEAMHNn6W87HHHxGf9v80Fll4sZh5plnqe5hqyqnz8dtuuynSd1gxvPtuv9hp122KyWavRffoLbX0LL5TP8wCjh9//FGjdfv1eyf+8c9azwXrrL1Bo2XFtdP/XHlZo/n7HbBnPP/Cc43mFROT9ql10/5mC9//RRqvBAgMnYDg5dC5WYvAEAsUX5zFa7GBYrp4Lea39VqkTV/ifReeI0446ei49rqrYuNN14nL/n1xjDfeeHHsUSc32sSf/rhWPv3wIw/m6xxw0N6xz367x/IrLhbrr7txo7QNJ5ZZqtaF0J/XWjmuuOry2HGXraO1lpoN1zNOgAABAgQIECBAgACBMgucedZpccqpx8fc880Ye/5157yr2Dvvvj3WXHuVvFjbb7tLvXiLLlJrEXnDjddFCnheeNG5kS7epmGhQc+13HizdeL0v58cF118Xqy5zqqx4CJzxiSDutkrzvGKDa680mr56J/WWik/D9t+p79E/8/65/POPP1fMeEEE8all10Y6dmVhx5+YNx9z535PmeZY5rYe7/dis3EbnvuEFtvt1ksusR8cfyJR+XpLr7k/Djy6INj/Kx3nvWzVpgGAgQIECDQEQLpmc5LLrF0PPX0/2KV1ZfJv+9SK8fd99wx/05MDSTOPOPcRrtabtkV8+uYqXHFAgvNHilQeOBB+8RSyy0UK65Q+75ttMKgiaLL802y79YUbEzf00WAsfhOTYHKaWfoE+us/8e46pr/xFlnnxFLL79wfPnll7HJxlvEooss3mjTa625Xj69+ZYbxEabrh1HHHVw/Dn7zr8s6259lZVXb5S2mFhy8aXz0bT99P1//gXn5N/LxXKvBAgMvYDg5dDbWZPACBdIJ62pC4S/HbxvbLjJWnH1tVfEWn9eNx5/+PmYYorf+21PGU3dNxx+yDF5ntOX+UknHxvnnPuPOPzQY+OUk85stSyHZevMOsts+Q+PzbZYP847/+x47vlnWk1vAQECBAgQIECAAAECBKogsF3WguTsf1wQ02atHVMgc70N/xSrr7F8fJYFEY8+8sTYfLOt6sWcZOJJ4u+nnZNPp4DndjtuGRddcl4+ffghx8a888wfqXXI3vvuFtvusEV24fSLuPH6O2PdtWqtPpp2EXvUESfE/00/Qzzy6EORzsMuuPBf8eKLz+fbS+d6Tzz2Yvxli23jm2++jmOOOzxW/eOy+T57j9c7Nlx/03q+rrny5thph93is8/7x0GH7Jen22b7zWOO2eeKG667Iz9PrCc2QoAAAQIEhlEgfbcdefjx8dHHH+bfd2uvt3pccNG/YsMNNo3/PfpipB4EGg5jjjlmHHX4CXmXran3glNOOyFOPPmYSN/BZ5x6dkw0Ye1Zzw3XSeN77bl/zD9f33g168EgBRvT9/RjWW8DDYfUyvPgvx0RN950fWyy2bp5EHXkkUeO4489NdI11abDDlnwda655slnX3PtldmNPofEp1lPdA/c+78sKPt7V7cN1+uTtbw8cP9D81np+3+HnbeKSy+/sGES4wQIDKXASFng47ehXNdqBEaIwMtv1nY71YQjZPddYqcrrLxEPPDgffFg9uWZvlT/9+TjkZ5LOesss8dYg7owai2jX331VTzz7FP54plnnrXVHwFN13/77bfi3ff6xUQTTRwzzThz08Vddrpf7ebkmGnaLpvFrpGxjx6s5WPCWYd/fj4o9lWe99HwR7EHAg0E+r9Um5hskQYzh+OoY3I44to0AQKlEOjoz93+L9SKPWknfY6XArlxJst6TvfkU0/ElFn3dq1dSE2lTM/eevXVlyM9u2uuOeeJccf9vWvZ9HzJdAlm7LHHjnnmnq8xSitTqWvZ999/Lw8yzvB/M7aY6pVsf6lbvPTcsNlmnb3FNGnmZ59/Fu+881a7993qhjp5gXO6doD3u7GWaELnWO3QkqSrCxTfy1O13uquqxdheOevLN+j6VriF198HnPPPe9gSdKzJtP1zTRMP93/xWSTTT7YdVKC1L3sO/3ejrHHGrseeEyNNlJPdSl4edvN90VxLTQFGtONQYMbnnnmqfx7fPTRR48F+y48uOT58vQ9nL6P05C+49N3fVcZfI92lZqQjyEVGHVIV5CeAIERL1Dcc/DzL7WHQae7eNs7pC4aFl9syfYmr6f7wx+mifRnIECAAAECBAgQIECAQHcUaE/AsWfPnjHnnHO3yLPYoku0OL+tmdNOM12kv7aGGWeYKdLf4Ib0LM3ieZqDS2s5AQIECBAYVoEhuZaYGmMMzfXKKaecKruxaKpGWf3t11/z6Z9++il/HdJroa19jzfaSZOJ1ONd+jMQINBxArqN7ThLWyJAgAABAgQIECBAgAABAgQIECBAgAABAgQIECBAYBgEBC+HAc+qBAgQIECAAAECBAgQIECAAAECBAgQIECAAAECBAh0nIDgZcdZ2hIBAgQIECBAgAABAgQIECBAgAABAgQIECBAgAABAsMg4JmXw4BnVQIjSiA9bNpAgAABAgQIECBAgAABAgQIECBAgAABAr8LzD77nPHtV7/9PsMYAQKlFNDyspTVJtMECBAgQIAAAQIECBAgQIAAAQIECBAgQIAAAQIEqicgeFm9OlUiAgQIECBAgAABAgQIECBAgAABAgQIECBAgAABAqUUELwsZbXJNAECBAgQIECAAAECBAgQIECAAAECBAgQIECAAIHqCQheVq9OlYgAAQIECBAgQIAAAQIECBAgQIAAAQIECBAgQIBAKQUEL0tZbTJNgAABAgQIECBAgAABAgQIECBAgAABAgQIECBAoHoCgpfVq1MlIkCAAAECBAgQIECAAAECBAgQIECAAAECBAgQIFBKAcHLUlabTBMgQIAAAQIECBAgQIAAAQIECBAgQIAAAQIECBConoDgZfXqVIkIECBAgAABAgQIECBAgAABAgQIECBAgAABAgQIlFJA8LKU1SbTBAgQIECAAAECBAgQIECAAAECBAgQIECAAAECBKonIHhZvTpVIgIECBAgQIAAAQIECBAgQIAAAQIECBAgQIAAAQKlFBC8LGW1yTQBAgQIECBAgAABAgQIECBAgAABAgQIECBAgACB6gkIXlavTpWIAAECBAgQIECAAAECBAgQIECAAAECBAgQIECAQCkFBC9LWW0yTYAAAQIECBAgQIAAAQIECBAgQIAAAQIECBAgQKB6AoKX1atTJSJAgAABAgQIECBAgAABAgQIECBAgAABAgQIECBQSgHBy1JWm0wTIECAAAECBAgQIECAAAECBAgQIECAAAECBAgQqJ6A4GX16lSJCBAgQIAAAQIECBAgQIAAAQIECBAgQIAAAQIECJRSQPCylNUm0wQIECBAgAABAgQIECBAgAABAgQIECBAgAABAgSqJyB4Wb06VSICBAgQIECAAAECBAgQIECAAAECBAgQIECAAAECpRQQvCxltck0AQIECBAgQIAAAQIECBAgQIAAAQIECBAgQIAAgeoJCF5Wr06ViAABAgQIECBAgAABAgQIECBAgAABAgQIECBAgEApBQQvS1ltMk2AAAECBAgQIECAAAECBAgQIECAAAECBAgQIECgegKCl9WrUyUiQIAAAQIECBAgQIAAAQIECBAgQIAAAQIECBAgUEoBwctSVptMEyBAgAABAgQIECBAgAABAgQIECBAgAABAgQIEKiegOBl9epUiQgQIECAAAECBAgQIECAAAECBAgQIECAAAECBAiUUkDwspTVJtMECBAgQIAAAQIECBAgQIAAAQIECBAgQIAAAQIEqicgeFm9OlUiAgQIECBAgAABAgQIECBAgAABAgQIECBAgAABAqUUELwsZbXJNAECBAgQIECAAAECBAgQIECAAAECBAgQIECAAIHqCQheVq9OlYgAAQIECBAgQIAAAQIECBAgQIAAAQIECBAgQIBAKQUEL0tZbTJNgAABAgQIECBAgAABAgQIECBAgAABAgQIECBAoHoCgpfVq1MlIkCAAAECBAgQIECAAAECBAgQIECAAAECBAgQIFBKAcHLUlabTBMgQIAAAQIECBAgQIAAAQIECBAgQIAAAQIECBConoDgZfXqVIkIECBAgAABAgQIECBAgAABAgQIECBAgAABAgQIlFJA8LKU1SbTBAgQIECAAAECBAgQIECAAAECBAgQIECAAAECBKonIHhZvTpVIgIECBAgQIAAAQIECBAgQIAAAQIECBAgQIAAAQKlFBC8LGW1yTQBAgQIECBAgAABAgQIECBAgAABAgQIECBAgACB6gkIXlavTpWIAAECBAgQIECAAAECBAgQIECAAAECBAgQIECAQCkFBC9LWW0yTYAAAQIECBAgQIAAAQIECBAgQIAAAQIECBAgQKB6AoKX1atTJSJAgAABAgQIECBAgAABAgQIECBAgAABAgQIECBQSgHBy1JWm0wTIECAAAECBAgQIECAAAECBAgQIECAAAECBAgQqJ6A4GX16lSJCBAgQIAAAQIECBAgQIAAAQIECBAgQIAAAQIECJRSQPCylNUm0wQIECBAgAABAgQIECBAgAABAgQIECBAgAABAgSqJyB4Wb06VSICBAgQIECAAAECBAgQIECAAAECBAgQIECAAAECpRQQvCxltck0AQIECBAgQIAAAQIECBAgQIAAAQIECBAgQIAAgeoJCF5Wr06ViAABAgQIECBAgAABAgQIECBAgAABAgQIECBAgEApBQQvS1ltMk2AAAECBAgQIECAAAECBAgQIECAAAECBAgQIECgegKCl9WrUyUiQIAAAQIECBAgQIAAAQIECBAgQIAAAQIECBAgUEoBwctSVptMEyBAgAABAgQIECBAgAABAgQIECBAgAABAgQIEKiegOBl9epUiQgQIECAAAECBAgQIECAAAECBAgQIECAAAECBAiUUkDwspTVJtMECBAgQIAAAQIECBAgQIAAAQIECBAgQIAAAQIEqicgeFm9OlUiAgQIECBAgAABAgQIECBAgAABAgQIECBAgAABAqUUELwsZbXJNAECBAgQIECAAAECBAgQIECAAAECBAgQIECAAIHqCQheVq9OlYgAAQIECBAgQIAAAQIECBAgQIAAAQIECBAgQIBAKQUEL0tZbTJNgAABAgQIECBAgAABAgQIECBAgAABAgQIECBAoHoCgpfVq1MlIkCAAAECBAgQIECAAAECBAgQIECAAAECBAgQIFBKAcHLUlabTBMgQIAAAQIECBAgQIAAAQIECBAgQIAAAQIECBConoDgZfXqVIkIECBAgAABAgQIECBAgAABAgQIECBAgAABAgQIlFJA8LKU1SbTBAgQIECAAAECBAgQIECAAAECBAgQIECAAAECBKonIHhZvTpVIgIECBAgQIAAAQIECBAgQIAAAQIECBAgQIAAAQKlFBC8LGW1yTQBAgQIECBAgAABAgQIECBAgAABAgQIECBAgACB6gkIXlavTpWIAAECBAgQIECAAAECBAgQIECAAAECBAgQIECAQCkFBC9LWW0yTYAAAQIECBAgQIAAAQIECBAgQIAAAQIECBAgQKB6AoKX1atTJSJAgAABAgQIECBAgAABAgQIECBAgAABAgQIECBQSgHBy1JWm0wTIECAAAECBAgQIECAAAECBAgQIECAAAECBAgQqJ6A4GX16lSJCBAgQIAAAQIECBAgQIAAAQIECBAgQIAAAQIECJRSQPCylNUm0wQIECBAgAABAgQIECBAgAABAgQIECBAgAABAgSqJyB4Wb06VSICBAgQIECAAAECBAgQIECAAAECBAgQIECAAAECpRQQvCxltck0AQIECBAgQIAAAQIECBAgQIAAAQIECBAgQIAAgeoJCF5Wr06ViAABAgQIECBAgAABAgQIECBAgAABAgQIECBAgEApBQQvS1ltMk2AAAECBAgQIECAAAECBAgQIECAAAECBAgQIECgegKCl9WrUyUiQIAAAQIECBAgQIAAAQIECBAgQIAAAQIECBAgUEoBwctSVptMEyBAgAABAgQIECBAgAABAgQIECBAgAABAgQIEKiegOBl9epUiQgQIECAAAECBAgQIECAAAECBAgQIECAAAECBAiUUkDwspTVJtMECBAgQIAAAQIECBAgQIAAAQIECBAgQIAAAQIEqicgeFm9OlUiAgQIECBAgAABAgQIECBAgAABAgQIECBAgAABAqUUELwsZbXJNAECBAgQIECAAAECBAgQIECAAAECBAgQIECAAIHqCQheVq9OlYgAAQIECBAgQIAAAQIECBAgQIAAAQIECBAgQIBAKQUEL0tZbTJNgAABAgQIECBAgAABAgQIECBAgAABAgQIECBAoHoCgpfVq1MlIkCAAAECBAgQIECAAAECBAgQIECAAAECBAgQIFBKAcHLUlabTBMgQIAAAQIECBAgQIAAAQIECBAgQIAAAQIECBConoDgZfXqVIkIECBAgAABAgQIECBAgAABAgQIECBAgAABAgQIlFJA8LKU1SbTBAgQIECAAAECBAgQIECAAAECBAgQIECAAAECBKonIHhZvTpVIgIECBAgQIAAAQIECBAgQIAAAQIECBAgQIAAAQKlFBC8LGW1yTQBAgQIECBAgAABAgQIECBAgAABAgQIECBAgACB6gkIXlavTpWIAAECBAgQIECAAAECBAgQIECAAAECBAgQIECAQCkFBC9LWW0yTYAAAQIECBAgQIAAAQIECBAgQIAAAQIECBAgQKB6AoKX1atTJSJAgAABAgQIECBAgAABAgQIECBAgAABAgQIECBQSgHBy1JWm0wTIECAAAECBAgQIECAAAECBAgQIECAAAECBAgQqJ6A4GX16lSJCBAgQIAAAQIECBAgQIAAAQIECBAgQIAAAQIECJRSQPCylNUm0wQIECBAgAABAgQIECBAgAABAgQIECBAgAABAgSqJyB4Wb06VSICBAgQIECAAAECBAgQIECAAAECBAgQIECAAAECpRQQvCxltck0AQIECBAgQIAAAQIECBAgQIAAAQIECBAgQIAAgeoJCF5Wr06ViAABAgQIECBAgAABAgQIECBAgAABAgQIECBAgEApBQQvS1ltMk2AAAECBAgQIECAAAECBAgQIECAAAECBAgQIECgegKCl9WrUyUiQIAAAQIECBAgQIAAAQIECBAgQIAAAQIECBAgUEoBwctSVptMEyBAgAABAgQIECBAgAABAgQIECBAgAABAgQIEKiegOBl9epUiQgQIECAAAECBAgQIECAAAECBAgQIECAAAECBAiUUkDwspTVJtMECBAgQIAAAQIECBAgQIAAAQIECBAgQIAAAQIEqicgeFm9OlUiAgQIECBAgAABAgQIECBAgAABAgQIECBAgAABAqUUELwsZbXJNAECBAgQIECAAAECBAgQIECAAAECBAgQIECAAIHqCQheVq9OlYgAAQIECBAgQIAAAQIECBAgQIAAAQIECBAgQIBAKQUEL0tZbTJNgAABAgQIECBAgAABAgQIECBAgAABAgQIECBAoHoCgpfVq1MlIkCAAAECBAgQIECAAAECBAgQIECAAAECBAgQIFBKAcHLUlabTBMgQIAAAQIECBAgQIAAAQIECBAgQIAAAQIECBConoDgZfXqVIkIECBAgAABAgQIECBAgAABAgQIECBAgAABAgQIlFJA8LKU1SbTBAgQIECAAAECBAgQIECAAAECBAgQIECAAAECBKonIHhZvTpVIgIECBAgQIAAAQIECBAgQIAAAQIECBAgQIAAAQKlFBC8LGW1yTQBAgQIECBAgAABAgQIECBAgAABAgQIECBAgACB6gkIXlavTpWIAAECBAgQIECAAAECBAgQIECAAAECBAgQIECAQCkFBC9LWW0yTYAAAQIECBAgQIAAAQIECBAgQIAAAQIECBAgQKB6AoKX1atTJSJAgAABAgQIECBAgAABAgQIECBAgAABAgQIECBQSgHBy1JWm0wTIECAAAECBAgQIECAAAECBAgQIECAAAECBAgQqJ6A4GX16lSJCBAgQIAAAQIECBAgQIAAAQIECBAgQIAAAQIECJRSQPCylNUm0wQIECBAgAABAgQIECBAgAABAgQIECBAgAABAgSqJyB4Wb06VSICBAgQIECAAAECBAgQIECAAAECBAgQIECAAAECpRQQvCxltck0AQIECBAgQIAAAQIECBAgQIAAAQIECBAgQIAAgeoJCF5Wr06ViAABAgQIECBAgAABAgQIECBAgAABAgQIECBAgEApBQQvS1ltMk2AAAECBAgQIECAAAECBAgQIECAAAECBAgQIECgegKCl9WrUyUiQIAAAQIECBAgQIAAAQIECBAgQIAAAQIECBAgUEoBwctSVptMEyBAgAABAgQIECBAgAABAgQIECBAgAABAgQIEKiegOBl9epUiQgQIECAAAECBAgQIECAAAECBAgQIECAAAECBAiUUkDwspTVJtMECBAgQIAAAQIECBAgQIAAAQIECBAgQIAAAQIEqicgeFm9OlUiAgQIECBAgAABAgQIECBAgAABAgQIECBAgAABAqUUELwsZbXJNAECBAgQIECAAAECBAgQIECAAAECBAgQIECAAIHqCQheVq9OlYgAAQIECBAgQIAAAQIECBAgQIAAAQIECBAgQIBAKQUEL0tZbTJNgAABAgQIECBAgAABAgQIECBAgAABAgQIECBAoHoCgpfVq1MlIkCAAAECBAgQIECAAAECBAgQIECAAAECBAgQIFBKAcHLUlabTBMgQIAAAQIECBAgQIAAAQIECBAgQIAAAQIECBConoDgZfXqVIkIECBAgAABAgQIECBAgAABAgQIECBAgAABAgQIlFJA8LKU1SbTBAgQIECAAAECBAgQIECAAAECBAgQIECAAAECBKonIHhZvTpVIgIECBAgQIAAAQIECBAgQIAAAQIECBAgQIAAAQKlFBC8LGW1yTQBAgQIECBAgAABAgQIECBAgAABAgQIECBAgACB6gkIXlavTpWIAAECBAgQIECAAAECBAgQIECAAAECBAgQIECAQCkFBC9LWW0yTYAAAQIECBAgQIAAAQIECBAgQIAAAQIECBAgQKB6AoKX1atTJSJAgAABAgQIECBAgAABAgQIECBAgAABAgQIECBQSgHBy1JWm0wTIECAAAECBAgQIECAAAECBAgQIECAAAECBAgQqJ6A4GX16lSJCBAgQIAAAQIECBAgQIAAAQIECBAgQIAAAQIECJRSQPCylNUm0wQIECBAgAABAgQIECBAgAABAgQIECBAgAABAgSqJyB4Wb06VSICBAgQIECAAAECBAgQIECAAAECBAgQIECAAAECpRQQvCxltck0AQIECBAgQIAAAQIECBAgQIAAAQIECBAgQIAAgeoJCF5Wr06ViAABAgQIECBAgAABAgQIECBAgAABAgQIECBAgEApBQQvS1ltMk2AAAECBAgQIECAAAECBAgQIECAAAECBAgQIECgegKCl9WrUyUiQIAAAQIECBAgQIAAAQIECBAgQIAAAQIECBAgUEoBwctSVptMEyBAgAABAgQIECBAgAABAgQIECBAgAABAgQIEKiegOBl9epUiQgQIECAAAECBAgQIECAAAECBAgQIECAAAECBAiUUkDwspTVJtMECBAgQIAAAQIECBAgQIAAAQIECBAgQIAAAQIEqicgeFm9OlUiAgQIECBAgAABAgQIECBAgAABAgQIECBAgAABAqUUELwsZbXJNAECBAgQIECAAAECBAgQIECAAAECBAgQIECAAIHqCQheVq9OlYgAAQIECBAgQIAAAQIECBAgQIAAAQIECBAgQIBAKQUEL0tZbTJNgAABAgQIECBAgAABAgQIECBAgAABAgQIECBAoHoCgpfVq1MlIkCAAAECBAgQIECAAAECBAgQIECAAAECBAgQIFBKAcHLUlabTBMgQIAAAQIECBAgQIAAAQIECBAgQIAAAQIECBConoDgZfXqVIkIECBAgAABAgQIECBAgAABAgQIECBAgAABAgQIlFJA8LKU1SbTBAgQIECAAAECBAgQIECAAAECBAgQIECAAAECBKonIHhZvTpVIgIECBAgQIAAAQIECBAgQIAAAQIECBAgQIAAAQKlFBC8LGW1yTQBAgQIECBAgAABAgQIECBAgAABAgQIECBAgACB6gkIXlavTpWIAAECBAgQIECAAAECBAgQIECAAAECBAgQIECAQCkFBC9LWW0yTYAAAQIECBAgQIAAAQIECBAgQIAAAQIECBAgQKB6AoKX1atTJSJAgAABAgQIECBAgAABAgQIECBAgAABAgQIECBQSgHBy1JWm0wTIECAAAECBAgQIECAAAECBAgQIECAAAECBAgQqJ6A4GX16lSJCBAgQIAAAQIECBAgQIAAAQIECBAgQIAAAQIECJRSQPCylNUm0wQIECBAgAABAgQIECBAgAABAgQIECBAgAABAgSqJyB4Wb06VSICBAgQIECAAAECBAgQIECAAAECBAgQIECAAAECpRQQvCxltck0AQIECBAgQIAAAQIECBAgQIAAAQIECBAgQIAAgeoJCF5Wr06ViAABAgQIECBAgAABAgQIECBAgAABAgQIECBAgEApBQQvS1ltMk2AAAECBAgQIECAAAECBAgQIECAAAECBAgQIECgegKCl9WrUyUiQIAAAQIECBAgQIAAAQIECBAgQIAAAQIECBAgUEoBwctSVptMEyBAgAABAgQIECBAgAABAgQIECBAgAABAgQIEKiegOBl9epUiQgQIECAAAECBAgQIECAAAECBAgQIECAAAECBAiUUkDwspTVJtMECBAgQIAAAQIECBAgQIAAAQIECBAgQIAAAQIEqicgeFm9OlUiAgQIECBAgAABAgQIECBAgAABAgQIECBAgAABAqUUELwsZbXJNAECBAgQIECAAAECBAgQIECAAAECBAgQIECAAIHqCQheVq9OlYgAAQIECBAgQIAAAQIECBAgQIAAAQIECBAgQIBAKQUEL0tZbTJNgAABAgQIECBAgAABAgQIECBAgAABAgQIECBAoHoCgpfVq1MlIkCAAAECBAgQIECAAAECBAgQIECAAAECBAgQIFBKAcHLUlabTBMgQIAAAQIECBAgQIAAAQIECBAgQIAAAQIECBConoDgZfXqVIkIECBAgAABAgQIECBAgAABAgQIECBAgAABAgQIlFJA8LKU1SbTBAgQIECAAAECBAgQIECAAAECBAgQIECAAAECBKonIHhZvTpVIgIECBAgQIAAAQIECBAgQIAAAQIECBAgQIAAAQKlFBC8LGW1yTQBAgQIECBAgAABAgQIECBAgAABAgQIECBAgACB6gkIXlavTpWIAAECBAgQIECAAAECBAgQIECAAAECBAgQIECAQCkFBC9LWW0yTYAAAQIECBAgQIAAAQIECBAgQIAAAQIECBAgQKB6AoKX1atTJSJAgAABAgQIECBAgAABAgQIECBAgAABAgQIECBQSgHBy1JWm0wTIECAAAECBAgQIECAAAECBAgQIECAAAECBAgQqJ6A4GX16lSJCBAgQIAAAQIECBAgQIAAAQIECBAgQIAAAQIECJRSQPCylNUm0wQIECBAgAABAgQIECBAgAABAgQIECBAgAABAgSqJyB4Wb06VSICBAgQIECAAAECBAgQIECAAAECBAgQIECAAAECpRQQvCxltck0AQIECBAgQIAAAQIECBAgQIAAAQIECBAgQIAAgeoJCF5Wr06ViAABAgQIECBAgAABAgQIECBAgAABAgQIECBAgEApBQQvS1ltMk2AAAECBAgQIECAAAECBAgQIECAAAECBAgQIECgegKCl9WrUyUiQIAAAQIECBAgQIAAAQIECBAgQIAAAQIECBAgUEoBwctSVptMEyBAgAABAgQIECBAgAABAgQIECBAgAABAgQIEKiegOBl9epUiQgQIECAAAECBAgQIECAAAECBAgQIECAAAECBAiUUkDwspTVJtMECBAgQIAAAQIECBAgQIAAAQIECBAgQIAAAQIEqicgeFm9OlUiAgQIECBAgAABAgQIECBAgAABAgQIECBAgAABAqUUELwsZbXJNAECBEosMNIotcz/9muJCyHrBIaTQHFcFMfJcNpNo80W+yr23WihCQIECFRcoPjsKz4LK15cxSNAgAABAgQIECBAgEAZBAQvy1BL8kiAAIEqCYwyWq00v/5cpVIpC4GOESiOi+I46Zittr2VYl/FvttObSkBAgSqJVB89hWfhdUqndIQIECAAAECBAgQIECglAKCl6WsNpkmQIBAiQVGHr2W+eJiYYmLIusEOlzg119qmxx5UJC/w3fQwgYdky2gmEWAQLcRGBGfu90GV0EJECBAgAABAgQIECAwdAKCl0PnZi0CBAgQGFqBIijzm5aXQ0tovQoLFEH9UQYF+TujqI7JzlC2DwIEuqrAiPjc7aoW8kWAAAECBAgQIECAAIEuIiB42UUqQjYIECDQbQSKQMmvnnnZbepcQdsvUAT1i9aQ7V9z6FM6JofezpoECJRfYER87pZfTQkIECBAgAABAgQIECAwXAUEL4crr40TIECAQDOBokVZ0dKhWQIzCHRjgeK46MzgpWOyG7/hFJ0AgRgRn7vYCRAgQIAAAQIECBAgQKBNAcHLNnksJECAAIEOFxhtrNomf/6uwzdtgwRKL/DToONi9EHHSWcUyDHZGcr2QYBAVxUYEZ+7XdVCvggQIECAAAECBAgQINBFBAQvu0hFyAYBAgS6jUCP8bKijhTx44CI33Qd223qXUEHL/DrLxE/fZuly36ejd5r8Ok7KoVjsqMkbYcAgbIJjKjP3bI5yS8BAgQIECBAgAABAgQ6WUDwspPB7Y4AAQLdXmCk7KsnD5ZkEimAaSBAoCaQBy6z0TGyAH86TjprcEx2lrT9ECDQ1QRG1OduV3OQHwIECBAgQIAAAQIECHQxgU68MtbFSi47BAgQIDDiBHr2ru37x29GXB7smUBXEyiOhx6Djo/OzJ9jsjO17YsAga4iMCI/d7uKgXwQIECAAAECBAgQIECgCwoIXnbBSpElAgQIVF6gxwS1IuZdx/5W+eIqIIHBCvyWHQc/DArm9xx0fAx2pQ5M4JjsQEybIkCgFAIj+nO3FEgySYAAAQIECBAgQIAAgREjIHg5YtztlQABAt1bYJTRI0Ybs/bMyx++7N4WSk8gCeTHQRbAHG3s7JGXo3W+iWOy883tkQCBESswoj93R2zp7Z0AAQIECBAgQIAAAQJdWkDwsktXj8wRIECgkwSK5+v99msn7TDbzViT1fb17ae1IGbn7dmeCHQtgXTcfftJLU/FcTEicljs2zE5IvTtkwCBzhQYnp+7xW+p4rdVZ5bLvggQIECAAAECBAgQIFARAcHLilSkYhAgQGCYBIqWXr/+PEybGaKVe04cMWrPLHD5S8R3nw3RqhITqJTAwP61AP6oY0WMOdGIK5pjcsTZ2zMBAp0rMDw/d4vfUiNnvUwYCBAgQIAAAQIECBAgQGCoBAQvh4rNSgQIEKiYQHGB7bdODF6ONFJEr+lqkAOz4GVxsa9itIpDoE2BX37Kgvef15KMN+h4aHOF4bjQMTkccW2aAIEuIzC8P3d/yz7X01DcGFab8p8AAQIECBAgQIAAAQIEhkBA8HIIsCQlQIBAZQWKC2y/dGLwMmH26BUxxvjZSPasv2/ez16yVwOB7iKQ3u/pfZ/e/z0njBh9nBFfcsfkiK8DOSBAYPgJdMbn7i9ZjxJpSM8SNhAgQIAAAQIECBAgQIDAUAkIXg4Vm5UIECBQMYHiAltntrwsCMedJhvLWmH+NDBi4KDn/hXLvBKossDAjyN+/i4rYfb+z4+DLlJYx2QXqQjZIECgwwU643O3+C1V3BjW4YWwQQIECBAgQIAAAQIECFRfQPCy+nWshAQIEBi8QHGB7ddBrQUGv0bHpRh1jIiiu8zUfeb3X3Xctm2JQFcV+P7LrLvYL2q5G+//ulYLHcdkV33XyBcBAsMi0Fmfu0U3+EWX/MOSZ+sSIECAAAECBAgQIECgmwoIXnbTildsAgQINBIoLrD9Oug5TY0WdsLEmJNEjDVZbUcDPhzUGq0T9msXBEaEwE9Za8v0Pk/D2FNEjDlRbbwr/XdMdqXakBcCBIZVoDM/d+vBy9GGNdfWJ0CAAAECBAgQIECAQLcVELzstlWv4AQIEGggUG952cnPvGyQheiVdR87Ru9sTvb8v6/eiygu/jVMY5xA2QXS+/rrd2ul6DFB1l3s1F23RI7Jrls3ckaAQPsFOvtzt/j9UnTJ3/6cSkmAAAECBAgQIECAAAECgwQEL70VCBAgQCBitHFqCvnz90YgyHgzRozaM4tfZgGeL9/KWmB+PwIzY9cEOlggvZ+/eDN7f2fdM486ZsT4WXexXX1wTHb1GpI/AgTaEhgRn7uplWcaRh279uo/AQIECBAgQIAAAQIECAyxgODlEJNZgQABAhUUSK0DUjAltRYYkQHDkUeJmGD2LC9j1fKSApg/flNBcEXqdgI/fl0LyKfA5WjZ+3vC2SJGyt7vXX1wTHb1GpI/AgRaExgRn7vpJrB0A1b6HaPlZWs1Yz4BAgQIECBAgAABAgQGKyB4OVgiCbqawEgj1XL0W9azpIFAWwLFe6R4z7SV1rJMoMf4NYZ0sW9EDqNkz4iaMAtgjjEoP19nXcgO7D8ic2TfBIZN4NtPsq5i369tI72vJ5wjouiqedi23DlrOyY7x9leCBDoOIER9bn7w6DfUMVvmI4rUeW2VPw+L36vV66ACtRhAsV7pHjPdNiGq7ah4qa4336tWsmUp7sJFO/h4j3d3crfzvIWn4nFZ2Q7V5OsGwoU75HiPdMNCRS5xAKClyWuvO6a9VEHNVT5xW/y7voWaHe5fxkU4C7eM+1esbsmLC60dYWWjqm11/gzR4wzZa02Bn5aa7VWdMXWXetIucslkN6vqfXwd5/V8p3ez+l9PVIJf345Jsv13pNbAt1VYER/7v40oCZf3BDWXeuhHeUufp87p2sHVjdP4pyunW+AUXrUEhbP3W3napIR6HICxXu4eE93uQx2jQz5Hu0a9VCGXPgeLUMtyWNrAqO2tsB8Al1VIH1B/5T1xpQ+fL2Bu2otdY18/ZL1zpiGUb1RahCD+5+ezTRShpW6jf3lx67R3dk4U2UVmHVn+8WrtXx99XbE6ONGjD1xuVquDc7e8moJpBPuAR816PI46zKgd/Y8154TlL+cjsny16ESEKiiQFf43E2/ndJvqPRbKnUba2hTwDldmzwWNhBwTtcAo63RFOj5eWDt0Ru6rW5LyrKuLvDroAs5gpdt1pTv0TZ5LGwg4Hu0AYbR0gm4pF+6KpPhUdK79ofsN3n6PeMd7A3RhkBxJ3dxR1obSS1KAqkPidT68rusi8ufsudMjtJFAi09J8y6tB2n1oLt+6wFW+rW9v/bu9MYyaqyceCne6Znerp7NmDAGVkctj8QwRcJRkFRDAkaNZqYqInGGI3RuOASwwcTE43KB0OiX0Rj/KAx0UQ+EP0gLjHBDZJXFgUX/IODiKzOMAvTMz1bz/s8VV3NbNDV011d99b9naS6q6tu3XvO79zqe899zjn32cjfqsjr2IZ2vtUggUoIxJQAkzHF8d5nIzczQ79HY/9d97IIts/0hq9EPheYCd/JBQL6OAECiydQof+7nWn3R+P8ybxcc1axNt2cRBaYEdCm63JX6Jxr5n13JQJ1FjDysqvacxztislCIeA4ajeos4DQT51rr6F57wSiOsPeG8qg2F0IdPaRzj7TxUcsktOcZfByXwQH8+JbVVI2xk+5KAKXMR3bzi3t4GpOxZlBopEYMToawc0VOXJ0Zl7pquRbPgZf4HD0pMmplvM7cyB6u3fu0ZIjhNdubu+fg6jgOzmItapMBOohUNX/u3kcyNSZhr/9l58vINA5P++cr7/AYl4m0JpxKRk6+wySFxDojFKbjk4dEoE6C3QC8MtG61yKnue98z/RcbTn1LXfQGcf6ewztS+QAjRKQPCyUdU9GIXt/LPt9BwZjFIpRS8EOu0208bOQ3fl+hghtiKCMJPtqc+WV6zBkAHKDZdFoCgClzv+FV3IYnq2HCWaj0yZ31xmeCQeEcjMqduyS2L+LRE4aYEYRZk9gA/FIxvT+TwfGUzPKQKPTNnIXntuXLyO71ITku9kE2pZGQn0QaBm/3cPxj2Oc7rGPIdasa4PXvXbpDZd/eqsXznWputSfjZ4GeeoEoE6C3RGXnZGE9e5LD3Mu+NoD3EHbNWOowNWoQ0rjuBlwyp8EIo7OjPz3n7n5INQnT0tw74D7dWPxnUkqUuBoeFS8p52Ox+O6S+fbI8c6/KjS7rYylNLOSMeByJ4NLU9HjECM59nIOnYYNKSZszGGi+TbxcAACbNSURBVCnQGv0bo5YzYJnPm5h8J5tY68pMoH8CVfu/uzvOmTKtPic6TsW5lDSngDbdnEQWmBHQputyV8hZPzJlZwqJQJ0FDszswyvX1rkUPc+742jPiQdmA46jA1OVjSyI4GUjq73ehR5f1c7/3v0x8CU6ZQ/HbfokAscKZM+iqQhe5i2Hxmb2mWOX8fcLCIyeXsruxyMYGCMIcjrMFTEla1VTXrzMx+qz2iPh9kUgM0eNHsp/ELEDtEbLxfPD8fxw/MOQCJyMQP4jGYpeEMtyRG+O5J15PjIe92PN0cpOp2ZZfSdnKTwhQGABAnX6v5vnShksyJH3o3EvbqkrAW26rpgav5A23Tx2gdb/nzhn3R9tobyNgY4U88CzaGUEpuOWHHkdIvff7BwpvaCA4+gL0njjCAHH0SMwPK2lgKtttay2Zmc6r2WMj8WgsDifmYqYxNjMSMxmqyj9sQJ7Z0Zd5gld7jPSPAQSLEcO7HgwgphPlbI+goN1QMwA0qq4aJgPiQCB/gv4Tva/DuSAAIHeCmTHqDxXyrRmcz3Ol9q57ftPbbq+V0EtMqBNN49qymDP6GlxkeS/7VsbrJwZiTmPVViUQN8FsiNyiWNrdqgWgH/R6nAcfVEeb84IOI7aFeouYE6butdgQ/O/OoKXmXL0pUTgRAJ797VfnYiBUdJJCIxGL8ccQTUdX7IczSgRIECAAAECBAgcLZDnSHmutDxH4sf04dK8BLTp5sXVyIW16eZZ7WNntD+QI8IlAnUU6Oy7qyJ4Kc0p4Dg6J1HjF3AcbfwuUHsAwcvaV2EzC5AjLzPtiWsFZoJsW/j5vEDuE53Adudk7vl3PetaYPXL2otOPtOeeqjrD1qQAAECBAgQIDDgAjm13eTT7UKuOXfAC9ub4mnT9cZ1UNaqTXcSNTnaCV7udqHkJPh8pM8C+aXfNxN4X/WSPmemHpt3HK1HPfUrl46j/ZK33cUUELxcTE3rWjKBkZgdcmXcciz/EU9OLdlmbagmArtj1GXsGmU0b0u3rCaZrmI2V6yN0Zcx3dDhuDj33H80gKtYR/JEgAABAgQILL1ANkJa50ZxX7kV6+JhesaTqQRtupNRa85ntOlOoq6Xx713R1ZHuy3+N+3bcRIr8BECfRRo7bNxfM3rEMviYo40p4Dj6JxEjV7AcbTR1T8whRe8HJiqbF5BTonzmUw74t6X0xmpkgiEQO4LO/I2CZHWx7UkaYECay+Ie01Eb4GcvmVvjMCUCBAgQIAAAQJNF9gT50QHYmTTUPSSW3t+0zUWVH5tugXxDeyHtekWULV5/91Mk3HvywxiSgTqIJD7as74lGn1zD7c/svPOQQcR+cAaujbjqMNrfgBLLbg5QBWalOKtCZux7dipB2sem5vU0qtnHMJ7IpgdnaGz5G5a2MfkRYokL1311/cXsmeraVM6cG7QFEfJ0CAAAECBOoskOdCe+OcqAzFOdIlMTpkZZ1L0/e8a9P1vQoqmQFtugVUy9iZcR/eaAjn7Dl7ty1gRT5KYAkF8lpDBjBz5qfxly7hhuu/KcfR+tdhL0rgONoLVevsh4DgZT/UbXNRBIbiesFLTmuvamcErA7pVLgornVeycFon+2aCWR39o06l6cyec+p0Nac187O7sdjpEF84SQCBAgQIECAQNME8hwoz4Uy5ewUpottWyzgpzbdAvAG9KPadAus2PxSnfLy9kr2RPBy+uACV+jjBHoscOhABNqfbW+ks+/2eJODtHrH0UGqzcUpi+Po4jhaSzUEBC+rUQ9ycZICY6tKmRhrf3hrzGqZI+6kZgpk3W+bubf76vFSVsWAQWkRBcZeUsrYxvYKdz0avQX2L+LKrYoAAQIECBAgUHGBQ3FT9TwHyjS+KU42N7Sf+7lgAW26BRMOzAq06RapKkdPjf9RZ8TKopH8XHS4cKFkkWCtZtEFct/MfTT31bzesHL9om+iCSt0HG1CLXdXRsfR7pwsVR8Bwcv61JWcvoDAGXFenmlfdNbKEZhSMwXyPpf7olNp9DMtnX2imRI9LPWac2OEQdxINKdz2RkX73IqIokAAQIECBAgMOgC03HOs/Pf7XOgvLDqflyLXuOd83dtukWnrdUKtekWsbpyWutsHeeI8bxPr0SgigJ7ni7lYE6fFZenW/tsFTNZjzw5jtajnnqdS8fRXgtb/1ILCF4utbjtLbrAyEhMHzvT8TmnDJ2cWvRNWGHFBXZHnT83U+8vOT1u8bG84hmuc/bW/b/2vZ2mY+Tl9n9GQyNGIUgECBAgQIAAgUEVyHOdHXHOk+c+y2Jqj7VxLiQtuoA23aKT1m6F2nSLXGXLY4qqUy5trzSn5JzaucgbsDoCCxRo3UN6e3slp17WPsYucJVN/rjjaJNrv112x1H7wCAKCF4OYq02sEzrVkcnrbXtgm/bXcp+t3VozF6QvbOfjTrPdGoMClw70X7uZ48EhiMynI3gZTFn83QOd94SX7iZCujRJq2WAAECBAgQINAXgTzHyXOdPOdZHuc+eS+u4WV9yUoTNqpN14RaPnEZtelO7LLgVyfOen6k+O4nZ0a4LXitVkBg4QIHYuRB7pOZ1pwX07G/tP3czwUJOI4uiK/WH3YcrXX1yfyLCAhevgiOt+olkFMkdO5/+cyuuCVfTJkvDbZA1vF/Z+5zORH3udxwymCXtzKlW7YyIsXRM3JF9BjIKWTz/k97t1UmezJCgAABAgQIEFiwQJ7b5DlOnuvkOc8pOSokzoGkngpo0/WUt5Ir16brcbXkVJyrYnqivKfgzv9EZww9vXssbvVzCeQ+uOux9lKrXlLKuovm+oT35yHgODoPrAFZ1HF0QCpSMU4oIHh5QhYv1lVgU5yTr4hpZKfjGsOTMTOKEZh1rcm58511m3Wcdb1yRSmbZqYOnvuTllgUgdYIzBh9MLapvbrJp2Lu3mgM593BJQIECBAgQIBAXQUyWJnnNHlukynPdVojLmP2CWlJBLTploS5EhvRpluiajj18hg9HlMUHY5G9PYtMQLTvXaWSN5mjhXIfS/3wcNxL+mRmELt1P85dgl/L4KA4+giINZkFY6jNako2TxpgaHDkU760z5IoIICB+Mc6LGYfWJf3JYm02lxPjSmk3QbY0B+7olbD22dGXE5GoHLszZGR3gzePWvdvc8HT0nH25vP6dUW3N2TKnmAl//KsSWCRAgQIAAgZMSaI0GidGWnQv7a86PhsQZJ7UqH1qYgDbdwvzq8GltuiWupUPRiH7mf0s5ENNUZVoT03SuWNN+7ieBpRDYH/versfbW8p97/RXxXUDF+t6Re842ivZ6qzXcbQ6dSEnvRMQvOydrTX3USBH4z3xTEyhv6edibVxr/p8SPUX2DEZ57txe4RMOU1w9igbNoa8DdLPn9kQ2f63dg/KoYgkj8VQ2FU5j+9QP3Nl2wQIECBAgACBLgSiP+/emNJjz39nzmWiE9b6i13Y70Kul4to0/VSt7/r1qbrk/909PTedl/8v4vOp5nGTmu329p/+UmgdwKTcYGuc6uZVdEp6LQYDZzXDaSeCjiO9pS3ryt3HO0rv40voYDg5RJi29TSC2zdHiP04pFpRV6DiPsiroxpZaX6CeTNp7dH4LIzFfBp6+N8Nx5ShQSmo5Key/tfzjSGh+JLNx7R5dF1kUlBzArVlKwQIECAAAECLYEIWk5FYyGDlp37wI3F/bdWnxOnLnEeI1VCQJuuEtWwKJnINt2zu2PwX8TQMmnTtR2W/OfO/x/3v3yovdnlo9Fmi/97IzGDjkRgsQUORM/znIa9M6PB2gtiZMGFi70V65tDwHF0DqAave04WqPKktVFERC8XBRGK6mywK5oHD2ZnahnJkjOKWTXRRBzudF6Va622bwdilG02cDdOzMN8FDEwHK05eqoQ6miAgejgfJc3Mdi3452Boejx0AGMVdmEFMiQIAAAQIECFRAIM9TciRIdr7KtDJ6xa3ZHPcicAG/DVKtn9p01aqP+eZGm26+Ykuw/J64187WP8WGosGdKafxnIg2W7bdJAILFcgOQbsjaLl/5n4/JS7A5WjL7CAk9UXAcbQv7Iu2UcfRRaO0opoJCF7WrMJk9+QEDsR50zPbIp4SI/cyZQBsdXQwXBsBMOPB2iZV+5mx5pwGYXfEwWbizmXNRCkbYibSER3hq1ZdJ87P/p3Ro/efpRyKSsw0HNPCjEQljq6N3gPxO7+IEgECBAgQIEBgKQSyJ+OBuIi6Lx4HomdcZ6RlBivXnhcX7uP8RKq0gDZdpavnhJlrteni67Z7SpvuhED9fjHbadv/HqPPI5DZStE+WxUdOcYiiKmt1u/aqen2Ixg+uTV6n8dU7J0rOWObYhq0i3QOqkCNOo5WoBLmmQXH0XmCWXzgBAQvB65KFejFBPbmPerzPCp+d9KqFXFuHqMx8/ewWEqHpS+/p+OonCMs90Tjdio6wedBOtOqCDSfcWrEvKKepBoK5DSyOZ1sZ2RDpwgrIoCZPXzzkYFNiQABAgQIECCwmAIZoMxRH3lv7v0RQTky5eiinB42770l1UpAm67a1aVNV+36OWHuciT69r/F/8mZe+5kF+9Wp9PV0VbLTqfaaid082Jb4HDMA53H2lbnoD1xIWdmNO/K6Hm+/hKdgyq4nziOVrBSjsiS4+gRGJ42XkDwsvG7QDMBcgTmf6Mj2P6ZWaI6CitjRN9oBDGXxYwWw/FYFufsy+M8Pf+WFkcgA5J50/CDcX57KP7I5zn9QQYtO/ez7GxpRVxTOj2ClhNjnVf8rq9AVHaOxJyKL96+eBw6ogdBFiobxMuyB0F8CZdFxS+LSHX+zguLw/Fcz9/6Vr2cEyBAgACBXgnkBdLpOInMDlKH4nfrkc/jka/lBdUjU55f5MXU0Xi0RlrquXgkT92ea9P1r8a06fpn39Mt741pPrc/GI31mSmrOhvL+2JmELPVNot2W94TeFk8TDHbEWrA77x4Ex2CDsXjcDzyeauDUHQM6tzPsqOwPKY4y6DlqhjBK1VawHG0f9XjONo/e1uul4DgZb3qS24XWWAq4ie7o2NYPvK51H+BVXFNaTyClRmwNNKy//XRsxwczC/dTCAzp3CTCBAgQIAAAQK9EBiJkUMZrMyg5XI94npB3O91atP1uwaO37423fEmtXolO53ufab92B+jMiUCcwmsWNcOVmbA0jTsc2lV7n3H0cpVSXEcrV6dyFF/BAQv++NuqxUUyNF/kxFP2Redtg9GJ7LWyMB4rfU7Om3nbXKkhQvkALpl0VmzNaI1f8eo1uXRaXNlDLrLgGWOeJWaJhBfrhyJeexjOl/LURTx+9iRE00jUl4CBAgQIEDgeIHWzA05W0M8hnP6lJnnR/52h/vj3Qb4FW26palcbbqlca7EVnIUewYys8Ppobi/S7bPcsR7ttHyd2eK0EpkViZ6JjAUF2pyRqTWbElHHG+zg1AGLI3C7Rn9Uq/YcXRpxB1Hl8bZVuovIHhZ/zpUAgIECBAgQIAAAQIECBAgQIAAAQIECBAgQIAAAQIDIWCM00BUo0IQIECAAAECBAgQIECAAAECBAgQIECAAAECBAgQqL+A4GX961AJCBAgQIAAAQIECBAgQIAAAQIECBAgQIAAAQIECAyEgODlQFSjQhAgQIAAAQIECBAgQIAAAQIECBAgQIAAAQIECBCov4DgZf3rUAkIECBAgAABAgQIECBAgAABAgQIECBAgAABAgQIDISA4OVAVKNCECBAgAABAgQIECBAgAABAgQIECBAgAABAgQIEKi/gOBl/etQCQgQIECAAAECBAgQIECAAAECBAgQIECAAAECBAgMhIDg5UBUo0IQIECAAAECBAgQIECAAAECBAgQIECAAAECBAgQqL+A4GX961AJCBAgQIAAAQIECBAgQIAAAQIECBAgQIAAAQIECAyEgODlQFSjQhAgQIAAAQIECBAgQIAAAQIECBAgQIAAAQIECBCov4DgZf3rUAkIECBAgAABAgQIECBAgAABAgQIECBAgAABAgQIDISA4OVAVKNCECBAgAABAgQIECBAgAABAgQIECBAgAABAgQIEKi/gOBl/etQCQgQIECAAAECBAgQIECAAAECBAgQIECAAAECBAgMhIDg5UBUo0IQIECAAAECBAgQIECAAAECBAgQIECAAAECBAgQqL+A4GX961AJCBAgQIAAAQIECBAgQIAAAQIECBAgQIAAAQIECAyEgODlQFSjQhAgQIAAAQIECBAgQIAAAQIECBAgQIAAAQIECBCov4DgZf3rUAkIECCwIIE//vGPJR8SAQIECBAgQIAAAQIECBAgQKDfAq5T9LsGbJ8AAQL9FxC87H8dyAEBAgQIECBAgAABAgQIECBAgAABAgQIECBAgAABAiEgeGk3IECAAAECBAgQIECAAAECBAgQIECAAAECBAgQIECgEgKCl5WoBpkgQIAAAQIECBAgQIAAAQIECBAgQIAAAQIECBAgQEDw0j5AgAABAgQIECBAgAABAgQIECBAgAABAgQIECBAgEAlBAQvK1ENMkGAAAECBAgQIECAAAECBAgQIECAAAECBAgQIECAgOClfYAAAQIECBAgQIAAAQIECBAgQIAAAQIECBAgQIAAgUoICF5WohpkggABAgQIECBAgAABAgQIECBAgAABAgQIECBAgAABwUv7AAECBBouMDIyUvbv399wBcUnQIAAAQIECBAgQIAAAQIEqiCQ1yjyWoVEgAABAs0VELxsbt0rOQECBFoC4+PjZXJykgYBAgQIECBAgAABAgQIECBAoO8CeY0ir1VIBAgQINBcAcHL5ta9khMgQKAlMDY2Vg4fPkyDAAECBAgQIECAAAECBAgQINB3genp6TIxMdH3fMgAAQIECPRPQPCyf/a2TIAAgUoIbNq0qfzzn/+sRF5kggABAgQIECBAgAABAgQIEGiuQHau3rJlS9m4cWNzEZScAAECBIrgpZ2AAAECDRcYGhoq55xzTvnXv/7VcAnFJ0CAAAECBAgQIECAAAECBPop8Mgjj5TNmzf3Mwu2TYAAAQIVEBC8rEAlyAIBAgT6LXDhhReWJ598st/ZsH0CBAgQIECAAAECBAgQIECgwQJPPfVUueCCCxosoOgECBAgkAKCl/YDAgQIEGg1DB599NGybds2GgQIECBAgAABAgQIECBAgACBJRfYunVreeyxx8r555+/5Nu2QQIECBColoDgZbXqQ24IECDQN4Grrrqq3HvvvX3bvg0TIECAAAECBAgQIECAAAECzRW47777ytVXX91cACUnQIAAgVkBwctZCk8IECDQbIGzzz67jI+Pl2wsSAQIECBAgAABAgQIECBAgACBpRLIztQTExPlzDPPXKpN2g4BAgQIVFhA8LLClSNrBAgQWGqBHH2Z07Tcf//9S71p2yNAgAABAgQIECBAgAABAgQaKPCnP/2pPPvss+U1r3lNA0uvyAQIECBwIoGhw5FO9IbXCBAgQKC5Ar/85S/Lhg0byuWXX95cBCUnQIAAAQIECBAgQIAAAQIEeiqQIy4zcHndddf1dDtWToAAAQL1EhC8rFd9yS0BAgSWTODOO+8sk5OTrQDmaaedtmTbtSECBAgQIECAAAECBAgQIEBgsAVy1qcMXK5evdqIy8GuaqUjQIDASQkIXp4Umw8RIECgGQL//ve/y1133VXyfphnnHFG2bx5cxkaGmpG4ZWSAAECBAgQIECAAAECBAgQWDSBnADwkUceKU8//XTJ6w1565qzzjpr0dZvRQQIECAwOAKCl4NTl0pCgACBngk8/PDD5aGHHmo1Ms4999wyPDxcxsfHy4oVK3q2TSsmQKA+AqOjo2Vqaqo+GZZTAgQIECBAoKcCzg16ymvlBGolsH///tasTtPT02XLli2tTtEXXnhhOe+882pVDpklQIAAgaUVELxcWm9bI0CAQO0FnnjiiVbDI6eUPXDgQO3LowAECCxcIDsy5EUJiQABAgQIECCQAs4N7AcECHQERkZGWp2fJyYmysaNGzsv+02AAAECBF5UQPDyRXm8SYAAAQIECBAgQIAAAQIECBAgQIAAAQIECBAgQIDAUgkML9WGbIcAAQIECBAgQIAAAQIEBlvglltuGewCKh0BAgQIECBAgAABAgQI9FxA8LLnxDZAgAABAgQIECBAgAABAgQIECBAgAABAgQIECBAgEA3AoKX3ShZhgABAgQIECBAgAABAgQIECBAgAABAgQIECBAgACBngsIXvac2AYIECBAgAABAgQIECBAgAABAgQIECBAgAABAgQIEOhGQPCyGyXLECBAgAABAgQIECBAgAABAgQIECBAgAABAgQIECDQcwHBy54T2wABAgQIECBAgAABAgQIECBAgAABAgQIECBAgAABAt0ICF52o2QZAgQIECBAgAABAgQIECBAgAABAgQIECBAgAABAgR6LiB42XNiGyBAgAABAgQIECBAgAABAgQIECBAgAABAgQIECBAoBsBwctulCxDgAABAgQIECBAgAABAgQIECBAgAABAgQIECBAgEDPBQQve05sAwQIECBAgAABAgQIECBAgAABAgQIECBAgAABAgQIdCMgeNmNkmUIECBAgAABAgQIECBAgAABAgQIECBAgAABAgQIEOi5gOBlz4ltgAABAgQIECBAgAABAgQIECBAgAABAgQIECBAgACBbgQEL7tRsgwBAgQIECBAgAABAgQIECBAgAABAgQIECBAgAABAj0XELzsObENECBAgAABAgQIECBAgAABAgQIECBAgAABAgQIECDQjYDgZTdKliFAgAABAgQIECBAgAABAgQIECBAgAABAgQIECBAoOcCgpc9J7YBAgQIECBAgAABAgQIECBAgAABAgQIECBAgAABAgS6ERC87EbJMgQIECBAgAABAgQIECBAgAABAgQIECBAgAABAgQI9FxA8LLnxDZAgAABAgQIECBAgAABAgQIECBAgAABAgQIECBAgEA3AoKX3ShZhgABAgQIECBAgAABAgQIECBAgAABAgQIECBAgACBngsIXvac2AYIECBAgAABAgQIECBAgAABAgQIECBAgAABAgQIEOhGYOhwpG4WtAwBAgQIECBAgAABAgQIECBAgAABAgQIECBAgAABAgR6KWDkZS91rZsAAQIECBAgQIAAAQIECBAgQIAAAQIECBAgQIAAga4FBC+7prIgAQIECBAgQIAAAQIECBAgQIAAAQIECBAgQIAAAQK9FBC87KWudRMgQIAAAQIECBAgQIAAAQIECBAgQIAAAQIECBAg0LWA4GXXVBYkQIAAAQIECBAgQIAAAQIECBAgQIAAAQIECBAgQKCXAoKXvdS1bgIECBAgQIAAAQIECBAgQIAAAQIECBAgQIAAAQIEuhYQvOyayoIECBAgQIAAAQIECBAgQIAAAQIECBAgQIAAAQIECPRSQPCyl7rWTYAAAQIECBAgQIAAAQIECBAgQIAAAQIECBAgQIBA1wKCl11TWZAAAQIECBAgQIAAAQIECBAgQIAAAQIECBAgQIAAgV4KCF72Ute6CRAgQIAAAQIECBAgQIAAAQIECBAgQIAAAQIECBDoWkDwsmsqCxIgQIAAAQIECBAgQIAAAQIECBAgQIAAAQIECBAg0EsBwcte6lo3AQIECBAgQIAAAQIECBAgQIAAAQIECBAgQIAAAQJdCwhedk1lQQIECBAgQIAAAQIECAyWwEc+8pHyxS9+cbZQDz74YLn22mvLfffdN/taVZ589KMfLV/4whfmlZ3bbrutVZ6pqal5fc7CBAgQIECAAAECBAgQINA/geX927QtEyBAgAABAgQIECBAgMB8BXbv3l3e9ra3nfBjV1xxRbn55ptP+N6JXrz77rvLueeeO/vWrl27yh133FG2b98++1pVntxzzz3lzDPPnFd2/vOf/7TKc+jQoXl9zsIECBAgQIAAAQIECBAg0D8Bwcv+2dsyAQIECBAgQIAAAQIE5i1w8ODBVkDuzW9+c3nVq1511OePDEQe9cYL/HH48OGSj07qPO/87rxehd/T09MlH/NJnXJ0fs/ns5YlQIAAAQIECBAgQIAAgf4ICF72x91WCRAgQIAAAQIECBAgcFICnUDcm970pnLDDTec1Drq+KFly5aV4WF3Pqlj3ckzAQIECBAgQIAAAQIE5iOg5TcfLcsSIECAAAECBAgQIECgBgI33nhj+eQnP3lUTv/yl7+07v/45z//+ajX5/tH3hMz1/Wd73ynjI+Pl6GhoZL3o8x05513tqahXbVqVXnHO95RnnvuueNW//nPf75ceeWVZd26deWtb31r+dnPfnbcMnnvzXe/+93l9NNPLxMTE+Uzn/lMGR0dPW7kZU4L+4EPfKC89KUvLZs2bSof//jHj1uXFwgQIECAAAECBAgQIECgXgJGXtarvuSWAAECBAgQIECAAAECcwpkgPLYwOHOnTtb083u2LFjzs+/2AJ5T8z3v//95bzzzis//OEPyy9+8YvyrW99qxw4cKDkPTRvuummkkHFr371q60A6ve+973Z1WVA8yc/+Un58pe/XC699NLy3e9+t7zlLW8pv/rVr8p1113XWi7vt/n617++5EjLfH9kZKTccsst5Xe/+10rINpZWZbn6quvLitXrmxta3JysrXevL/lt7/97c5ifhMgQIAAAQIECBAgQIBAzQQEL2tWYbJLgAABAgQIECBAgECzBXKkY6af//znJQN9nZSjHXPE5VKkjRs3lltvvbW1qbe//e2tAObtt9/eCl7mCMhMTzzxRDkycPnrX/+6Fbj8wQ9+UN73vvfNfvaaa64pn/jEJ0qOtsyUwc9nnnmmPPDAA+XlL39567W8v2c+70yZmy9+7Wtfa00je88995TVq1e3lrvqqqvKK1/5ypKjO88+++zWa34QIECAAAECBAgQIECAQL0EBC/rVV9yS4AAAQIECBAgQIAAgZbAww8/XPbu3TursWbNmtnnvXqyf//+1qrf+MY3HrWJzZs3t0ZedgKX+eZZZ511VHD1tttuK6eccsps4LKzgpzq9T3veU/5+9//Xi6++OKSy11//fWzgcvOcjnC8sjgZS73rne9azZwmctdfvnlZWxsrNx///2Clx04vwkQIECAAAECBAgQIFAzAcHLmlWY7BIgQIAAAQIECBAg0GyBTgAvRyvecMMNlcDIqV337dt3VF7ytUy7du0qGVjdsmXLCQOKL3vZy1rLPfTQQ63g5dNPP11ypOVcKYOd+cgRmMemrVu3HvuSvwkQIECAAAECBAgQIECgJgKClzWpKNkkQIAAAQIECBAgQIBAtwJ5v8hOkLPbz/R6uRwRuW3btuM203ltYmKi9d66detaAc/jFjzmhfXr15cPfvCD5eabbz7mHX8SIECAAAECBAgQIECAQJ0FhuuceXknQIAAAQIECBAgQIAAgeMFTj311PLYY48d9caTTz7Z+rtzz8yj3lyCP3Kq2czT3XfffdTWfvzjH7dGZr761a9uvX7++eeXO++886hl8o+pqalyZN6vu+668tOf/vS45bxAgAABAgQIECBAgAABAvUWELysd/3JPQECBAgQIECAAAECBI4TuPLKK8vjjz9efv/735cdO3aUb3zjG+Vzn/tca7nh4eebgTka8oknnpj9fP6dKaduXez0sY99rFx00UXlne98Z/nDH/5Qdu7cWb7+9a+X73//++VLX/pS616Vuc0bb7yx5P08836WTz31VHn00UdbIyz/9re/HZWlr3zlK61gaK7v3nvvbb33m9/8ptx0002zy3XK0wnczr7hCQECBAgQIECAAAECBAhUVuD5VmtlsyhjBAgQIECAAAECBAgQIDAfgQ9/+MMlRzq+7nWvKzm96m233VZ+9KMftVZx6NCh2VVde+215a677moFD/PFSy+9tJx++unlve99b08CmLfffntrlOVrX/vaktPDfvazny2f+tSnyqc//enZPOX9Lr/5zW+WW2+9tWzcuLG84hWvKOPj4+VDH/rQUVPhXnjhha2Rl7/97W/LFVdc0RqV+YY3vKHs2bNndl25nUzXX3/97GueECBAgAABAgQIECBAgEC1BYbiPiiHq51FuSNAgAABAgQIECBAgACBkxH461//2gpGbtiw4QU/fscdd5RLLrmktVwulCMd83HNNde84GcW+kaOCD148GA588wzS04Te6K0a9eu8o9//KPkKNIXS7t3756dijYDmps2bTpq8QceeKAV9LzsssuOet0fBAgQIECAAAECBAgQIFBNAcHLataLXBEgQIAAAQIECBAgQIAAAQIECBAgQIAAAQIECBBonIBpYxtX5QpMgAABAgQIECBAgAABAgQIECBAgAABAgQIECBAoJoCgpfVrBe5IkCAAAECBAgQIECAAAECBAgQIECAAAECBAgQINA4AcHLxlW5AhMgQIAAAQIECBAgQIAAAQIECBAgQIAAAQIECBCopoDgZTXrRa4IECBAgAABAgQIECBAgAABAgQIECBAgAABAgQINE5A8LJxVa7ABAgQIECAAAECBAgQIECAAAECBAgQIECAAAECBKopIHhZzXqRKwIECBAgQIAAAQIECBAgQIAAAQIECBAgQIAAAQKNExC8bFyVKzABAgQIECBAgAABAgQIECBAgAABAgQIECBAgACBagoIXlazXuSKAAECBAgQIECAAAECBAgQIECAAAECBAgQIECAQOMEBC8bV+UKTIAAAQIECBAgQIAAAQIECBAgQIAAAQIECBAgQKCaAoKX1awXuSJAgAABAgQIECBAgAABAgQIECBAgAABAgQIECDQOAHBy8ZVuQITIECAAAECBAgQIECAAAECBAgQIECAAAECBAgQqKaA4GU160WuCBAgQIAAAQIECBAgQIAAAQIECBAgQIAAAQIECDROQPCycVWuwAQIECBAgAABAgQIECBAgAABAgQIECBAgAABAgSqKSB4Wc16kSsCBAgQIECAAAECBAgQIECAAAECBAgQIECAAAECjRMQvGxclSswAQIECBAgQIAAAQIECBAgQIAAAQIECBAgQIAAgWoKCF5Ws17kigABAgQIECBAgAABAgQIECBAgAABAgQIECBAgEDjBAQvG1flCkyAAAECBAgQIECAAAECBAgQIECAAAECBAgQIECgmgKCl9WsF7kiQIAAAQIECBAgQIAAAQIECBAgQIAAAQIECBAg0DgBwcvGVbkCEyBAgAABAgQIECBAgAABAgQIECBAgAABAgQIEKimwP8BbWehk26PF2EAAAAASUVORK5CYII=)\n",
        "\n",
        "\n",
        "import AutoModel from transformers. Also use from_pretrained() method.\n",
        "Use the same check point.\n",
        "\n"
      ],
      "metadata": {
        "id": "VK41aWXnCp5D"
      }
    },
    {
      "cell_type": "code",
      "source": [
        "from transformers import AutoModel\n",
        "\n",
        "model = AutoModel.from_pretrained(checkpoint)\n",
        "outputs = model(**inputs)                                                        ## use **inputs instead of input because the inputs from the previous code is a dictionary.\n",
        "                                                                                ## to use the values in the dictionary, I need to unpack it using ** (https://docs.python.org/3/tutorial/controlflow.html#arbitrary-argument-lists) see 4.8.5\n",
        "print(outputs, outputs.last_hidden_state.shape)                                   ## .last_hidden_state.shape shows contains the hidden representations for each token in each sequence of the batch. So the size is (batch_size, seq_len, hidden_size)."
      ],
      "metadata": {
        "colab": {
          "base_uri": "https://localhost:8080/"
        },
        "id": "9l34BUvACTRc",
        "outputId": "865c1799-96fc-4f50-edfc-0887dd1956c1"
      },
      "execution_count": 13,
      "outputs": [
        {
          "output_type": "stream",
          "name": "stdout",
          "text": [
            "BaseModelOutput(last_hidden_state=tensor([[[-0.1798,  0.2333,  0.6321,  ..., -0.3017,  0.5008,  0.1481],\n",
            "         [ 0.2758,  0.6497,  0.3200,  ..., -0.0760,  0.5136,  0.1329],\n",
            "         [ 0.9046,  0.0985,  0.2950,  ...,  0.3352, -0.1407, -0.6464],\n",
            "         ...,\n",
            "         [ 0.1466,  0.5661,  0.3235,  ..., -0.3376,  0.5100, -0.0561],\n",
            "         [ 0.7500,  0.0487,  0.1738,  ...,  0.4684,  0.0030, -0.6084],\n",
            "         [ 0.0519,  0.3729,  0.5223,  ...,  0.3584,  0.6500, -0.3883]],\n",
            "\n",
            "        [[-0.2937,  0.7283, -0.1497,  ..., -0.1187, -1.0227, -0.0422],\n",
            "         [-0.2206,  0.9384, -0.0951,  ..., -0.3643, -0.6605,  0.2407],\n",
            "         [-0.1536,  0.8988, -0.0728,  ..., -0.2189, -0.8528,  0.0710],\n",
            "         ...,\n",
            "         [-0.3017,  0.9002, -0.0200,  ..., -0.1082, -0.8412, -0.0861],\n",
            "         [-0.3338,  0.9674, -0.0729,  ..., -0.1952, -0.8181, -0.0634],\n",
            "         [-0.3454,  0.8824, -0.0426,  ..., -0.0993, -0.8329, -0.1065]]],\n",
            "       grad_fn=<NativeLayerNormBackward0>), hidden_states=None, attentions=None) torch.Size([2, 16, 768])\n"
          ]
        }
      ]
    },
    {
      "cell_type": "markdown",
      "source": [
        "The torch.Size([2, 16, 768]) shows that the batch size is 2 (we had 2 sentences in the input), sequence length is 16(we had 16 tokens per sentence) and hidden size is 768 (which is common for smaller models)\n",
        "\n",
        "AutoModel was used in the previous code to show the structure but the task we are interested in is finding the sentiment of the sentences.\n",
        "To find the sentiments of the sentence, import AutoModelForSequenceClassification.\n",
        "use the same checkpoint."
      ],
      "metadata": {
        "id": "RCkit4kOQVP5"
      }
    },
    {
      "cell_type": "code",
      "source": [
        "from transformers import AutoModelForSequenceClassification\n",
        "\n",
        "model = AutoModelForSequenceClassification.from_pretrained(checkpoint)\n",
        "outputs=model(**inputs)\n",
        "print(outputs.logits.shape)\n",
        "print(outputs.logits)\n"
      ],
      "metadata": {
        "colab": {
          "base_uri": "https://localhost:8080/"
        },
        "id": "n3iOA5PjQU4w",
        "outputId": "fcf0e779-9868-437d-89a9-d59ca726b00a"
      },
      "execution_count": 19,
      "outputs": [
        {
          "output_type": "stream",
          "name": "stdout",
          "text": [
            "torch.Size([2, 2])\n",
            "tensor([[-1.5607,  1.6123],\n",
            "        [ 4.1692, -3.3464]], grad_fn=<AddmmBackward0>)\n"
          ]
        }
      ]
    },
    {
      "cell_type": "markdown",
      "source": [
        "the outputs.logits.shape retreives [2.2], which shows that there were 2 sentences and 2 labels.  \n",
        "The outputs.logits retrieves [-1.5607,  1.6123], which is the raw number for the fist sentence, and retrives [ 4.1692, -3.3464], whcih is the raw number for the second sentence.\n",
        "\n",
        "But these are raw, unnofmralized scores. TO see the probabilities, we need to convert the output using SoftMax layer.\n",
        "\n",
        "import torch"
      ],
      "metadata": {
        "id": "_i4M-vAQSTYp"
      }
    },
    {
      "cell_type": "code",
      "source": [
        "import torch\n",
        "predictions = torch.nn.functional.softmax(outputs.logits, dim=-1)      ## The nn package defines a set of Modules, which you can think of as a neural network layer that produces output from input and may have some trainable weights.\n",
        "print(predictions)\n",
        "model.config.id2label"
      ],
      "metadata": {
        "colab": {
          "base_uri": "https://localhost:8080/"
        },
        "id": "ABkowHz5S-HE",
        "outputId": "7229acf5-4615-4ccd-b416-ec587e4140b5"
      },
      "execution_count": 23,
      "outputs": [
        {
          "output_type": "stream",
          "name": "stdout",
          "text": [
            "tensor([[4.0195e-02, 9.5980e-01],\n",
            "        [9.9946e-01, 5.4418e-04]], grad_fn=<SoftmaxBackward0>)\n"
          ]
        },
        {
          "output_type": "execute_result",
          "data": {
            "text/plain": [
              "{0: 'NEGATIVE', 1: 'POSITIVE'}"
            ]
          },
          "metadata": {},
          "execution_count": 23
        }
      ]
    },
    {
      "cell_type": "markdown",
      "source": [
        "The prediction shows the probability of each sentence.\n",
        "To see the lables of the model, I add model.config.id2lbles.\n",
        "So, this means that for the first sentence, the percentage of time that the sentence is negative is 4.0195e-02%. And the percentage of tiem that the sentence is positive is 9.5980e-01%.\n"
      ],
      "metadata": {
        "id": "xFzqW0NyU6AS"
      }
    },
    {
      "cell_type": "markdown",
      "source": [
        "## Taking a closer look at the Model\n",
        "\n",
        "Configuration: configuration file is a text file describing the parameters, choices, settings, and preferences that are applied to systems and applications. It shows my machine learning projects (https://www.tasq.ai/glossary/model-configuration/#:~:text=A%20config%20file%20is%20a,may%20utilize%20a%20configuration%20file.)\n",
        "\n",
        "### Creating a Transformer\n",
        "\n",
        "Create a transformer using BERT.  \n",
        "\n",
        "1. load conficuration object (BertConfig).  \n",
        "2. build a model from the configuration (BertModel)."
      ],
      "metadata": {
        "id": "Ah9SHX0hZbyS"
      }
    },
    {
      "cell_type": "code",
      "source": [
        "from transformers import BertConfig, BertModel\n",
        "\n",
        "#load and build the configuration of Bert\n",
        "config = BertConfig()\n",
        "#Building the model from confic\n",
        "model = BertModel(config)\n",
        "\n",
        "print(config)\n",
        "print(model)"
      ],
      "metadata": {
        "colab": {
          "base_uri": "https://localhost:8080/"
        },
        "id": "IFeGZRf1ZbZf",
        "outputId": "22fd53e7-1108-4cc8-8426-37eea46f5457"
      },
      "execution_count": 26,
      "outputs": [
        {
          "output_type": "stream",
          "name": "stdout",
          "text": [
            "BertConfig {\n",
            "  \"attention_probs_dropout_prob\": 0.1,\n",
            "  \"classifier_dropout\": null,\n",
            "  \"hidden_act\": \"gelu\",\n",
            "  \"hidden_dropout_prob\": 0.1,\n",
            "  \"hidden_size\": 768,\n",
            "  \"initializer_range\": 0.02,\n",
            "  \"intermediate_size\": 3072,\n",
            "  \"layer_norm_eps\": 1e-12,\n",
            "  \"max_position_embeddings\": 512,\n",
            "  \"model_type\": \"bert\",\n",
            "  \"num_attention_heads\": 12,\n",
            "  \"num_hidden_layers\": 12,\n",
            "  \"pad_token_id\": 0,\n",
            "  \"position_embedding_type\": \"absolute\",\n",
            "  \"transformers_version\": \"4.31.0\",\n",
            "  \"type_vocab_size\": 2,\n",
            "  \"use_cache\": true,\n",
            "  \"vocab_size\": 30522\n",
            "}\n",
            "\n",
            "BertModel(\n",
            "  (embeddings): BertEmbeddings(\n",
            "    (word_embeddings): Embedding(30522, 768, padding_idx=0)\n",
            "    (position_embeddings): Embedding(512, 768)\n",
            "    (token_type_embeddings): Embedding(2, 768)\n",
            "    (LayerNorm): LayerNorm((768,), eps=1e-12, elementwise_affine=True)\n",
            "    (dropout): Dropout(p=0.1, inplace=False)\n",
            "  )\n",
            "  (encoder): BertEncoder(\n",
            "    (layer): ModuleList(\n",
            "      (0-11): 12 x BertLayer(\n",
            "        (attention): BertAttention(\n",
            "          (self): BertSelfAttention(\n",
            "            (query): Linear(in_features=768, out_features=768, bias=True)\n",
            "            (key): Linear(in_features=768, out_features=768, bias=True)\n",
            "            (value): Linear(in_features=768, out_features=768, bias=True)\n",
            "            (dropout): Dropout(p=0.1, inplace=False)\n",
            "          )\n",
            "          (output): BertSelfOutput(\n",
            "            (dense): Linear(in_features=768, out_features=768, bias=True)\n",
            "            (LayerNorm): LayerNorm((768,), eps=1e-12, elementwise_affine=True)\n",
            "            (dropout): Dropout(p=0.1, inplace=False)\n",
            "          )\n",
            "        )\n",
            "        (intermediate): BertIntermediate(\n",
            "          (dense): Linear(in_features=768, out_features=3072, bias=True)\n",
            "          (intermediate_act_fn): GELUActivation()\n",
            "        )\n",
            "        (output): BertOutput(\n",
            "          (dense): Linear(in_features=3072, out_features=768, bias=True)\n",
            "          (LayerNorm): LayerNorm((768,), eps=1e-12, elementwise_affine=True)\n",
            "          (dropout): Dropout(p=0.1, inplace=False)\n",
            "        )\n",
            "      )\n",
            "    )\n",
            "  )\n",
            "  (pooler): BertPooler(\n",
            "    (dense): Linear(in_features=768, out_features=768, bias=True)\n",
            "    (activation): Tanh()\n",
            "  )\n",
            ")\n"
          ]
        }
      ]
    },
    {
      "cell_type": "markdown",
      "source": [
        "At this point, the model was made but it is NOT traind AT ALL. So I need to train the model first. However, training the model would take a lot of time and datasets. Hence, I can use the from_pretrained() method to use the model that is already traind instead of BertConfig.\n",
        "\n",
        "use \"bert-base-cased\" identifier (trained by authors of BERT)."
      ],
      "metadata": {
        "id": "I0CLsYzLcjxS"
      }
    },
    {
      "cell_type": "code",
      "source": [
        "model = BertModel.from_pretrained(\"bert-base-cased\")"
      ],
      "metadata": {
        "id": "VMECO8WxceP5"
      },
      "execution_count": 31,
      "outputs": []
    },
    {
      "cell_type": "code",
      "source": [
        "model.save_pretrained(\"directory_on_my_computer\")"
      ],
      "metadata": {
        "id": "LZrpgjNad_Zt"
      },
      "execution_count": 32,
      "outputs": []
    },
    {
      "cell_type": "markdown",
      "source": [
        "see the file icon in the left. I have two files: config.json, pytorch_model.bin (config.json file: the attributes necessary to build the model architecture. some metadata, such as where the checkpoint originated and what 🤗 Transformers version you were using when you last saved the checkpoint. The pytorch_model.bin file: state dictionary; it contains all your model’s weights.).\n",
        "The two files go hand in hand; the configuration is necessary to know your model’s architecture, while the model weights are your model’s parameters."
      ],
      "metadata": {
        "id": "fwzB2NKIcvG-"
      }
    },
    {
      "cell_type": "markdown",
      "source": [
        "## Input form for Transformer models\n",
        "\n",
        "Transformer models only process numbers. Numbers that the tokenizer geenrates.\n",
        "\n",
        "use the sequence [\"Hello!\", \"Cool\", \"Nice!\"] and converts these to sequences (input ID)\n",
        "\n"
      ],
      "metadata": {
        "id": "YsFnKTu6fHE8"
      }
    },
    {
      "cell_type": "code",
      "source": [
        "sequences= [\"Hello!\", \"Cool.\", \"Nice!\"]"
      ],
      "metadata": {
        "id": "sIMGYk3vedzC"
      },
      "execution_count": 33,
      "outputs": []
    },
    {
      "cell_type": "code",
      "source": [
        "encoded_sequences = [\n",
        "    [101, 7592, 999, 102],\n",
        "    [101, 4658, 1012, 102],\n",
        "    [101, 3835, 999, 102],\n",
        "]"
      ],
      "metadata": {
        "id": "CwwOr0EMfe-z"
      },
      "execution_count": 34,
      "outputs": []
    },
    {
      "cell_type": "markdown",
      "source": [
        "Tensor only accept rectangular shapes!"
      ],
      "metadata": {
        "id": "h8a16eByfiWf"
      }
    },
    {
      "cell_type": "code",
      "source": [
        "import torch\n",
        "\n",
        "model_input = torch.tensor(encoded_sequences)\n",
        "output = model(model_input)"
      ],
      "metadata": {
        "id": "nZ523u5yfpTB"
      },
      "execution_count": 36,
      "outputs": []
    }
  ]
}